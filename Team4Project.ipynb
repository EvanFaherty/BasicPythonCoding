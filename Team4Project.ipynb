{
 "cells": [
  {
   "cell_type": "code",
   "execution_count": 1,
   "metadata": {},
   "outputs": [],
   "source": [
    "# import numpy as np\n",
    "import pandas as pd"
   ]
  },
  {
   "cell_type": "code",
   "execution_count": 2,
   "metadata": {},
   "outputs": [],
   "source": [
    "df_CA = pd.read_csv(\"CAvideos.csv\")"
   ]
  },
  {
   "cell_type": "code",
   "execution_count": 3,
   "metadata": {},
   "outputs": [
    {
     "data": {
      "text/html": [
       "<div>\n",
       "<style scoped>\n",
       "    .dataframe tbody tr th:only-of-type {\n",
       "        vertical-align: middle;\n",
       "    }\n",
       "\n",
       "    .dataframe tbody tr th {\n",
       "        vertical-align: top;\n",
       "    }\n",
       "\n",
       "    .dataframe thead th {\n",
       "        text-align: right;\n",
       "    }\n",
       "</style>\n",
       "<table border=\"1\" class=\"dataframe\">\n",
       "  <thead>\n",
       "    <tr style=\"text-align: right;\">\n",
       "      <th></th>\n",
       "      <th>video_id</th>\n",
       "      <th>trending_date</th>\n",
       "      <th>title</th>\n",
       "      <th>channel_title</th>\n",
       "      <th>category_id</th>\n",
       "      <th>publish_time</th>\n",
       "      <th>tags</th>\n",
       "      <th>views</th>\n",
       "      <th>likes</th>\n",
       "      <th>dislikes</th>\n",
       "      <th>comment_count</th>\n",
       "      <th>thumbnail_link</th>\n",
       "      <th>comments_disabled</th>\n",
       "      <th>ratings_disabled</th>\n",
       "      <th>video_error_or_removed</th>\n",
       "      <th>description</th>\n",
       "    </tr>\n",
       "  </thead>\n",
       "  <tbody>\n",
       "    <tr>\n",
       "      <th>0</th>\n",
       "      <td>n1WpP7iowLc</td>\n",
       "      <td>17.14.11</td>\n",
       "      <td>Eminem - Walk On Water (Audio) ft. Beyoncé</td>\n",
       "      <td>EminemVEVO</td>\n",
       "      <td>10</td>\n",
       "      <td>2017-11-10T17:00:03.000Z</td>\n",
       "      <td>Eminem|\"Walk\"|\"On\"|\"Water\"|\"Aftermath/Shady/In...</td>\n",
       "      <td>17158579</td>\n",
       "      <td>787425</td>\n",
       "      <td>43420</td>\n",
       "      <td>125882</td>\n",
       "      <td>https://i.ytimg.com/vi/n1WpP7iowLc/default.jpg</td>\n",
       "      <td>False</td>\n",
       "      <td>False</td>\n",
       "      <td>False</td>\n",
       "      <td>Eminem's new track Walk on Water ft. Beyoncé i...</td>\n",
       "    </tr>\n",
       "    <tr>\n",
       "      <th>1</th>\n",
       "      <td>0dBIkQ4Mz1M</td>\n",
       "      <td>17.14.11</td>\n",
       "      <td>PLUSH - Bad Unboxing Fan Mail</td>\n",
       "      <td>iDubbbzTV</td>\n",
       "      <td>23</td>\n",
       "      <td>2017-11-13T17:00:00.000Z</td>\n",
       "      <td>plush|\"bad unboxing\"|\"unboxing\"|\"fan mail\"|\"id...</td>\n",
       "      <td>1014651</td>\n",
       "      <td>127794</td>\n",
       "      <td>1688</td>\n",
       "      <td>13030</td>\n",
       "      <td>https://i.ytimg.com/vi/0dBIkQ4Mz1M/default.jpg</td>\n",
       "      <td>False</td>\n",
       "      <td>False</td>\n",
       "      <td>False</td>\n",
       "      <td>STill got a lot of packages. Probably will las...</td>\n",
       "    </tr>\n",
       "    <tr>\n",
       "      <th>2</th>\n",
       "      <td>5qpjK5DgCt4</td>\n",
       "      <td>17.14.11</td>\n",
       "      <td>Racist Superman | Rudy Mancuso, King Bach &amp; Le...</td>\n",
       "      <td>Rudy Mancuso</td>\n",
       "      <td>23</td>\n",
       "      <td>2017-11-12T19:05:24.000Z</td>\n",
       "      <td>racist superman|\"rudy\"|\"mancuso\"|\"king\"|\"bach\"...</td>\n",
       "      <td>3191434</td>\n",
       "      <td>146035</td>\n",
       "      <td>5339</td>\n",
       "      <td>8181</td>\n",
       "      <td>https://i.ytimg.com/vi/5qpjK5DgCt4/default.jpg</td>\n",
       "      <td>False</td>\n",
       "      <td>False</td>\n",
       "      <td>False</td>\n",
       "      <td>WATCH MY PREVIOUS VIDEO ▶ \\n\\nSUBSCRIBE ► http...</td>\n",
       "    </tr>\n",
       "    <tr>\n",
       "      <th>3</th>\n",
       "      <td>d380meD0W0M</td>\n",
       "      <td>17.14.11</td>\n",
       "      <td>I Dare You: GOING BALD!?</td>\n",
       "      <td>nigahiga</td>\n",
       "      <td>24</td>\n",
       "      <td>2017-11-12T18:01:41.000Z</td>\n",
       "      <td>ryan|\"higa\"|\"higatv\"|\"nigahiga\"|\"i dare you\"|\"...</td>\n",
       "      <td>2095828</td>\n",
       "      <td>132239</td>\n",
       "      <td>1989</td>\n",
       "      <td>17518</td>\n",
       "      <td>https://i.ytimg.com/vi/d380meD0W0M/default.jpg</td>\n",
       "      <td>False</td>\n",
       "      <td>False</td>\n",
       "      <td>False</td>\n",
       "      <td>I know it's been a while since we did this sho...</td>\n",
       "    </tr>\n",
       "    <tr>\n",
       "      <th>4</th>\n",
       "      <td>2Vv-BfVoq4g</td>\n",
       "      <td>17.14.11</td>\n",
       "      <td>Ed Sheeran - Perfect (Official Music Video)</td>\n",
       "      <td>Ed Sheeran</td>\n",
       "      <td>10</td>\n",
       "      <td>2017-11-09T11:04:14.000Z</td>\n",
       "      <td>edsheeran|\"ed sheeran\"|\"acoustic\"|\"live\"|\"cove...</td>\n",
       "      <td>33523622</td>\n",
       "      <td>1634130</td>\n",
       "      <td>21082</td>\n",
       "      <td>85067</td>\n",
       "      <td>https://i.ytimg.com/vi/2Vv-BfVoq4g/default.jpg</td>\n",
       "      <td>False</td>\n",
       "      <td>False</td>\n",
       "      <td>False</td>\n",
       "      <td>🎧: https://ad.gt/yt-perfect\\n💰: https://atlant...</td>\n",
       "    </tr>\n",
       "    <tr>\n",
       "      <th>5</th>\n",
       "      <td>0yIWz1XEeyc</td>\n",
       "      <td>17.14.11</td>\n",
       "      <td>Jake Paul Says Alissa Violet CHEATED with LOGA...</td>\n",
       "      <td>DramaAlert</td>\n",
       "      <td>25</td>\n",
       "      <td>2017-11-13T07:37:51.000Z</td>\n",
       "      <td>#DramaAlert|\"Drama\"|\"Alert\"|\"DramaAlert\"|\"keem...</td>\n",
       "      <td>1309699</td>\n",
       "      <td>103755</td>\n",
       "      <td>4613</td>\n",
       "      <td>12143</td>\n",
       "      <td>https://i.ytimg.com/vi/0yIWz1XEeyc/default.jpg</td>\n",
       "      <td>False</td>\n",
       "      <td>False</td>\n",
       "      <td>False</td>\n",
       "      <td>► Follow for News! - https://twitter.com/KEEMS...</td>\n",
       "    </tr>\n",
       "    <tr>\n",
       "      <th>6</th>\n",
       "      <td>_uM5kFfkhB8</td>\n",
       "      <td>17.14.11</td>\n",
       "      <td>Vanoss Superhero School - New Students</td>\n",
       "      <td>VanossGaming</td>\n",
       "      <td>23</td>\n",
       "      <td>2017-11-12T23:52:13.000Z</td>\n",
       "      <td>Funny Moments|\"Montage video games\"|\"gaming\"|\"...</td>\n",
       "      <td>2987945</td>\n",
       "      <td>187464</td>\n",
       "      <td>9850</td>\n",
       "      <td>26629</td>\n",
       "      <td>https://i.ytimg.com/vi/_uM5kFfkhB8/default.jpg</td>\n",
       "      <td>False</td>\n",
       "      <td>False</td>\n",
       "      <td>False</td>\n",
       "      <td>Vanoss Merch Shop: https://vanoss.3blackdot.co...</td>\n",
       "    </tr>\n",
       "    <tr>\n",
       "      <th>7</th>\n",
       "      <td>2kyS6SvSYSE</td>\n",
       "      <td>17.14.11</td>\n",
       "      <td>WE WANT TO TALK ABOUT OUR MARRIAGE</td>\n",
       "      <td>CaseyNeistat</td>\n",
       "      <td>22</td>\n",
       "      <td>2017-11-13T17:13:01.000Z</td>\n",
       "      <td>SHANtell martin</td>\n",
       "      <td>748374</td>\n",
       "      <td>57534</td>\n",
       "      <td>2967</td>\n",
       "      <td>15959</td>\n",
       "      <td>https://i.ytimg.com/vi/2kyS6SvSYSE/default.jpg</td>\n",
       "      <td>False</td>\n",
       "      <td>False</td>\n",
       "      <td>False</td>\n",
       "      <td>SHANTELL'S CHANNEL - https://www.youtube.com/s...</td>\n",
       "    </tr>\n",
       "    <tr>\n",
       "      <th>8</th>\n",
       "      <td>JzCsM1vtn78</td>\n",
       "      <td>17.14.11</td>\n",
       "      <td>THE LOGANG MADE HISTORY. LOL. AGAIN.</td>\n",
       "      <td>Logan Paul Vlogs</td>\n",
       "      <td>24</td>\n",
       "      <td>2017-11-12T20:19:24.000Z</td>\n",
       "      <td>logan paul vlog|\"logan paul\"|\"logan\"|\"paul\"|\"o...</td>\n",
       "      <td>4477587</td>\n",
       "      <td>292837</td>\n",
       "      <td>4123</td>\n",
       "      <td>36391</td>\n",
       "      <td>https://i.ytimg.com/vi/JzCsM1vtn78/default.jpg</td>\n",
       "      <td>False</td>\n",
       "      <td>False</td>\n",
       "      <td>False</td>\n",
       "      <td>Join the movement. Be a Maverick ► https://Sho...</td>\n",
       "    </tr>\n",
       "    <tr>\n",
       "      <th>9</th>\n",
       "      <td>43sm-QwLcx4</td>\n",
       "      <td>17.14.11</td>\n",
       "      <td>Finally Sheldon is winning an argument about t...</td>\n",
       "      <td>Sheikh Musa</td>\n",
       "      <td>22</td>\n",
       "      <td>2017-11-10T14:10:46.000Z</td>\n",
       "      <td>God|\"Sheldon Cooper\"|\"Young Sheldon\"</td>\n",
       "      <td>505161</td>\n",
       "      <td>4135</td>\n",
       "      <td>976</td>\n",
       "      <td>1484</td>\n",
       "      <td>https://i.ytimg.com/vi/43sm-QwLcx4/default.jpg</td>\n",
       "      <td>False</td>\n",
       "      <td>False</td>\n",
       "      <td>False</td>\n",
       "      <td>Sheldon is roasting pastor of the church\\nyoun...</td>\n",
       "    </tr>\n",
       "  </tbody>\n",
       "</table>\n",
       "</div>"
      ],
      "text/plain": [
       "      video_id trending_date  \\\n",
       "0  n1WpP7iowLc      17.14.11   \n",
       "1  0dBIkQ4Mz1M      17.14.11   \n",
       "2  5qpjK5DgCt4      17.14.11   \n",
       "3  d380meD0W0M      17.14.11   \n",
       "4  2Vv-BfVoq4g      17.14.11   \n",
       "5  0yIWz1XEeyc      17.14.11   \n",
       "6  _uM5kFfkhB8      17.14.11   \n",
       "7  2kyS6SvSYSE      17.14.11   \n",
       "8  JzCsM1vtn78      17.14.11   \n",
       "9  43sm-QwLcx4      17.14.11   \n",
       "\n",
       "                                               title     channel_title  \\\n",
       "0         Eminem - Walk On Water (Audio) ft. Beyoncé        EminemVEVO   \n",
       "1                      PLUSH - Bad Unboxing Fan Mail         iDubbbzTV   \n",
       "2  Racist Superman | Rudy Mancuso, King Bach & Le...      Rudy Mancuso   \n",
       "3                           I Dare You: GOING BALD!?          nigahiga   \n",
       "4        Ed Sheeran - Perfect (Official Music Video)        Ed Sheeran   \n",
       "5  Jake Paul Says Alissa Violet CHEATED with LOGA...        DramaAlert   \n",
       "6             Vanoss Superhero School - New Students      VanossGaming   \n",
       "7                 WE WANT TO TALK ABOUT OUR MARRIAGE      CaseyNeistat   \n",
       "8               THE LOGANG MADE HISTORY. LOL. AGAIN.  Logan Paul Vlogs   \n",
       "9  Finally Sheldon is winning an argument about t...       Sheikh Musa   \n",
       "\n",
       "   category_id              publish_time  \\\n",
       "0           10  2017-11-10T17:00:03.000Z   \n",
       "1           23  2017-11-13T17:00:00.000Z   \n",
       "2           23  2017-11-12T19:05:24.000Z   \n",
       "3           24  2017-11-12T18:01:41.000Z   \n",
       "4           10  2017-11-09T11:04:14.000Z   \n",
       "5           25  2017-11-13T07:37:51.000Z   \n",
       "6           23  2017-11-12T23:52:13.000Z   \n",
       "7           22  2017-11-13T17:13:01.000Z   \n",
       "8           24  2017-11-12T20:19:24.000Z   \n",
       "9           22  2017-11-10T14:10:46.000Z   \n",
       "\n",
       "                                                tags     views    likes  \\\n",
       "0  Eminem|\"Walk\"|\"On\"|\"Water\"|\"Aftermath/Shady/In...  17158579   787425   \n",
       "1  plush|\"bad unboxing\"|\"unboxing\"|\"fan mail\"|\"id...   1014651   127794   \n",
       "2  racist superman|\"rudy\"|\"mancuso\"|\"king\"|\"bach\"...   3191434   146035   \n",
       "3  ryan|\"higa\"|\"higatv\"|\"nigahiga\"|\"i dare you\"|\"...   2095828   132239   \n",
       "4  edsheeran|\"ed sheeran\"|\"acoustic\"|\"live\"|\"cove...  33523622  1634130   \n",
       "5  #DramaAlert|\"Drama\"|\"Alert\"|\"DramaAlert\"|\"keem...   1309699   103755   \n",
       "6  Funny Moments|\"Montage video games\"|\"gaming\"|\"...   2987945   187464   \n",
       "7                                    SHANtell martin    748374    57534   \n",
       "8  logan paul vlog|\"logan paul\"|\"logan\"|\"paul\"|\"o...   4477587   292837   \n",
       "9               God|\"Sheldon Cooper\"|\"Young Sheldon\"    505161     4135   \n",
       "\n",
       "   dislikes  comment_count                                  thumbnail_link  \\\n",
       "0     43420         125882  https://i.ytimg.com/vi/n1WpP7iowLc/default.jpg   \n",
       "1      1688          13030  https://i.ytimg.com/vi/0dBIkQ4Mz1M/default.jpg   \n",
       "2      5339           8181  https://i.ytimg.com/vi/5qpjK5DgCt4/default.jpg   \n",
       "3      1989          17518  https://i.ytimg.com/vi/d380meD0W0M/default.jpg   \n",
       "4     21082          85067  https://i.ytimg.com/vi/2Vv-BfVoq4g/default.jpg   \n",
       "5      4613          12143  https://i.ytimg.com/vi/0yIWz1XEeyc/default.jpg   \n",
       "6      9850          26629  https://i.ytimg.com/vi/_uM5kFfkhB8/default.jpg   \n",
       "7      2967          15959  https://i.ytimg.com/vi/2kyS6SvSYSE/default.jpg   \n",
       "8      4123          36391  https://i.ytimg.com/vi/JzCsM1vtn78/default.jpg   \n",
       "9       976           1484  https://i.ytimg.com/vi/43sm-QwLcx4/default.jpg   \n",
       "\n",
       "   comments_disabled  ratings_disabled  video_error_or_removed  \\\n",
       "0              False             False                   False   \n",
       "1              False             False                   False   \n",
       "2              False             False                   False   \n",
       "3              False             False                   False   \n",
       "4              False             False                   False   \n",
       "5              False             False                   False   \n",
       "6              False             False                   False   \n",
       "7              False             False                   False   \n",
       "8              False             False                   False   \n",
       "9              False             False                   False   \n",
       "\n",
       "                                         description  \n",
       "0  Eminem's new track Walk on Water ft. Beyoncé i...  \n",
       "1  STill got a lot of packages. Probably will las...  \n",
       "2  WATCH MY PREVIOUS VIDEO ▶ \\n\\nSUBSCRIBE ► http...  \n",
       "3  I know it's been a while since we did this sho...  \n",
       "4  🎧: https://ad.gt/yt-perfect\\n💰: https://atlant...  \n",
       "5  ► Follow for News! - https://twitter.com/KEEMS...  \n",
       "6  Vanoss Merch Shop: https://vanoss.3blackdot.co...  \n",
       "7  SHANTELL'S CHANNEL - https://www.youtube.com/s...  \n",
       "8  Join the movement. Be a Maverick ► https://Sho...  \n",
       "9  Sheldon is roasting pastor of the church\\nyoun...  "
      ]
     },
     "execution_count": 3,
     "metadata": {},
     "output_type": "execute_result"
    }
   ],
   "source": [
    "data_frame = pd.read_csv(\"CAvideos.csv\")\n",
    "data_frame.head(10)"
   ]
  },
  {
   "cell_type": "code",
   "execution_count": 4,
   "metadata": {},
   "outputs": [
    {
     "name": "stdout",
     "output_type": "stream",
     "text": [
      "<class 'pandas.core.frame.DataFrame'>\n",
      "RangeIndex: 40881 entries, 0 to 40880\n",
      "Data columns (total 16 columns):\n",
      " #   Column                  Non-Null Count  Dtype \n",
      "---  ------                  --------------  ----- \n",
      " 0   video_id                40881 non-null  object\n",
      " 1   trending_date           40881 non-null  object\n",
      " 2   title                   40881 non-null  object\n",
      " 3   channel_title           40881 non-null  object\n",
      " 4   category_id             40881 non-null  int64 \n",
      " 5   publish_time            40881 non-null  object\n",
      " 6   tags                    40881 non-null  object\n",
      " 7   views                   40881 non-null  int64 \n",
      " 8   likes                   40881 non-null  int64 \n",
      " 9   dislikes                40881 non-null  int64 \n",
      " 10  comment_count           40881 non-null  int64 \n",
      " 11  thumbnail_link          40881 non-null  object\n",
      " 12  comments_disabled       40881 non-null  bool  \n",
      " 13  ratings_disabled        40881 non-null  bool  \n",
      " 14  video_error_or_removed  40881 non-null  bool  \n",
      " 15  description             39585 non-null  object\n",
      "dtypes: bool(3), int64(5), object(8)\n",
      "memory usage: 4.2+ MB\n"
     ]
    }
   ],
   "source": [
    "df_CA.info()"
   ]
  },
  {
   "cell_type": "code",
   "execution_count": 5,
   "metadata": {},
   "outputs": [
    {
     "data": {
      "text/plain": [
       "array(['video_id', 'trending_date', 'title', 'channel_title',\n",
       "       'category_id', 'publish_time', 'tags', 'views', 'likes',\n",
       "       'dislikes', 'comment_count', 'thumbnail_link', 'comments_disabled',\n",
       "       'ratings_disabled', 'video_error_or_removed', 'description'],\n",
       "      dtype=object)"
      ]
     },
     "execution_count": 5,
     "metadata": {},
     "output_type": "execute_result"
    }
   ],
   "source": [
    "df_CA.columns.values"
   ]
  },
  {
   "cell_type": "code",
   "execution_count": 6,
   "metadata": {},
   "outputs": [
    {
     "data": {
      "text/plain": [
       "array([    0,     1,     2, ..., 40878, 40879, 40880], dtype=int64)"
      ]
     },
     "execution_count": 6,
     "metadata": {},
     "output_type": "execute_result"
    }
   ],
   "source": [
    "df_CA.index.values"
   ]
  },
  {
   "cell_type": "code",
   "execution_count": 7,
   "metadata": {},
   "outputs": [
    {
     "name": "stdout",
     "output_type": "stream",
     "text": [
      "<class 'pandas.core.indexes.base.Index'>\n",
      "<class 'pandas.core.indexes.range.RangeIndex'>\n"
     ]
    }
   ],
   "source": [
    "print(type(df_CA.columns))\n",
    "print(type(df_CA.index))"
   ]
  },
  {
   "cell_type": "code",
   "execution_count": 8,
   "metadata": {},
   "outputs": [
    {
     "data": {
      "text/plain": [
       "(40881, 16)"
      ]
     },
     "execution_count": 8,
     "metadata": {},
     "output_type": "execute_result"
    }
   ],
   "source": [
    "df_CA.shape"
   ]
  },
  {
   "cell_type": "code",
   "execution_count": 9,
   "metadata": {},
   "outputs": [
    {
     "data": {
      "text/html": [
       "<div>\n",
       "<style scoped>\n",
       "    .dataframe tbody tr th:only-of-type {\n",
       "        vertical-align: middle;\n",
       "    }\n",
       "\n",
       "    .dataframe tbody tr th {\n",
       "        vertical-align: top;\n",
       "    }\n",
       "\n",
       "    .dataframe thead th {\n",
       "        text-align: right;\n",
       "    }\n",
       "</style>\n",
       "<table border=\"1\" class=\"dataframe\">\n",
       "  <thead>\n",
       "    <tr style=\"text-align: right;\">\n",
       "      <th></th>\n",
       "      <th>video_id</th>\n",
       "      <th>trending_date</th>\n",
       "      <th>title</th>\n",
       "      <th>channel_title</th>\n",
       "      <th>category_id</th>\n",
       "      <th>publish_time</th>\n",
       "      <th>tags</th>\n",
       "      <th>views</th>\n",
       "      <th>likes</th>\n",
       "      <th>dislikes</th>\n",
       "      <th>comment_count</th>\n",
       "      <th>thumbnail_link</th>\n",
       "    </tr>\n",
       "  </thead>\n",
       "  <tbody>\n",
       "    <tr>\n",
       "      <th>0</th>\n",
       "      <td>n1WpP7iowLc</td>\n",
       "      <td>17.14.11</td>\n",
       "      <td>Eminem - Walk On Water (Audio) ft. Beyoncé</td>\n",
       "      <td>EminemVEVO</td>\n",
       "      <td>10</td>\n",
       "      <td>2017-11-10T17:00:03.000Z</td>\n",
       "      <td>Eminem|\"Walk\"|\"On\"|\"Water\"|\"Aftermath/Shady/In...</td>\n",
       "      <td>17158579</td>\n",
       "      <td>787425</td>\n",
       "      <td>43420</td>\n",
       "      <td>125882</td>\n",
       "      <td>https://i.ytimg.com/vi/n1WpP7iowLc/default.jpg</td>\n",
       "    </tr>\n",
       "    <tr>\n",
       "      <th>1</th>\n",
       "      <td>0dBIkQ4Mz1M</td>\n",
       "      <td>17.14.11</td>\n",
       "      <td>PLUSH - Bad Unboxing Fan Mail</td>\n",
       "      <td>iDubbbzTV</td>\n",
       "      <td>23</td>\n",
       "      <td>2017-11-13T17:00:00.000Z</td>\n",
       "      <td>plush|\"bad unboxing\"|\"unboxing\"|\"fan mail\"|\"id...</td>\n",
       "      <td>1014651</td>\n",
       "      <td>127794</td>\n",
       "      <td>1688</td>\n",
       "      <td>13030</td>\n",
       "      <td>https://i.ytimg.com/vi/0dBIkQ4Mz1M/default.jpg</td>\n",
       "    </tr>\n",
       "    <tr>\n",
       "      <th>2</th>\n",
       "      <td>5qpjK5DgCt4</td>\n",
       "      <td>17.14.11</td>\n",
       "      <td>Racist Superman | Rudy Mancuso, King Bach &amp; Le...</td>\n",
       "      <td>Rudy Mancuso</td>\n",
       "      <td>23</td>\n",
       "      <td>2017-11-12T19:05:24.000Z</td>\n",
       "      <td>racist superman|\"rudy\"|\"mancuso\"|\"king\"|\"bach\"...</td>\n",
       "      <td>3191434</td>\n",
       "      <td>146035</td>\n",
       "      <td>5339</td>\n",
       "      <td>8181</td>\n",
       "      <td>https://i.ytimg.com/vi/5qpjK5DgCt4/default.jpg</td>\n",
       "    </tr>\n",
       "    <tr>\n",
       "      <th>3</th>\n",
       "      <td>d380meD0W0M</td>\n",
       "      <td>17.14.11</td>\n",
       "      <td>I Dare You: GOING BALD!?</td>\n",
       "      <td>nigahiga</td>\n",
       "      <td>24</td>\n",
       "      <td>2017-11-12T18:01:41.000Z</td>\n",
       "      <td>ryan|\"higa\"|\"higatv\"|\"nigahiga\"|\"i dare you\"|\"...</td>\n",
       "      <td>2095828</td>\n",
       "      <td>132239</td>\n",
       "      <td>1989</td>\n",
       "      <td>17518</td>\n",
       "      <td>https://i.ytimg.com/vi/d380meD0W0M/default.jpg</td>\n",
       "    </tr>\n",
       "    <tr>\n",
       "      <th>4</th>\n",
       "      <td>2Vv-BfVoq4g</td>\n",
       "      <td>17.14.11</td>\n",
       "      <td>Ed Sheeran - Perfect (Official Music Video)</td>\n",
       "      <td>Ed Sheeran</td>\n",
       "      <td>10</td>\n",
       "      <td>2017-11-09T11:04:14.000Z</td>\n",
       "      <td>edsheeran|\"ed sheeran\"|\"acoustic\"|\"live\"|\"cove...</td>\n",
       "      <td>33523622</td>\n",
       "      <td>1634130</td>\n",
       "      <td>21082</td>\n",
       "      <td>85067</td>\n",
       "      <td>https://i.ytimg.com/vi/2Vv-BfVoq4g/default.jpg</td>\n",
       "    </tr>\n",
       "  </tbody>\n",
       "</table>\n",
       "</div>"
      ],
      "text/plain": [
       "      video_id trending_date  \\\n",
       "0  n1WpP7iowLc      17.14.11   \n",
       "1  0dBIkQ4Mz1M      17.14.11   \n",
       "2  5qpjK5DgCt4      17.14.11   \n",
       "3  d380meD0W0M      17.14.11   \n",
       "4  2Vv-BfVoq4g      17.14.11   \n",
       "\n",
       "                                               title channel_title  \\\n",
       "0         Eminem - Walk On Water (Audio) ft. Beyoncé    EminemVEVO   \n",
       "1                      PLUSH - Bad Unboxing Fan Mail     iDubbbzTV   \n",
       "2  Racist Superman | Rudy Mancuso, King Bach & Le...  Rudy Mancuso   \n",
       "3                           I Dare You: GOING BALD!?      nigahiga   \n",
       "4        Ed Sheeran - Perfect (Official Music Video)    Ed Sheeran   \n",
       "\n",
       "   category_id              publish_time  \\\n",
       "0           10  2017-11-10T17:00:03.000Z   \n",
       "1           23  2017-11-13T17:00:00.000Z   \n",
       "2           23  2017-11-12T19:05:24.000Z   \n",
       "3           24  2017-11-12T18:01:41.000Z   \n",
       "4           10  2017-11-09T11:04:14.000Z   \n",
       "\n",
       "                                                tags     views    likes  \\\n",
       "0  Eminem|\"Walk\"|\"On\"|\"Water\"|\"Aftermath/Shady/In...  17158579   787425   \n",
       "1  plush|\"bad unboxing\"|\"unboxing\"|\"fan mail\"|\"id...   1014651   127794   \n",
       "2  racist superman|\"rudy\"|\"mancuso\"|\"king\"|\"bach\"...   3191434   146035   \n",
       "3  ryan|\"higa\"|\"higatv\"|\"nigahiga\"|\"i dare you\"|\"...   2095828   132239   \n",
       "4  edsheeran|\"ed sheeran\"|\"acoustic\"|\"live\"|\"cove...  33523622  1634130   \n",
       "\n",
       "   dislikes  comment_count                                  thumbnail_link  \n",
       "0     43420         125882  https://i.ytimg.com/vi/n1WpP7iowLc/default.jpg  \n",
       "1      1688          13030  https://i.ytimg.com/vi/0dBIkQ4Mz1M/default.jpg  \n",
       "2      5339           8181  https://i.ytimg.com/vi/5qpjK5DgCt4/default.jpg  \n",
       "3      1989          17518  https://i.ytimg.com/vi/d380meD0W0M/default.jpg  \n",
       "4     21082          85067  https://i.ytimg.com/vi/2Vv-BfVoq4g/default.jpg  "
      ]
     },
     "execution_count": 9,
     "metadata": {},
     "output_type": "execute_result"
    }
   ],
   "source": [
    "df_CA.drop(['description','video_error_or_removed','ratings_disabled','comments_disabled'], axis=1, inplace=True)\n",
    "df_CA.head()"
   ]
  },
  {
   "cell_type": "code",
   "execution_count": 10,
   "metadata": {},
   "outputs": [
    {
     "data": {
      "text/plain": [
       "Index(['Video ID', 'Trending Date', 'Title', 'Channel Name', 'Category ID',\n",
       "       'Published Time', 'Tags', 'Views', 'Likes', 'Dislikes', 'Comments',\n",
       "       'thumbnail_link'],\n",
       "      dtype='object')"
      ]
     },
     "execution_count": 10,
     "metadata": {},
     "output_type": "execute_result"
    }
   ],
   "source": [
    "df_CA.rename(columns={'video_id':'Video ID', 'trending_date':'Trending Date', 'title':'Title','channel_title':'Channel Name','category_id':'Category ID','publish_time':'Published Time','tags':'Tags','views':'Views','likes':'Likes','dislikes':'Dislikes','comment_count':'Comments'}, inplace=True)\n",
    "df_CA.columns"
   ]
  },
  {
   "cell_type": "code",
   "execution_count": 11,
   "metadata": {},
   "outputs": [],
   "source": [
    "df_CA['Total'] = df_CA.sum(axis=1)"
   ]
  },
  {
   "cell_type": "code",
   "execution_count": 12,
   "metadata": {},
   "outputs": [
    {
     "data": {
      "text/plain": [
       "Video ID          0\n",
       "Trending Date     0\n",
       "Title             0\n",
       "Channel Name      0\n",
       "Category ID       0\n",
       "Published Time    0\n",
       "Tags              0\n",
       "Views             0\n",
       "Likes             0\n",
       "Dislikes          0\n",
       "Comments          0\n",
       "thumbnail_link    0\n",
       "Total             0\n",
       "dtype: int64"
      ]
     },
     "execution_count": 12,
     "metadata": {},
     "output_type": "execute_result"
    }
   ],
   "source": [
    "df_CA.isnull().sum()"
   ]
  },
  {
   "cell_type": "code",
   "execution_count": 13,
   "metadata": {},
   "outputs": [
    {
     "data": {
      "text/html": [
       "<div>\n",
       "<style scoped>\n",
       "    .dataframe tbody tr th:only-of-type {\n",
       "        vertical-align: middle;\n",
       "    }\n",
       "\n",
       "    .dataframe tbody tr th {\n",
       "        vertical-align: top;\n",
       "    }\n",
       "\n",
       "    .dataframe thead th {\n",
       "        text-align: right;\n",
       "    }\n",
       "</style>\n",
       "<table border=\"1\" class=\"dataframe\">\n",
       "  <thead>\n",
       "    <tr style=\"text-align: right;\">\n",
       "      <th></th>\n",
       "      <th>Category ID</th>\n",
       "      <th>Views</th>\n",
       "      <th>Likes</th>\n",
       "      <th>Dislikes</th>\n",
       "      <th>Comments</th>\n",
       "      <th>Total</th>\n",
       "    </tr>\n",
       "  </thead>\n",
       "  <tbody>\n",
       "    <tr>\n",
       "      <th>count</th>\n",
       "      <td>40881.000000</td>\n",
       "      <td>4.088100e+04</td>\n",
       "      <td>4.088100e+04</td>\n",
       "      <td>4.088100e+04</td>\n",
       "      <td>4.088100e+04</td>\n",
       "      <td>4.088100e+04</td>\n",
       "    </tr>\n",
       "    <tr>\n",
       "      <th>mean</th>\n",
       "      <td>20.795553</td>\n",
       "      <td>1.147036e+06</td>\n",
       "      <td>3.958269e+04</td>\n",
       "      <td>2.009195e+03</td>\n",
       "      <td>5.042975e+03</td>\n",
       "      <td>1.193692e+06</td>\n",
       "    </tr>\n",
       "    <tr>\n",
       "      <th>std</th>\n",
       "      <td>6.775054</td>\n",
       "      <td>3.390913e+06</td>\n",
       "      <td>1.326895e+05</td>\n",
       "      <td>1.900837e+04</td>\n",
       "      <td>2.157902e+04</td>\n",
       "      <td>3.527555e+06</td>\n",
       "    </tr>\n",
       "    <tr>\n",
       "      <th>min</th>\n",
       "      <td>1.000000</td>\n",
       "      <td>7.330000e+02</td>\n",
       "      <td>0.000000e+00</td>\n",
       "      <td>0.000000e+00</td>\n",
       "      <td>0.000000e+00</td>\n",
       "      <td>7.710000e+02</td>\n",
       "    </tr>\n",
       "    <tr>\n",
       "      <th>25%</th>\n",
       "      <td>20.000000</td>\n",
       "      <td>1.439020e+05</td>\n",
       "      <td>2.191000e+03</td>\n",
       "      <td>9.900000e+01</td>\n",
       "      <td>4.170000e+02</td>\n",
       "      <td>1.493730e+05</td>\n",
       "    </tr>\n",
       "    <tr>\n",
       "      <th>50%</th>\n",
       "      <td>24.000000</td>\n",
       "      <td>3.712040e+05</td>\n",
       "      <td>8.780000e+03</td>\n",
       "      <td>3.030000e+02</td>\n",
       "      <td>1.301000e+03</td>\n",
       "      <td>3.852820e+05</td>\n",
       "    </tr>\n",
       "    <tr>\n",
       "      <th>75%</th>\n",
       "      <td>24.000000</td>\n",
       "      <td>9.633020e+05</td>\n",
       "      <td>2.871700e+04</td>\n",
       "      <td>9.500000e+02</td>\n",
       "      <td>3.713000e+03</td>\n",
       "      <td>1.004565e+06</td>\n",
       "    </tr>\n",
       "    <tr>\n",
       "      <th>max</th>\n",
       "      <td>43.000000</td>\n",
       "      <td>1.378431e+08</td>\n",
       "      <td>5.053338e+06</td>\n",
       "      <td>1.602383e+06</td>\n",
       "      <td>1.114800e+06</td>\n",
       "      <td>1.432776e+08</td>\n",
       "    </tr>\n",
       "  </tbody>\n",
       "</table>\n",
       "</div>"
      ],
      "text/plain": [
       "        Category ID         Views         Likes      Dislikes      Comments  \\\n",
       "count  40881.000000  4.088100e+04  4.088100e+04  4.088100e+04  4.088100e+04   \n",
       "mean      20.795553  1.147036e+06  3.958269e+04  2.009195e+03  5.042975e+03   \n",
       "std        6.775054  3.390913e+06  1.326895e+05  1.900837e+04  2.157902e+04   \n",
       "min        1.000000  7.330000e+02  0.000000e+00  0.000000e+00  0.000000e+00   \n",
       "25%       20.000000  1.439020e+05  2.191000e+03  9.900000e+01  4.170000e+02   \n",
       "50%       24.000000  3.712040e+05  8.780000e+03  3.030000e+02  1.301000e+03   \n",
       "75%       24.000000  9.633020e+05  2.871700e+04  9.500000e+02  3.713000e+03   \n",
       "max       43.000000  1.378431e+08  5.053338e+06  1.602383e+06  1.114800e+06   \n",
       "\n",
       "              Total  \n",
       "count  4.088100e+04  \n",
       "mean   1.193692e+06  \n",
       "std    3.527555e+06  \n",
       "min    7.710000e+02  \n",
       "25%    1.493730e+05  \n",
       "50%    3.852820e+05  \n",
       "75%    1.004565e+06  \n",
       "max    1.432776e+08  "
      ]
     },
     "execution_count": 13,
     "metadata": {},
     "output_type": "execute_result"
    }
   ],
   "source": [
    "df_CA.describe()"
   ]
  },
  {
   "cell_type": "code",
   "execution_count": 14,
   "metadata": {},
   "outputs": [],
   "source": [
    "import numpy as np\n",
    "import pandas as pd\n",
    "df_CA = pd.read_csv(\"CAvideos.csv\")"
   ]
  },
  {
   "cell_type": "code",
   "execution_count": 15,
   "metadata": {},
   "outputs": [
    {
     "data": {
      "text/plain": [
       "0     787425\n",
       "1     127794\n",
       "2     146035\n",
       "3     132239\n",
       "4    1634130\n",
       "Name: likes, dtype: int64"
      ]
     },
     "execution_count": 15,
     "metadata": {},
     "output_type": "execute_result"
    }
   ],
   "source": [
    "df_CA['likes'].head()"
   ]
  },
  {
   "cell_type": "code",
   "execution_count": 16,
   "metadata": {},
   "outputs": [
    {
     "data": {
      "text/plain": [
       "0    43420\n",
       "1     1688\n",
       "2     5339\n",
       "3     1989\n",
       "4    21082\n",
       "Name: dislikes, dtype: int64"
      ]
     },
     "execution_count": 16,
     "metadata": {},
     "output_type": "execute_result"
    }
   ],
   "source": [
    "import numpy as np\n",
    "import pandas as pd\n",
    "df_CA = pd.read_csv(\"CAvideos.csv\")\n",
    "df_CA['dislikes'].head()"
   ]
  },
  {
   "cell_type": "code",
   "execution_count": 17,
   "metadata": {},
   "outputs": [
    {
     "data": {
      "text/plain": [
       "0        17158579\n",
       "1         1014651\n",
       "2         3191434\n",
       "3         2095828\n",
       "4        33523622\n",
       "           ...   \n",
       "40876       80685\n",
       "40877      103339\n",
       "40878      773347\n",
       "40879      115225\n",
       "40880      107392\n",
       "Name: views, Length: 40881, dtype: int64"
      ]
     },
     "execution_count": 17,
     "metadata": {},
     "output_type": "execute_result"
    }
   ],
   "source": [
    "df_CA['views']"
   ]
  },
  {
   "cell_type": "code",
   "execution_count": 18,
   "metadata": {},
   "outputs": [
    {
     "data": {
      "text/plain": [
       "0    125882\n",
       "1     13030\n",
       "2      8181\n",
       "3     17518\n",
       "4     85067\n",
       "5     12143\n",
       "6     26629\n",
       "7     15959\n",
       "8     36391\n",
       "9      1484\n",
       "Name: comment_count, dtype: int64"
      ]
     },
     "execution_count": 18,
     "metadata": {},
     "output_type": "execute_result"
    }
   ],
   "source": [
    "df_CA['comment_count'].head(10)"
   ]
  },
  {
   "cell_type": "code",
   "execution_count": 19,
   "metadata": {},
   "outputs": [
    {
     "data": {
      "text/plain": [
       "0           Eminem - Walk On Water (Audio) ft. Beyoncé\n",
       "1                        PLUSH - Bad Unboxing Fan Mail\n",
       "2    Racist Superman | Rudy Mancuso, King Bach & Le...\n",
       "3                             I Dare You: GOING BALD!?\n",
       "4          Ed Sheeran - Perfect (Official Music Video)\n",
       "5    Jake Paul Says Alissa Violet CHEATED with LOGA...\n",
       "6               Vanoss Superhero School - New Students\n",
       "7                   WE WANT TO TALK ABOUT OUR MARRIAGE\n",
       "8                 THE LOGANG MADE HISTORY. LOL. AGAIN.\n",
       "9    Finally Sheldon is winning an argument about t...\n",
       "Name: title, dtype: object"
      ]
     },
     "execution_count": 19,
     "metadata": {},
     "output_type": "execute_result"
    }
   ],
   "source": [
    "df_CA['title'].head(10)"
   ]
  },
  {
   "cell_type": "code",
   "execution_count": 20,
   "metadata": {},
   "outputs": [],
   "source": [
    "import numpy as np\n",
    "import pandas as pd\n",
    "import matplotlib.pyplot as plt\n",
    "df_CA = pd.read_csv(\"CAvideos.csv\")"
   ]
  },
  {
   "cell_type": "code",
   "execution_count": 21,
   "metadata": {},
   "outputs": [
    {
     "data": {
      "image/png": "[encoded data removed]",
      "text/plain": [
       "<Figure size 576x360 with 1 Axes>"
      ]
     },
     "metadata": {
      "needs_background": "light"
     },
     "output_type": "display_data"
    }
   ],
   "source": [
    "count, bin_edges = np.histogram(df_CA['views'])\n",
    "\n",
    "df_CA['views'].plot(kind='hist', figsize=(8, 5), xticks=bin_edges)\n",
    "\n",
    "plt.title('Histogram of Views') \n",
    "plt.ylabel('Number of Views') \n",
    "plt.xlabel('Number of People') \n",
    "\n",
    "plt.show()"
   ]
  },
  {
   "cell_type": "code",
   "execution_count": 22,
   "metadata": {},
   "outputs": [
    {
     "data": {
      "image/png": "[encoded data removed]",
      "text/plain": [
       "<Figure size 576x360 with 1 Axes>"
      ]
     },
     "metadata": {
      "needs_background": "light"
     },
     "output_type": "display_data"
    }
   ],
   "source": [
    "count, bin_edges = np.histogram(df_CA['likes'])\n",
    "\n",
    "df_CA['likes'].plot(kind='hist', figsize=(8, 5), xticks=bin_edges)\n",
    "\n",
    "plt.title('Histogram of Likes by Video') \n",
    "plt.ylabel('Number of Likes') \n",
    "plt.xlabel('Number of People') \n",
    "\n",
    "plt.show()"
   ]
  },
  {
   "cell_type": "code",
   "execution_count": 23,
   "metadata": {},
   "outputs": [
    {
     "data": {
      "image/png": "[encoded data removed]",
      "text/plain": [
       "<Figure size 576x360 with 1 Axes>"
      ]
     },
     "metadata": {
      "needs_background": "light"
     },
     "output_type": "display_data"
    }
   ],
   "source": [
    "count, bin_edges = np.histogram(df_CA['dislikes'])\n",
    "\n",
    "df_CA['dislikes'].plot(kind='hist', figsize=(8, 5), xticks=bin_edges)\n",
    "\n",
    "plt.title('Histogram of Disikes') \n",
    "plt.ylabel('Number of Disikes') \n",
    "plt.xlabel('Number of People') \n",
    "\n",
    "plt.show()"
   ]
  },
  {
   "cell_type": "code",
   "execution_count": 24,
   "metadata": {},
   "outputs": [],
   "source": [
    "import numpy as np\n",
    "import pandas as pd\n",
    "import matplotlib.pyplot as plt"
   ]
  },
  {
   "cell_type": "code",
   "execution_count": 25,
   "metadata": {},
   "outputs": [],
   "source": [
    "df_GB = pd.read_csv(\"GBvideos.csv\")"
   ]
  },
  {
   "cell_type": "code",
   "execution_count": 26,
   "metadata": {},
   "outputs": [
    {
     "data": {
      "text/html": [
       "<div>\n",
       "<style scoped>\n",
       "    .dataframe tbody tr th:only-of-type {\n",
       "        vertical-align: middle;\n",
       "    }\n",
       "\n",
       "    .dataframe tbody tr th {\n",
       "        vertical-align: top;\n",
       "    }\n",
       "\n",
       "    .dataframe thead th {\n",
       "        text-align: right;\n",
       "    }\n",
       "</style>\n",
       "<table border=\"1\" class=\"dataframe\">\n",
       "  <thead>\n",
       "    <tr style=\"text-align: right;\">\n",
       "      <th></th>\n",
       "      <th>video_id</th>\n",
       "      <th>trending_date</th>\n",
       "      <th>title</th>\n",
       "      <th>channel_title</th>\n",
       "      <th>category_id</th>\n",
       "      <th>publish_time</th>\n",
       "      <th>tags</th>\n",
       "      <th>views</th>\n",
       "      <th>likes</th>\n",
       "      <th>dislikes</th>\n",
       "      <th>comment_count</th>\n",
       "      <th>thumbnail_link</th>\n",
       "      <th>comments_disabled</th>\n",
       "      <th>ratings_disabled</th>\n",
       "      <th>video_error_or_removed</th>\n",
       "      <th>description</th>\n",
       "    </tr>\n",
       "  </thead>\n",
       "  <tbody>\n",
       "    <tr>\n",
       "      <th>0</th>\n",
       "      <td>Jw1Y-zhQURU</td>\n",
       "      <td>17.14.11</td>\n",
       "      <td>John Lewis Christmas Ad 2017 - #MozTheMonster</td>\n",
       "      <td>John Lewis</td>\n",
       "      <td>26</td>\n",
       "      <td>2017-11-10T07:38:29.000Z</td>\n",
       "      <td>christmas|\"john lewis christmas\"|\"john lewis\"|...</td>\n",
       "      <td>7224515</td>\n",
       "      <td>55681</td>\n",
       "      <td>10247</td>\n",
       "      <td>9479</td>\n",
       "      <td>https://i.ytimg.com/vi/Jw1Y-zhQURU/default.jpg</td>\n",
       "      <td>False</td>\n",
       "      <td>False</td>\n",
       "      <td>False</td>\n",
       "      <td>Click here to continue the story and make your...</td>\n",
       "    </tr>\n",
       "    <tr>\n",
       "      <th>1</th>\n",
       "      <td>3s1rvMFUweQ</td>\n",
       "      <td>17.14.11</td>\n",
       "      <td>Taylor Swift: …Ready for It? (Live) - SNL</td>\n",
       "      <td>Saturday Night Live</td>\n",
       "      <td>24</td>\n",
       "      <td>2017-11-12T06:24:44.000Z</td>\n",
       "      <td>SNL|\"Saturday Night Live\"|\"SNL Season 43\"|\"Epi...</td>\n",
       "      <td>1053632</td>\n",
       "      <td>25561</td>\n",
       "      <td>2294</td>\n",
       "      <td>2757</td>\n",
       "      <td>https://i.ytimg.com/vi/3s1rvMFUweQ/default.jpg</td>\n",
       "      <td>False</td>\n",
       "      <td>False</td>\n",
       "      <td>False</td>\n",
       "      <td>Musical guest Taylor Swift performs …Ready for...</td>\n",
       "    </tr>\n",
       "    <tr>\n",
       "      <th>2</th>\n",
       "      <td>n1WpP7iowLc</td>\n",
       "      <td>17.14.11</td>\n",
       "      <td>Eminem - Walk On Water (Audio) ft. Beyoncé</td>\n",
       "      <td>EminemVEVO</td>\n",
       "      <td>10</td>\n",
       "      <td>2017-11-10T17:00:03.000Z</td>\n",
       "      <td>Eminem|\"Walk\"|\"On\"|\"Water\"|\"Aftermath/Shady/In...</td>\n",
       "      <td>17158579</td>\n",
       "      <td>787420</td>\n",
       "      <td>43420</td>\n",
       "      <td>125882</td>\n",
       "      <td>https://i.ytimg.com/vi/n1WpP7iowLc/default.jpg</td>\n",
       "      <td>False</td>\n",
       "      <td>False</td>\n",
       "      <td>False</td>\n",
       "      <td>Eminem's new track Walk on Water ft. Beyoncé i...</td>\n",
       "    </tr>\n",
       "    <tr>\n",
       "      <th>3</th>\n",
       "      <td>PUTEiSjKwJU</td>\n",
       "      <td>17.14.11</td>\n",
       "      <td>Goals from Salford City vs Class of 92 and Fri...</td>\n",
       "      <td>Salford City Football Club</td>\n",
       "      <td>17</td>\n",
       "      <td>2017-11-13T02:30:38.000Z</td>\n",
       "      <td>Salford City FC|\"Salford City\"|\"Salford\"|\"Clas...</td>\n",
       "      <td>27833</td>\n",
       "      <td>193</td>\n",
       "      <td>12</td>\n",
       "      <td>37</td>\n",
       "      <td>https://i.ytimg.com/vi/PUTEiSjKwJU/default.jpg</td>\n",
       "      <td>False</td>\n",
       "      <td>False</td>\n",
       "      <td>False</td>\n",
       "      <td>Salford drew 4-4 against the Class of 92 and F...</td>\n",
       "    </tr>\n",
       "    <tr>\n",
       "      <th>4</th>\n",
       "      <td>rHwDegptbI4</td>\n",
       "      <td>17.14.11</td>\n",
       "      <td>Dashcam captures truck's near miss with child ...</td>\n",
       "      <td>Cute Girl Videos</td>\n",
       "      <td>25</td>\n",
       "      <td>2017-11-13T01:45:13.000Z</td>\n",
       "      <td>[none]</td>\n",
       "      <td>9815</td>\n",
       "      <td>30</td>\n",
       "      <td>2</td>\n",
       "      <td>30</td>\n",
       "      <td>https://i.ytimg.com/vi/rHwDegptbI4/default.jpg</td>\n",
       "      <td>False</td>\n",
       "      <td>False</td>\n",
       "      <td>False</td>\n",
       "      <td>Dashcam captures truck's near miss with child ...</td>\n",
       "    </tr>\n",
       "  </tbody>\n",
       "</table>\n",
       "</div>"
      ],
      "text/plain": [
       "      video_id trending_date  \\\n",
       "0  Jw1Y-zhQURU      17.14.11   \n",
       "1  3s1rvMFUweQ      17.14.11   \n",
       "2  n1WpP7iowLc      17.14.11   \n",
       "3  PUTEiSjKwJU      17.14.11   \n",
       "4  rHwDegptbI4      17.14.11   \n",
       "\n",
       "                                               title  \\\n",
       "0      John Lewis Christmas Ad 2017 - #MozTheMonster   \n",
       "1          Taylor Swift: …Ready for It? (Live) - SNL   \n",
       "2         Eminem - Walk On Water (Audio) ft. Beyoncé   \n",
       "3  Goals from Salford City vs Class of 92 and Fri...   \n",
       "4  Dashcam captures truck's near miss with child ...   \n",
       "\n",
       "                channel_title  category_id              publish_time  \\\n",
       "0                  John Lewis           26  2017-11-10T07:38:29.000Z   \n",
       "1         Saturday Night Live           24  2017-11-12T06:24:44.000Z   \n",
       "2                  EminemVEVO           10  2017-11-10T17:00:03.000Z   \n",
       "3  Salford City Football Club           17  2017-11-13T02:30:38.000Z   \n",
       "4            Cute Girl Videos           25  2017-11-13T01:45:13.000Z   \n",
       "\n",
       "                                                tags     views   likes  \\\n",
       "0  christmas|\"john lewis christmas\"|\"john lewis\"|...   7224515   55681   \n",
       "1  SNL|\"Saturday Night Live\"|\"SNL Season 43\"|\"Epi...   1053632   25561   \n",
       "2  Eminem|\"Walk\"|\"On\"|\"Water\"|\"Aftermath/Shady/In...  17158579  787420   \n",
       "3  Salford City FC|\"Salford City\"|\"Salford\"|\"Clas...     27833     193   \n",
       "4                                             [none]      9815      30   \n",
       "\n",
       "   dislikes  comment_count                                  thumbnail_link  \\\n",
       "0     10247           9479  https://i.ytimg.com/vi/Jw1Y-zhQURU/default.jpg   \n",
       "1      2294           2757  https://i.ytimg.com/vi/3s1rvMFUweQ/default.jpg   \n",
       "2     43420         125882  https://i.ytimg.com/vi/n1WpP7iowLc/default.jpg   \n",
       "3        12             37  https://i.ytimg.com/vi/PUTEiSjKwJU/default.jpg   \n",
       "4         2             30  https://i.ytimg.com/vi/rHwDegptbI4/default.jpg   \n",
       "\n",
       "   comments_disabled  ratings_disabled  video_error_or_removed  \\\n",
       "0              False             False                   False   \n",
       "1              False             False                   False   \n",
       "2              False             False                   False   \n",
       "3              False             False                   False   \n",
       "4              False             False                   False   \n",
       "\n",
       "                                         description  \n",
       "0  Click here to continue the story and make your...  \n",
       "1  Musical guest Taylor Swift performs …Ready for...  \n",
       "2  Eminem's new track Walk on Water ft. Beyoncé i...  \n",
       "3  Salford drew 4-4 against the Class of 92 and F...  \n",
       "4  Dashcam captures truck's near miss with child ...  "
      ]
     },
     "execution_count": 26,
     "metadata": {},
     "output_type": "execute_result"
    }
   ],
   "source": [
    "data_frame = pd.read_csv(\"GBvideos.csv\")\n",
    "data_frame.head(5)"
   ]
  },
  {
   "cell_type": "code",
   "execution_count": 27,
   "metadata": {},
   "outputs": [
    {
     "data": {
      "text/plain": [
       "array([    0,     1,     2, ..., 38913, 38914, 38915], dtype=int64)"
      ]
     },
     "execution_count": 27,
     "metadata": {},
     "output_type": "execute_result"
    }
   ],
   "source": [
    "df_GB.index.values"
   ]
  },
  {
   "cell_type": "code",
   "execution_count": 28,
   "metadata": {},
   "outputs": [
    {
     "data": {
      "text/plain": [
       "(38916, 16)"
      ]
     },
     "execution_count": 28,
     "metadata": {},
     "output_type": "execute_result"
    }
   ],
   "source": [
    "df_GB.shape"
   ]
  },
  {
   "cell_type": "code",
   "execution_count": 29,
   "metadata": {},
   "outputs": [
    {
     "data": {
      "image/png": "[encoded data removed]",
      "text/plain": [
       "<Figure size 576x360 with 1 Axes>"
      ]
     },
     "metadata": {
      "needs_background": "light"
     },
     "output_type": "display_data"
    }
   ],
   "source": [
    "count, bin_edges = np.histogram(df_GB['views'])\n",
    "\n",
    "df_GB['views'].plot(kind='hist', figsize=(8, 5), xticks=bin_edges)\n",
    "\n",
    "plt.title('Histogram of Views') \n",
    "plt.ylabel('Number of Views') \n",
    "plt.xlabel('Number of People') \n",
    "\n",
    "plt.show()"
   ]
  },
  {
   "cell_type": "code",
   "execution_count": 30,
   "metadata": {},
   "outputs": [
    {
     "data": {
      "image/png": "[encoded data removed]",
      "text/plain": [
       "<Figure size 576x360 with 1 Axes>"
      ]
     },
     "metadata": {
      "needs_background": "light"
     },
     "output_type": "display_data"
    }
   ],
   "source": [
    "count, bin_edges = np.histogram(df_GB['comment_count'])\n",
    "\n",
    "df_GB['comment_count'].plot(kind='hist', figsize=(8, 5), xticks=bin_edges)\n",
    "\n",
    "plt.title('Histogram of Total Comments in Great Britain') \n",
    "plt.ylabel('Number of Views') \n",
    "plt.xlabel('Number of People') \n",
    "\n",
    "plt.show()"
   ]
  },
  {
   "cell_type": "code",
   "execution_count": 31,
   "metadata": {},
   "outputs": [],
   "source": [
    "#Code to display London for GB CSV file and Canada for CA CSV file\n",
    "import numpy as np\n",
    "import pandas as pd"
   ]
  },
  {
   "cell_type": "code",
   "execution_count": 32,
   "metadata": {},
   "outputs": [
    {
     "name": "stdout",
     "output_type": "stream",
     "text": [
      "Collecting package metadata (current_repodata.json): ...working... done\n",
      "Solving environment: ...working... done\n",
      "\n",
      "# All requested packages already installed.\n",
      "\n",
      "Folium installed and imported!\n"
     ]
    }
   ],
   "source": [
    "!conda install -c conda-forge folium=0.5.0 --yes\n",
    "import folium\n",
    "\n",
    "print('Folium installed and imported!')"
   ]
  },
  {
   "cell_type": "code",
   "execution_count": 33,
   "metadata": {},
   "outputs": [
    {
     "data": {
      "text/html": [
       "<div style=\"width:100%;\"><div style=\"position:relative;width:100%;height:0;padding-bottom:60%;\"><span style=\"color:#565656\">Make this Notebook Trusted to load map: File -> Trust Notebook</span><iframe src=\"about:blank\" style=\"position:absolute;width:100%;height:100%;left:0;top:0;border:none !important;\" data-html=%3C%21DOCTYPE%20html%3E%0A%3Chead%3E%20%20%20%20%0A%20%20%20%20%3Cmeta%20http-equiv%3D%22content-type%22%20content%3D%22text/html%3B%20charset%3DUTF-8%22%20/%3E%0A%20%20%20%20%3Cscript%3EL_PREFER_CANVAS%20%3D%20false%3B%20L_NO_TOUCH%20%3D%20false%3B%20L_DISABLE_3D%20%3D%20false%3B%3C/script%3E%0A%20%20%20%20%3Cscript%20src%3D%22https%3A//cdn.jsdelivr.net/npm/leaflet%401.2.0/dist/leaflet.js%22%3E%3C/script%3E%0A%20%20%20%20%3Cscript%20src%3D%22https%3A//ajax.googleapis.com/ajax/libs/jquery/1.11.1/jquery.min.js%22%3E%3C/script%3E%0A%20%20%20%20%3Cscript%20src%3D%22https%3A//maxcdn.bootstrapcdn.com/bootstrap/3.2.0/js/bootstrap.min.js%22%3E%3C/script%3E%0A%20%20%20%20%3Cscript%20src%3D%22https%3A//cdnjs.cloudflare.com/ajax/libs/Leaflet.awesome-markers/2.0.2/leaflet.awesome-markers.js%22%3E%3C/script%3E%0A%20%20%20%20%3Clink%20rel%3D%22stylesheet%22%20href%3D%22https%3A//cdn.jsdelivr.net/npm/leaflet%401.2.0/dist/leaflet.css%22/%3E%0A%20%20%20%20%3Clink%20rel%3D%22stylesheet%22%20href%3D%22https%3A//maxcdn.bootstrapcdn.com/bootstrap/3.2.0/css/bootstrap.min.css%22/%3E%0A%20%20%20%20%3Clink%20rel%3D%22stylesheet%22%20href%3D%22https%3A//maxcdn.bootstrapcdn.com/bootstrap/3.2.0/css/bootstrap-theme.min.css%22/%3E%0A%20%20%20%20%3Clink%20rel%3D%22stylesheet%22%20href%3D%22https%3A//maxcdn.bootstrapcdn.com/font-awesome/4.6.3/css/font-awesome.min.css%22/%3E%0A%20%20%20%20%3Clink%20rel%3D%22stylesheet%22%20href%3D%22https%3A//cdnjs.cloudflare.com/ajax/libs/Leaflet.awesome-markers/2.0.2/leaflet.awesome-markers.css%22/%3E%0A%20%20%20%20%3Clink%20rel%3D%22stylesheet%22%20href%3D%22https%3A//rawgit.com/python-visualization/folium/master/folium/templates/leaflet.awesome.rotate.css%22/%3E%0A%20%20%20%20%3Cstyle%3Ehtml%2C%20body%20%7Bwidth%3A%20100%25%3Bheight%3A%20100%25%3Bmargin%3A%200%3Bpadding%3A%200%3B%7D%3C/style%3E%0A%20%20%20%20%3Cstyle%3E%23map%20%7Bposition%3Aabsolute%3Btop%3A0%3Bbottom%3A0%3Bright%3A0%3Bleft%3A0%3B%7D%3C/style%3E%0A%20%20%20%20%0A%20%20%20%20%20%20%20%20%20%20%20%20%3Cstyle%3E%20%23map_ccca37c80b614dc8babe2006438b06a7%20%7B%0A%20%20%20%20%20%20%20%20%20%20%20%20%20%20%20%20position%20%3A%20relative%3B%0A%20%20%20%20%20%20%20%20%20%20%20%20%20%20%20%20width%20%3A%20100.0%25%3B%0A%20%20%20%20%20%20%20%20%20%20%20%20%20%20%20%20height%3A%20100.0%25%3B%0A%20%20%20%20%20%20%20%20%20%20%20%20%20%20%20%20left%3A%200.0%25%3B%0A%20%20%20%20%20%20%20%20%20%20%20%20%20%20%20%20top%3A%200.0%25%3B%0A%20%20%20%20%20%20%20%20%20%20%20%20%20%20%20%20%7D%0A%20%20%20%20%20%20%20%20%20%20%20%20%3C/style%3E%0A%20%20%20%20%20%20%20%20%0A%3C/head%3E%0A%3Cbody%3E%20%20%20%20%0A%20%20%20%20%0A%20%20%20%20%20%20%20%20%20%20%20%20%3Cdiv%20class%3D%22folium-map%22%20id%3D%22map_ccca37c80b614dc8babe2006438b06a7%22%20%3E%3C/div%3E%0A%20%20%20%20%20%20%20%20%0A%3C/body%3E%0A%3Cscript%3E%20%20%20%20%0A%20%20%20%20%0A%0A%20%20%20%20%20%20%20%20%20%20%20%20%0A%20%20%20%20%20%20%20%20%20%20%20%20%20%20%20%20var%20bounds%20%3D%20null%3B%0A%20%20%20%20%20%20%20%20%20%20%20%20%0A%0A%20%20%20%20%20%20%20%20%20%20%20%20var%20map_ccca37c80b614dc8babe2006438b06a7%20%3D%20L.map%28%0A%20%20%20%20%20%20%20%20%20%20%20%20%20%20%20%20%20%20%20%20%20%20%20%20%20%20%20%20%20%20%20%20%20%20%27map_ccca37c80b614dc8babe2006438b06a7%27%2C%0A%20%20%20%20%20%20%20%20%20%20%20%20%20%20%20%20%20%20%20%20%20%20%20%20%20%20%20%20%20%20%20%20%20%20%7Bcenter%3A%20%5B51.509865%2C-0.118092%5D%2C%0A%20%20%20%20%20%20%20%20%20%20%20%20%20%20%20%20%20%20%20%20%20%20%20%20%20%20%20%20%20%20%20%20%20%20zoom%3A%208%2C%0A%20%20%20%20%20%20%20%20%20%20%20%20%20%20%20%20%20%20%20%20%20%20%20%20%20%20%20%20%20%20%20%20%20%20maxBounds%3A%20bounds%2C%0A%20%20%20%20%20%20%20%20%20%20%20%20%20%20%20%20%20%20%20%20%20%20%20%20%20%20%20%20%20%20%20%20%20%20layers%3A%20%5B%5D%2C%0A%20%20%20%20%20%20%20%20%20%20%20%20%20%20%20%20%20%20%20%20%20%20%20%20%20%20%20%20%20%20%20%20%20%20worldCopyJump%3A%20false%2C%0A%20%20%20%20%20%20%20%20%20%20%20%20%20%20%20%20%20%20%20%20%20%20%20%20%20%20%20%20%20%20%20%20%20%20crs%3A%20L.CRS.EPSG3857%0A%20%20%20%20%20%20%20%20%20%20%20%20%20%20%20%20%20%20%20%20%20%20%20%20%20%20%20%20%20%20%20%20%20%7D%29%3B%0A%20%20%20%20%20%20%20%20%20%20%20%20%0A%20%20%20%20%20%20%20%20%0A%20%20%20%20%0A%20%20%20%20%20%20%20%20%20%20%20%20var%20tile_layer_ef62f25294cf4a3fa02b06c46d072f06%20%3D%20L.tileLayer%28%0A%20%20%20%20%20%20%20%20%20%20%20%20%20%20%20%20%27https%3A//%7Bs%7D.tile.openstreetmap.org/%7Bz%7D/%7Bx%7D/%7By%7D.png%27%2C%0A%20%20%20%20%20%20%20%20%20%20%20%20%20%20%20%20%7B%0A%20%20%22attribution%22%3A%20null%2C%0A%20%20%22detectRetina%22%3A%20false%2C%0A%20%20%22maxZoom%22%3A%2018%2C%0A%20%20%22minZoom%22%3A%201%2C%0A%20%20%22noWrap%22%3A%20false%2C%0A%20%20%22subdomains%22%3A%20%22abc%22%0A%7D%0A%20%20%20%20%20%20%20%20%20%20%20%20%20%20%20%20%29.addTo%28map_ccca37c80b614dc8babe2006438b06a7%29%3B%0A%20%20%20%20%20%20%20%20%0A%3C/script%3E onload=\"this.contentDocument.open();this.contentDocument.write(    decodeURIComponent(this.getAttribute('data-html')));this.contentDocument.close();\" allowfullscreen webkitallowfullscreen mozallowfullscreen></iframe></div></div>"
      ],
      "text/plain": [
       "<folium.folium.Map at 0x20cbe7067c0>"
      ]
     },
     "execution_count": 33,
     "metadata": {},
     "output_type": "execute_result"
    }
   ],
   "source": [
    "world_map = folium.Map(location=[51.509865, -0.118092], zoom_start=8)\n",
    "world_map"
   ]
  },
  {
   "cell_type": "code",
   "execution_count": 34,
   "metadata": {},
   "outputs": [
    {
     "data": {
      "text/html": [
       "<div style=\"width:100%;\"><div style=\"position:relative;width:100%;height:0;padding-bottom:60%;\"><span style=\"color:#565656\">Make this Notebook Trusted to load map: File -> Trust Notebook</span><iframe src=\"about:blank\" style=\"position:absolute;width:100%;height:100%;left:0;top:0;border:none !important;\" data-html=%3C%21DOCTYPE%20html%3E%0A%3Chead%3E%20%20%20%20%0A%20%20%20%20%3Cmeta%20http-equiv%3D%22content-type%22%20content%3D%22text/html%3B%20charset%3DUTF-8%22%20/%3E%0A%20%20%20%20%3Cscript%3EL_PREFER_CANVAS%20%3D%20false%3B%20L_NO_TOUCH%20%3D%20false%3B%20L_DISABLE_3D%20%3D%20false%3B%3C/script%3E%0A%20%20%20%20%3Cscript%20src%3D%22https%3A//cdn.jsdelivr.net/npm/leaflet%401.2.0/dist/leaflet.js%22%3E%3C/script%3E%0A%20%20%20%20%3Cscript%20src%3D%22https%3A//ajax.googleapis.com/ajax/libs/jquery/1.11.1/jquery.min.js%22%3E%3C/script%3E%0A%20%20%20%20%3Cscript%20src%3D%22https%3A//maxcdn.bootstrapcdn.com/bootstrap/3.2.0/js/bootstrap.min.js%22%3E%3C/script%3E%0A%20%20%20%20%3Cscript%20src%3D%22https%3A//cdnjs.cloudflare.com/ajax/libs/Leaflet.awesome-markers/2.0.2/leaflet.awesome-markers.js%22%3E%3C/script%3E%0A%20%20%20%20%3Clink%20rel%3D%22stylesheet%22%20href%3D%22https%3A//cdn.jsdelivr.net/npm/leaflet%401.2.0/dist/leaflet.css%22/%3E%0A%20%20%20%20%3Clink%20rel%3D%22stylesheet%22%20href%3D%22https%3A//maxcdn.bootstrapcdn.com/bootstrap/3.2.0/css/bootstrap.min.css%22/%3E%0A%20%20%20%20%3Clink%20rel%3D%22stylesheet%22%20href%3D%22https%3A//maxcdn.bootstrapcdn.com/bootstrap/3.2.0/css/bootstrap-theme.min.css%22/%3E%0A%20%20%20%20%3Clink%20rel%3D%22stylesheet%22%20href%3D%22https%3A//maxcdn.bootstrapcdn.com/font-awesome/4.6.3/css/font-awesome.min.css%22/%3E%0A%20%20%20%20%3Clink%20rel%3D%22stylesheet%22%20href%3D%22https%3A//cdnjs.cloudflare.com/ajax/libs/Leaflet.awesome-markers/2.0.2/leaflet.awesome-markers.css%22/%3E%0A%20%20%20%20%3Clink%20rel%3D%22stylesheet%22%20href%3D%22https%3A//rawgit.com/python-visualization/folium/master/folium/templates/leaflet.awesome.rotate.css%22/%3E%0A%20%20%20%20%3Cstyle%3Ehtml%2C%20body%20%7Bwidth%3A%20100%25%3Bheight%3A%20100%25%3Bmargin%3A%200%3Bpadding%3A%200%3B%7D%3C/style%3E%0A%20%20%20%20%3Cstyle%3E%23map%20%7Bposition%3Aabsolute%3Btop%3A0%3Bbottom%3A0%3Bright%3A0%3Bleft%3A0%3B%7D%3C/style%3E%0A%20%20%20%20%0A%20%20%20%20%20%20%20%20%20%20%20%20%3Cstyle%3E%20%23map_119120abc83148a6b23b14c79f1fdb62%20%7B%0A%20%20%20%20%20%20%20%20%20%20%20%20%20%20%20%20position%20%3A%20relative%3B%0A%20%20%20%20%20%20%20%20%20%20%20%20%20%20%20%20width%20%3A%20100.0%25%3B%0A%20%20%20%20%20%20%20%20%20%20%20%20%20%20%20%20height%3A%20100.0%25%3B%0A%20%20%20%20%20%20%20%20%20%20%20%20%20%20%20%20left%3A%200.0%25%3B%0A%20%20%20%20%20%20%20%20%20%20%20%20%20%20%20%20top%3A%200.0%25%3B%0A%20%20%20%20%20%20%20%20%20%20%20%20%20%20%20%20%7D%0A%20%20%20%20%20%20%20%20%20%20%20%20%3C/style%3E%0A%20%20%20%20%20%20%20%20%0A%3C/head%3E%0A%3Cbody%3E%20%20%20%20%0A%20%20%20%20%0A%20%20%20%20%20%20%20%20%20%20%20%20%3Cdiv%20class%3D%22folium-map%22%20id%3D%22map_119120abc83148a6b23b14c79f1fdb62%22%20%3E%3C/div%3E%0A%20%20%20%20%20%20%20%20%0A%3C/body%3E%0A%3Cscript%3E%20%20%20%20%0A%20%20%20%20%0A%0A%20%20%20%20%20%20%20%20%20%20%20%20%0A%20%20%20%20%20%20%20%20%20%20%20%20%20%20%20%20var%20bounds%20%3D%20null%3B%0A%20%20%20%20%20%20%20%20%20%20%20%20%0A%0A%20%20%20%20%20%20%20%20%20%20%20%20var%20map_119120abc83148a6b23b14c79f1fdb62%20%3D%20L.map%28%0A%20%20%20%20%20%20%20%20%20%20%20%20%20%20%20%20%20%20%20%20%20%20%20%20%20%20%20%20%20%20%20%20%20%20%27map_119120abc83148a6b23b14c79f1fdb62%27%2C%0A%20%20%20%20%20%20%20%20%20%20%20%20%20%20%20%20%20%20%20%20%20%20%20%20%20%20%20%20%20%20%20%20%20%20%7Bcenter%3A%20%5B49.24966%2C-123.11934%5D%2C%0A%20%20%20%20%20%20%20%20%20%20%20%20%20%20%20%20%20%20%20%20%20%20%20%20%20%20%20%20%20%20%20%20%20%20zoom%3A%208%2C%0A%20%20%20%20%20%20%20%20%20%20%20%20%20%20%20%20%20%20%20%20%20%20%20%20%20%20%20%20%20%20%20%20%20%20maxBounds%3A%20bounds%2C%0A%20%20%20%20%20%20%20%20%20%20%20%20%20%20%20%20%20%20%20%20%20%20%20%20%20%20%20%20%20%20%20%20%20%20layers%3A%20%5B%5D%2C%0A%20%20%20%20%20%20%20%20%20%20%20%20%20%20%20%20%20%20%20%20%20%20%20%20%20%20%20%20%20%20%20%20%20%20worldCopyJump%3A%20false%2C%0A%20%20%20%20%20%20%20%20%20%20%20%20%20%20%20%20%20%20%20%20%20%20%20%20%20%20%20%20%20%20%20%20%20%20crs%3A%20L.CRS.EPSG3857%0A%20%20%20%20%20%20%20%20%20%20%20%20%20%20%20%20%20%20%20%20%20%20%20%20%20%20%20%20%20%20%20%20%20%7D%29%3B%0A%20%20%20%20%20%20%20%20%20%20%20%20%0A%20%20%20%20%20%20%20%20%0A%20%20%20%20%0A%20%20%20%20%20%20%20%20%20%20%20%20var%20tile_layer_033dfb9336984539ad5dbcbc4d9df183%20%3D%20L.tileLayer%28%0A%20%20%20%20%20%20%20%20%20%20%20%20%20%20%20%20%27https%3A//%7Bs%7D.tile.openstreetmap.org/%7Bz%7D/%7Bx%7D/%7By%7D.png%27%2C%0A%20%20%20%20%20%20%20%20%20%20%20%20%20%20%20%20%7B%0A%20%20%22attribution%22%3A%20null%2C%0A%20%20%22detectRetina%22%3A%20false%2C%0A%20%20%22maxZoom%22%3A%2018%2C%0A%20%20%22minZoom%22%3A%201%2C%0A%20%20%22noWrap%22%3A%20false%2C%0A%20%20%22subdomains%22%3A%20%22abc%22%0A%7D%0A%20%20%20%20%20%20%20%20%20%20%20%20%20%20%20%20%29.addTo%28map_119120abc83148a6b23b14c79f1fdb62%29%3B%0A%20%20%20%20%20%20%20%20%0A%20%20%20%20%0A%0A%20%20%20%20%20%20%20%20%20%20%20%20var%20marker_6c16867c87d343c99a239ea51e7578b4%20%3D%20L.marker%28%0A%20%20%20%20%20%20%20%20%20%20%20%20%20%20%20%20%5B49.24966%2C-123.11934%5D%2C%0A%20%20%20%20%20%20%20%20%20%20%20%20%20%20%20%20%7B%0A%20%20%20%20%20%20%20%20%20%20%20%20%20%20%20%20%20%20%20%20icon%3A%20new%20L.Icon.Default%28%29%0A%20%20%20%20%20%20%20%20%20%20%20%20%20%20%20%20%20%20%20%20%7D%0A%20%20%20%20%20%20%20%20%20%20%20%20%20%20%20%20%29%0A%20%20%20%20%20%20%20%20%20%20%20%20%20%20%20%20.addTo%28map_119120abc83148a6b23b14c79f1fdb62%29%3B%0A%20%20%20%20%20%20%20%20%20%20%20%20%0A%20%20%20%20%0A%20%20%20%20%20%20%20%20%20%20%20%20var%20popup_081df3e90c7c4ee891dc917a76b8cbc3%20%3D%20L.popup%28%7BmaxWidth%3A%20%27300%27%7D%29%3B%0A%0A%20%20%20%20%20%20%20%20%20%20%20%20%0A%20%20%20%20%20%20%20%20%20%20%20%20%20%20%20%20var%20html_7633f20005424285a5fc2bf52d360a2f%20%3D%20%24%28%27%3Cdiv%20id%3D%22html_7633f20005424285a5fc2bf52d360a2f%22%20style%3D%22width%3A%20100.0%25%3B%20height%3A%20100.0%25%3B%22%3EVancouver%3C/div%3E%27%29%5B0%5D%3B%0A%20%20%20%20%20%20%20%20%20%20%20%20%20%20%20%20popup_081df3e90c7c4ee891dc917a76b8cbc3.setContent%28html_7633f20005424285a5fc2bf52d360a2f%29%3B%0A%20%20%20%20%20%20%20%20%20%20%20%20%0A%0A%20%20%20%20%20%20%20%20%20%20%20%20marker_6c16867c87d343c99a239ea51e7578b4.bindPopup%28popup_081df3e90c7c4ee891dc917a76b8cbc3%29%3B%0A%0A%20%20%20%20%20%20%20%20%20%20%20%20%0A%20%20%20%20%20%20%20%20%0A%3C/script%3E onload=\"this.contentDocument.open();this.contentDocument.write(    decodeURIComponent(this.getAttribute('data-html')));this.contentDocument.close();\" allowfullscreen webkitallowfullscreen mozallowfullscreen></iframe></div></div>"
      ],
      "text/plain": [
       "<folium.folium.Map at 0x20cbe7196d0>"
      ]
     },
     "execution_count": 34,
     "metadata": {},
     "output_type": "execute_result"
    }
   ],
   "source": [
    "world_map = folium.Map(location=[49.24966, -123.11934], zoom_start=8)\n",
    "\n",
    "folium.Marker([49.24966,-123.11934], \n",
    "              popup='Vancouver').add_to(world_map)\n",
    "world_map"
   ]
  },
  {
   "cell_type": "code",
   "execution_count": 35,
   "metadata": {},
   "outputs": [
    {
     "data": {
      "text/plain": [
       "0     787425\n",
       "1     127794\n",
       "2     146035\n",
       "3     132239\n",
       "4    1634130\n",
       "Name: likes, dtype: int64"
      ]
     },
     "execution_count": 35,
     "metadata": {},
     "output_type": "execute_result"
    }
   ],
   "source": [
    "#Code to display line plot of all data in CA CSV file\n",
    "import numpy as np  \n",
    "import pandas as pd \n",
    "df_CA = pd.read_csv(\"CAvideos.csv\")\n",
    "\n",
    "df_CA = df_CA['likes']\n",
    "df_CA.head()"
   ]
  },
  {
   "cell_type": "code",
   "execution_count": 36,
   "metadata": {},
   "outputs": [
    {
     "data": {
      "text/plain": [
       "<AxesSubplot:>"
      ]
     },
     "execution_count": 36,
     "metadata": {},
     "output_type": "execute_result"
    },
    {
     "data": {
      "image/png": "[encoded data removed]",
      "text/plain": [
       "<Figure size 432x288 with 1 Axes>"
      ]
     },
     "metadata": {
      "needs_background": "light"
     },
     "output_type": "display_data"
    }
   ],
   "source": [
    "df_CA.plot()"
   ]
  },
  {
   "cell_type": "code",
   "execution_count": 37,
   "metadata": {},
   "outputs": [
    {
     "data": {
      "text/plain": [
       "0     7224515\n",
       "1     1053632\n",
       "2    17158579\n",
       "3       27833\n",
       "4        9815\n",
       "Name: views, dtype: int64"
      ]
     },
     "execution_count": 37,
     "metadata": {},
     "output_type": "execute_result"
    }
   ],
   "source": [
    "#Line plot to display all data in GB CSV file\n",
    "import numpy as np  \n",
    "import pandas as pd\n",
    "df_GB = pd.read_csv(\"GBvideos.csv\")\n",
    "\n",
    "df_GB = df_GB['views']\n",
    "df_GB.head()"
   ]
  },
  {
   "cell_type": "code",
   "execution_count": 38,
   "metadata": {},
   "outputs": [
    {
     "data": {
      "text/plain": [
       "<AxesSubplot:>"
      ]
     },
     "execution_count": 38,
     "metadata": {},
     "output_type": "execute_result"
    },
    {
     "data": {
      "image/png": "[encoded data removed]",
      "text/plain": [
       "<Figure size 432x288 with 1 Axes>"
      ]
     },
     "metadata": {
      "needs_background": "light"
     },
     "output_type": "display_data"
    }
   ],
   "source": [
    "df_GB.plot()"
   ]
  },
  {
   "cell_type": "code",
   "execution_count": 39,
   "metadata": {},
   "outputs": [
    {
     "data": {
      "image/png": "[encoded data removed]",
      "text/plain": [
       "<Figure size 432x288 with 1 Axes>"
      ]
     },
     "metadata": {
      "needs_background": "light"
     },
     "output_type": "display_data"
    }
   ],
   "source": [
    "#Code to display a bar plot of data\n",
    "import numpy as np  \n",
    "import pandas as pd\n",
    "import matplotlib.pyplot as plt\n",
    "df_GB = pd.read_csv(\"GBvideos.csv\")\n",
    "df_GB.plot(kind='line')\n",
    "\n",
    "plt.title('Views in Great Britain')\n",
    "plt.ylabel('Views')\n",
    "plt.xlabel('Numbers')\n",
    "\n",
    "plt.text(2000, 6000, 'Total Views')\n",
    "plt.show()"
   ]
  },
  {
   "cell_type": "code",
   "execution_count": 40,
   "metadata": {},
   "outputs": [
    {
     "data": {
      "text/plain": [
       "0     55681\n",
       "1     25561\n",
       "2    787420\n",
       "3       193\n",
       "4        30\n",
       "Name: likes, dtype: int64"
      ]
     },
     "execution_count": 40,
     "metadata": {},
     "output_type": "execute_result"
    }
   ],
   "source": [
    "import numpy as np  \n",
    "import pandas as pd\n",
    "df_GB = pd.read_csv(\"GBvideos.csv\")\n",
    "\n",
    "df_GB = df_GB['likes']\n",
    "df_GB.head()"
   ]
  },
  {
   "cell_type": "code",
   "execution_count": 41,
   "metadata": {},
   "outputs": [
    {
     "data": {
      "text/plain": [
       "<AxesSubplot:>"
      ]
     },
     "execution_count": 41,
     "metadata": {},
     "output_type": "execute_result"
    },
    {
     "data": {
      "image/png": "[encoded data removed]",
      "text/plain": [
       "<Figure size 432x288 with 1 Axes>"
      ]
     },
     "metadata": {
      "needs_background": "light"
     },
     "output_type": "display_data"
    }
   ],
   "source": [
    "df_GB.plot()"
   ]
  },
  {
   "cell_type": "code",
   "execution_count": 42,
   "metadata": {},
   "outputs": [
    {
     "data": {
      "text/plain": [
       "0    10247\n",
       "1     2294\n",
       "2    43420\n",
       "3       12\n",
       "4        2\n",
       "Name: dislikes, dtype: int64"
      ]
     },
     "execution_count": 42,
     "metadata": {},
     "output_type": "execute_result"
    }
   ],
   "source": [
    "import numpy as np  \n",
    "import pandas as pd\n",
    "df_GB = pd.read_csv(\"GBvideos.csv\")\n",
    "\n",
    "df_GB = df_GB['dislikes']\n",
    "df_GB.head()"
   ]
  },
  {
   "cell_type": "code",
   "execution_count": 43,
   "metadata": {},
   "outputs": [
    {
     "data": {
      "text/plain": [
       "<AxesSubplot:>"
      ]
     },
     "execution_count": 43,
     "metadata": {},
     "output_type": "execute_result"
    },
    {
     "data": {
      "image/png": "[encoded data removed]",
      "text/plain": [
       "<Figure size 432x288 with 1 Axes>"
      ]
     },
     "metadata": {
      "needs_background": "light"
     },
     "output_type": "display_data"
    }
   ],
   "source": [
    "df_GB.plot()"
   ]
  },
  {
   "cell_type": "code",
   "execution_count": 44,
   "metadata": {},
   "outputs": [
    {
     "data": {
      "text/plain": [
       "0      9479\n",
       "1      2757\n",
       "2    125882\n",
       "3        37\n",
       "4        30\n",
       "Name: comment_count, dtype: int64"
      ]
     },
     "execution_count": 44,
     "metadata": {},
     "output_type": "execute_result"
    }
   ],
   "source": [
    "import numpy as np  \n",
    "import pandas as pd\n",
    "df_GB = pd.read_csv(\"GBvideos.csv\")\n",
    "\n",
    "df_GB = df_GB['comment_count']\n",
    "df_GB.head()"
   ]
  },
  {
   "cell_type": "code",
   "execution_count": 45,
   "metadata": {},
   "outputs": [
    {
     "data": {
      "text/plain": [
       "<AxesSubplot:>"
      ]
     },
     "execution_count": 45,
     "metadata": {},
     "output_type": "execute_result"
    },
    {
     "data": {
      "image/png": "[encoded data removed]",
      "text/plain": [
       "<Figure size 432x288 with 1 Axes>"
      ]
     },
     "metadata": {
      "needs_background": "light"
     },
     "output_type": "display_data"
    }
   ],
   "source": [
    "df_GB.plot()"
   ]
  },
  {
   "cell_type": "code",
   "execution_count": 6,
   "metadata": {},
   "outputs": [
    {
     "data": {
      "text/plain": [
       "{'cod': 200,\n",
       " 'calctime': 0.002598379,\n",
       " 'cnt': 15,\n",
       " 'list': [{'id': 2563191,\n",
       "   'dt': 1617214225,\n",
       "   'name': 'Birkirkara',\n",
       "   'coord': {'Lon': 14.4611, 'Lat': 35.8972},\n",
       "   'main': {'temp': 14.58,\n",
       "    'feels_like': 12.08,\n",
       "    'temp_min': 14,\n",
       "    'temp_max': 15.56,\n",
       "    'pressure': 1022,\n",
       "    'humidity': 67},\n",
       "   'visibility': 10000,\n",
       "   'wind': {'speed': 3.09, 'deg': 320},\n",
       "   'rain': None,\n",
       "   'snow': None,\n",
       "   'clouds': {'today': 0},\n",
       "   'weather': [{'id': 800,\n",
       "     'main': 'Clear',\n",
       "     'description': 'clear sky',\n",
       "     'icon': '01n'}]},\n",
       "  {'id': 2210247,\n",
       "   'dt': 1617214217,\n",
       "   'name': 'Tripoli',\n",
       "   'coord': {'Lon': 13.1875, 'Lat': 32.8752},\n",
       "   'main': {'temp': 16.41,\n",
       "    'feels_like': 11.7,\n",
       "    'temp_min': 16.41,\n",
       "    'temp_max': 16.41,\n",
       "    'pressure': 1022,\n",
       "    'sea_level': 1022,\n",
       "    'grnd_level': 1019,\n",
       "    'humidity': 64},\n",
       "   'visibility': 10000,\n",
       "   'wind': {'speed': 6.63, 'deg': 74},\n",
       "   'rain': None,\n",
       "   'snow': None,\n",
       "   'clouds': {'today': 0},\n",
       "   'weather': [{'id': 800,\n",
       "     'main': 'Clear',\n",
       "     'description': 'clear sky',\n",
       "     'icon': '01n'}]},\n",
       "  {'id': 2216885,\n",
       "   'dt': 1617214217,\n",
       "   'name': 'Zawiya',\n",
       "   'coord': {'Lon': 12.7278, 'Lat': 32.7522},\n",
       "   'main': {'temp': 17.01,\n",
       "    'feels_like': 12.22,\n",
       "    'temp_min': 17.01,\n",
       "    'temp_max': 17.01,\n",
       "    'pressure': 1021,\n",
       "    'sea_level': 1021,\n",
       "    'grnd_level': 1019,\n",
       "    'humidity': 58},\n",
       "   'visibility': 10000,\n",
       "   'wind': {'speed': 6.42, 'deg': 68},\n",
       "   'rain': None,\n",
       "   'snow': None,\n",
       "   'clouds': {'today': 2},\n",
       "   'weather': [{'id': 800,\n",
       "     'main': 'Clear',\n",
       "     'description': 'clear sky',\n",
       "     'icon': '01n'}]},\n",
       "  {'id': 2212771,\n",
       "   'dt': 1617214217,\n",
       "   'name': 'Şabrātah',\n",
       "   'coord': {'Lon': 12.4885, 'Lat': 32.7933},\n",
       "   'main': {'temp': 16.73,\n",
       "    'feels_like': 11.92,\n",
       "    'temp_min': 16.73,\n",
       "    'temp_max': 16.73,\n",
       "    'pressure': 1021,\n",
       "    'sea_level': 1021,\n",
       "    'grnd_level': 1020,\n",
       "    'humidity': 57},\n",
       "   'visibility': 10000,\n",
       "   'wind': {'speed': 6.26, 'deg': 67},\n",
       "   'rain': None,\n",
       "   'snow': None,\n",
       "   'clouds': {'today': 2},\n",
       "   'weather': [{'id': 800,\n",
       "     'main': 'Clear',\n",
       "     'description': 'clear sky',\n",
       "     'icon': '01n'}]},\n",
       "  {'id': 2215163,\n",
       "   'dt': 1617214217,\n",
       "   'name': 'Masallātah',\n",
       "   'coord': {'Lon': 14, 'Lat': 32.6167},\n",
       "   'main': {'temp': 14.58,\n",
       "    'feels_like': 10.21,\n",
       "    'temp_min': 14.58,\n",
       "    'temp_max': 14.58,\n",
       "    'pressure': 1022,\n",
       "    'sea_level': 1022,\n",
       "    'grnd_level': 995,\n",
       "    'humidity': 64},\n",
       "   'visibility': 10000,\n",
       "   'wind': {'speed': 5.52, 'deg': 66},\n",
       "   'rain': None,\n",
       "   'snow': None,\n",
       "   'clouds': {'today': 1},\n",
       "   'weather': [{'id': 800,\n",
       "     'main': 'Clear',\n",
       "     'description': 'clear sky',\n",
       "     'icon': '01n'}]},\n",
       "  {'id': 2219905,\n",
       "   'dt': 1617214217,\n",
       "   'name': 'Al Khums',\n",
       "   'coord': {'Lon': 14.2619, 'Lat': 32.6486},\n",
       "   'main': {'temp': 16.03,\n",
       "    'feels_like': 12.36,\n",
       "    'temp_min': 16.03,\n",
       "    'temp_max': 16.03,\n",
       "    'pressure': 1022,\n",
       "    'sea_level': 1022,\n",
       "    'grnd_level': 1020,\n",
       "    'humidity': 66},\n",
       "   'visibility': 10000,\n",
       "   'wind': {'speed': 5.18, 'deg': 57},\n",
       "   'rain': None,\n",
       "   'snow': None,\n",
       "   'clouds': {'today': 0},\n",
       "   'weather': [{'id': 800,\n",
       "     'main': 'Clear',\n",
       "     'description': 'clear sky',\n",
       "     'icon': '01n'}]},\n",
       "  {'id': 2208425,\n",
       "   'dt': 1617214217,\n",
       "   'name': 'Zuwārah',\n",
       "   'coord': {'Lon': 12.082, 'Lat': 32.9312},\n",
       "   'main': {'temp': 16.48,\n",
       "    'feels_like': 12.7,\n",
       "    'temp_min': 16.48,\n",
       "    'temp_max': 16.48,\n",
       "    'pressure': 1022,\n",
       "    'sea_level': 1022,\n",
       "    'grnd_level': 1021,\n",
       "    'humidity': 66},\n",
       "   'visibility': 10000,\n",
       "   'wind': {'speed': 5.5, 'deg': 69},\n",
       "   'rain': None,\n",
       "   'snow': None,\n",
       "   'clouds': {'today': 2},\n",
       "   'weather': [{'id': 800,\n",
       "     'main': 'Clear',\n",
       "     'description': 'clear sky',\n",
       "     'icon': '01n'}]},\n",
       "  {'id': 2210221,\n",
       "   'dt': 1617214217,\n",
       "   'name': 'Tarhuna',\n",
       "   'coord': {'Lon': 13.6332, 'Lat': 32.435},\n",
       "   'main': {'temp': 13.87,\n",
       "    'feels_like': 8.28,\n",
       "    'temp_min': 13.87,\n",
       "    'temp_max': 13.87,\n",
       "    'pressure': 1022,\n",
       "    'sea_level': 1022,\n",
       "    'grnd_level': 975,\n",
       "    'humidity': 57},\n",
       "   'visibility': 10000,\n",
       "   'wind': {'speed': 6.52, 'deg': 69},\n",
       "   'rain': None,\n",
       "   'snow': None,\n",
       "   'clouds': {'today': 3},\n",
       "   'weather': [{'id': 800,\n",
       "     'main': 'Clear',\n",
       "     'description': 'clear sky',\n",
       "     'icon': '01n'}]},\n",
       "  {'id': 2208485,\n",
       "   'dt': 1617214217,\n",
       "   'name': 'Zliten',\n",
       "   'coord': {'Lon': 14.5687, 'Lat': 32.4674},\n",
       "   'main': {'temp': 16.19,\n",
       "    'feels_like': 12.41,\n",
       "    'temp_min': 16.19,\n",
       "    'temp_max': 16.19,\n",
       "    'pressure': 1022,\n",
       "    'sea_level': 1022,\n",
       "    'grnd_level': 1021,\n",
       "    'humidity': 64},\n",
       "   'visibility': 10000,\n",
       "   'wind': {'speed': 5.22, 'deg': 44},\n",
       "   'rain': None,\n",
       "   'snow': None,\n",
       "   'clouds': {'today': 0},\n",
       "   'weather': [{'id': 800,\n",
       "     'main': 'Clear',\n",
       "     'description': 'clear sky',\n",
       "     'icon': '01n'}]},\n",
       "  {'id': 2217362,\n",
       "   'dt': 1617214217,\n",
       "   'name': 'Gharyan',\n",
       "   'coord': {'Lon': 13.0203, 'Lat': 32.1722},\n",
       "   'main': {'temp': 14.12,\n",
       "    'feels_like': 7.86,\n",
       "    'temp_min': 14.12,\n",
       "    'temp_max': 14.12,\n",
       "    'pressure': 1021,\n",
       "    'sea_level': 1021,\n",
       "    'grnd_level': 940,\n",
       "    'humidity': 46},\n",
       "   'visibility': 10000,\n",
       "   'wind': {'speed': 6.71, 'deg': 53},\n",
       "   'rain': None,\n",
       "   'snow': None,\n",
       "   'clouds': {'today': 38},\n",
       "   'weather': [{'id': 802,\n",
       "     'main': 'Clouds',\n",
       "     'description': 'scattered clouds',\n",
       "     'icon': '03n'}]},\n",
       "  {'id': 2523693,\n",
       "   'dt': 1617214224,\n",
       "   'name': 'Pozzallo',\n",
       "   'coord': {'Lon': 14.8499, 'Lat': 36.7305},\n",
       "   'main': {'temp': 13.19,\n",
       "    'feels_like': 12.68,\n",
       "    'temp_min': 12.22,\n",
       "    'temp_max': 14,\n",
       "    'pressure': 1022,\n",
       "    'humidity': 77},\n",
       "   'visibility': 10000,\n",
       "   'wind': {'speed': 0.51, 'deg': 0},\n",
       "   'rain': None,\n",
       "   'snow': None,\n",
       "   'clouds': {'today': 75},\n",
       "   'weather': [{'id': 803,\n",
       "     'main': 'Clouds',\n",
       "     'description': 'broken clouds',\n",
       "     'icon': '04n'}]},\n",
       "  {'id': 2524119,\n",
       "   'dt': 1617214224,\n",
       "   'name': 'Modica',\n",
       "   'coord': {'Lon': 14.774, 'Lat': 36.8459},\n",
       "   'main': {'temp': 13.11,\n",
       "    'feels_like': 12.58,\n",
       "    'temp_min': 12.22,\n",
       "    'temp_max': 14,\n",
       "    'pressure': 1022,\n",
       "    'humidity': 77},\n",
       "   'visibility': 10000,\n",
       "   'wind': {'speed': 0.51, 'deg': 0},\n",
       "   'rain': None,\n",
       "   'snow': None,\n",
       "   'clouds': {'today': 75},\n",
       "   'weather': [{'id': 803,\n",
       "     'main': 'Clouds',\n",
       "     'description': 'broken clouds',\n",
       "     'icon': '04n'}]},\n",
       "  {'id': 2208791,\n",
       "   'dt': 1617214217,\n",
       "   'name': 'Yafran',\n",
       "   'coord': {'Lon': 12.5286, 'Lat': 32.0633},\n",
       "   'main': {'temp': 14.58,\n",
       "    'feels_like': 8.71,\n",
       "    'temp_min': 14.58,\n",
       "    'temp_max': 14.58,\n",
       "    'pressure': 1021,\n",
       "    'sea_level': 1021,\n",
       "    'grnd_level': 942,\n",
       "    'humidity': 45},\n",
       "   'visibility': 10000,\n",
       "   'wind': {'speed': 6.18, 'deg': 37},\n",
       "   'rain': None,\n",
       "   'snow': None,\n",
       "   'clouds': {'today': 77},\n",
       "   'weather': [{'id': 803,\n",
       "     'main': 'Clouds',\n",
       "     'description': 'broken clouds',\n",
       "     'icon': '04n'}]},\n",
       "  {'id': 2523581,\n",
       "   'dt': 1617214224,\n",
       "   'name': 'Rosolini',\n",
       "   'coord': {'Lon': 14.9478, 'Lat': 36.8242},\n",
       "   'main': {'temp': 13.12,\n",
       "    'feels_like': 12.59,\n",
       "    'temp_min': 12.22,\n",
       "    'temp_max': 14,\n",
       "    'pressure': 1022,\n",
       "    'humidity': 77},\n",
       "   'visibility': 10000,\n",
       "   'wind': {'speed': 0.51, 'deg': 0},\n",
       "   'rain': None,\n",
       "   'snow': None,\n",
       "   'clouds': {'today': 75},\n",
       "   'weather': [{'id': 803,\n",
       "     'main': 'Clouds',\n",
       "     'description': 'broken clouds',\n",
       "     'icon': '04n'}]},\n",
       "  {'id': 2523650,\n",
       "   'dt': 1617214224,\n",
       "   'name': 'Ragusa',\n",
       "   'coord': {'Lon': 14.7172, 'Lat': 36.9282},\n",
       "   'main': {'temp': 13.18,\n",
       "    'feels_like': 12.67,\n",
       "    'temp_min': 12.22,\n",
       "    'temp_max': 14,\n",
       "    'pressure': 1022,\n",
       "    'humidity': 77},\n",
       "   'visibility': 10000,\n",
       "   'wind': {'speed': 0.51, 'deg': 0},\n",
       "   'rain': None,\n",
       "   'snow': None,\n",
       "   'clouds': {'today': 75},\n",
       "   'weather': [{'id': 803,\n",
       "     'main': 'Clouds',\n",
       "     'description': 'broken clouds',\n",
       "     'icon': '04n'}]}]}"
      ]
     },
     "execution_count": 6,
     "metadata": {},
     "output_type": "execute_result"
    }
   ],
   "source": [
    "#Creating API key to call data from external source\n",
    "import requests as rq\n",
    "import pandas as pd \n",
    "import json\n",
    "\n",
    "URL = \"http://api.openweathermap.org/data/2.5/box/city?bbox=12,32,15,37,10&appid=172dd8c195e1a634c7a116e610cf9fdd\"\n",
    "r = rq.get(URL)\n",
    "response = r.json() \n",
    "response"
   ]
  },
  {
   "cell_type": "code",
   "execution_count": 7,
   "metadata": {},
   "outputs": [
    {
     "name": "stdout",
     "output_type": "stream",
     "text": [
      "{'message': 'accurate', 'cod': '200', 'count': 5, 'list': [{'id': 6173331, 'name': 'Vancouver', 'coord': {'lat': 49.2497, 'lon': -123.1193}, 'main': {'temp': 282.26, 'feels_like': 278.98, 'temp_min': 280.93, 'temp_max': 283.71, 'pressure': 1028, 'humidity': 66}, 'dt': 1617215067, 'wind': {'speed': 2.57, 'deg': 280}, 'sys': {'country': 'CA'}, 'rain': None, 'snow': None, 'clouds': {'all': 40}, 'weather': [{'id': 802, 'main': 'Clouds', 'description': 'scattered clouds', 'icon': '03d'}]}, {'id': 6090785, 'name': 'North Vancouver', 'coord': {'lat': 49.3164, 'lon': -123.0693}, 'main': {'temp': 282.07, 'feels_like': 279.86, 'temp_min': 280.37, 'temp_max': 283.71, 'pressure': 1028, 'humidity': 57}, 'dt': 1617215062, 'wind': {'speed': 0.51, 'deg': 190}, 'sys': {'country': 'CA'}, 'rain': None, 'snow': None, 'clouds': {'all': 66}, 'weather': [{'id': 803, 'main': 'Clouds', 'description': 'broken clouds', 'icon': '04d'}]}, {'id': 6122085, 'name': 'Richmond', 'coord': {'lat': 49.17, 'lon': -123.1368}, 'main': {'temp': 281.56, 'feels_like': 278.16, 'temp_min': 279.15, 'temp_max': 283.15, 'pressure': 1028, 'humidity': 66}, 'dt': 1617215063, 'wind': {'speed': 2.57, 'deg': 280}, 'sys': {'country': 'CA'}, 'rain': None, 'snow': None, 'clouds': {'all': 40}, 'weather': [{'id': 802, 'main': 'Clouds', 'description': 'scattered clouds', 'icon': '03d'}]}, {'id': 5976245, 'name': 'Hollyburn', 'coord': {'lat': 49.3345, 'lon': -123.157}, 'main': {'temp': 281.9, 'feels_like': 279.66, 'temp_min': 280.93, 'temp_max': 283.15, 'pressure': 1028, 'humidity': 57}, 'dt': 1617215059, 'wind': {'speed': 0.51, 'deg': 190}, 'sys': {'country': 'CA'}, 'rain': None, 'snow': None, 'clouds': {'all': 79}, 'weather': [{'id': 803, 'main': 'Clouds', 'description': 'broken clouds', 'icon': '04d'}]}, {'id': 5911606, 'name': 'Burnaby', 'coord': {'lat': 49.2664, 'lon': -122.9526}, 'main': {'temp': 282.13, 'feels_like': 279.93, 'temp_min': 280.37, 'temp_max': 283.71, 'pressure': 1028, 'humidity': 57}, 'dt': 1617215055, 'wind': {'speed': 0.51, 'deg': 190}, 'sys': {'country': 'CA'}, 'rain': None, 'snow': None, 'clouds': {'all': 86}, 'weather': [{'id': 804, 'main': 'Clouds', 'description': 'overcast clouds', 'icon': '04d'}]}]}\n"
     ]
    }
   ],
   "source": [
    "URL = \"http://api.openweathermap.org/data/2.5/find?lat=49.24966&lon=-123.11934&cnt=5&appid=172dd8c195e1a634c7a116e610cf9fdd\"\n",
    "\n",
    "r = rq.get(URL)\n",
    "response = r.json()\n",
    "\n",
    "print(response)"
   ]
  },
  {
   "cell_type": "code",
   "execution_count": 8,
   "metadata": {},
   "outputs": [
    {
     "name": "stdout",
     "output_type": "stream",
     "text": [
      "Number of cities represented: 5\n"
     ]
    }
   ],
   "source": [
    "cities = []\n",
    "[cities.append(city) for city in response[\"list\"]]\n",
    "print(\"Number of cities represented: %s\" % (len(cities)))"
   ]
  },
  {
   "cell_type": "code",
   "execution_count": 9,
   "metadata": {},
   "outputs": [
    {
     "data": {
      "text/plain": [
       "[{'id': 6173331,\n",
       "  'name': 'Vancouver',\n",
       "  'coord': {'lat': 49.2497, 'lon': -123.1193},\n",
       "  'main': {'temp': 282.26,\n",
       "   'feels_like': 278.98,\n",
       "   'temp_min': 280.93,\n",
       "   'temp_max': 283.71,\n",
       "   'pressure': 1028,\n",
       "   'humidity': 66},\n",
       "  'dt': 1617215067,\n",
       "  'wind': {'speed': 2.57, 'deg': 280},\n",
       "  'sys': {'country': 'CA'},\n",
       "  'rain': None,\n",
       "  'snow': None,\n",
       "  'clouds': {'all': 40},\n",
       "  'weather': [{'id': 802,\n",
       "    'main': 'Clouds',\n",
       "    'description': 'scattered clouds',\n",
       "    'icon': '03d'}]},\n",
       " {'id': 6090785,\n",
       "  'name': 'North Vancouver',\n",
       "  'coord': {'lat': 49.3164, 'lon': -123.0693},\n",
       "  'main': {'temp': 282.07,\n",
       "   'feels_like': 279.86,\n",
       "   'temp_min': 280.37,\n",
       "   'temp_max': 283.71,\n",
       "   'pressure': 1028,\n",
       "   'humidity': 57},\n",
       "  'dt': 1617215062,\n",
       "  'wind': {'speed': 0.51, 'deg': 190},\n",
       "  'sys': {'country': 'CA'},\n",
       "  'rain': None,\n",
       "  'snow': None,\n",
       "  'clouds': {'all': 66},\n",
       "  'weather': [{'id': 803,\n",
       "    'main': 'Clouds',\n",
       "    'description': 'broken clouds',\n",
       "    'icon': '04d'}]},\n",
       " {'id': 6122085,\n",
       "  'name': 'Richmond',\n",
       "  'coord': {'lat': 49.17, 'lon': -123.1368},\n",
       "  'main': {'temp': 281.56,\n",
       "   'feels_like': 278.16,\n",
       "   'temp_min': 279.15,\n",
       "   'temp_max': 283.15,\n",
       "   'pressure': 1028,\n",
       "   'humidity': 66},\n",
       "  'dt': 1617215063,\n",
       "  'wind': {'speed': 2.57, 'deg': 280},\n",
       "  'sys': {'country': 'CA'},\n",
       "  'rain': None,\n",
       "  'snow': None,\n",
       "  'clouds': {'all': 40},\n",
       "  'weather': [{'id': 802,\n",
       "    'main': 'Clouds',\n",
       "    'description': 'scattered clouds',\n",
       "    'icon': '03d'}]},\n",
       " {'id': 5976245,\n",
       "  'name': 'Hollyburn',\n",
       "  'coord': {'lat': 49.3345, 'lon': -123.157},\n",
       "  'main': {'temp': 281.9,\n",
       "   'feels_like': 279.66,\n",
       "   'temp_min': 280.93,\n",
       "   'temp_max': 283.15,\n",
       "   'pressure': 1028,\n",
       "   'humidity': 57},\n",
       "  'dt': 1617215059,\n",
       "  'wind': {'speed': 0.51, 'deg': 190},\n",
       "  'sys': {'country': 'CA'},\n",
       "  'rain': None,\n",
       "  'snow': None,\n",
       "  'clouds': {'all': 79},\n",
       "  'weather': [{'id': 803,\n",
       "    'main': 'Clouds',\n",
       "    'description': 'broken clouds',\n",
       "    'icon': '04d'}]},\n",
       " {'id': 5911606,\n",
       "  'name': 'Burnaby',\n",
       "  'coord': {'lat': 49.2664, 'lon': -122.9526},\n",
       "  'main': {'temp': 282.13,\n",
       "   'feels_like': 279.93,\n",
       "   'temp_min': 280.37,\n",
       "   'temp_max': 283.71,\n",
       "   'pressure': 1028,\n",
       "   'humidity': 57},\n",
       "  'dt': 1617215055,\n",
       "  'wind': {'speed': 0.51, 'deg': 190},\n",
       "  'sys': {'country': 'CA'},\n",
       "  'rain': None,\n",
       "  'snow': None,\n",
       "  'clouds': {'all': 86},\n",
       "  'weather': [{'id': 804,\n",
       "    'main': 'Clouds',\n",
       "    'description': 'overcast clouds',\n",
       "    'icon': '04d'}]}]"
      ]
     },
     "execution_count": 9,
     "metadata": {},
     "output_type": "execute_result"
    }
   ],
   "source": [
    "cities"
   ]
  },
  {
   "cell_type": "code",
   "execution_count": 11,
   "metadata": {},
   "outputs": [
    {
     "name": "stdout",
     "output_type": "stream",
     "text": [
      "{'temp': 282.26, 'feels_like': 278.98, 'temp_min': 280.93, 'temp_max': 283.71, 'pressure': 1028, 'humidity': 66}\n"
     ]
    }
   ],
   "source": [
    "city = cities[0]\n",
    "print(city[\"main\"]) "
   ]
  },
  {
   "cell_type": "code",
   "execution_count": 12,
   "metadata": {},
   "outputs": [
    {
     "data": {
      "text/plain": [
       "['Vancouver', 'North Vancouver', 'Richmond', 'Hollyburn', 'Burnaby']"
      ]
     },
     "execution_count": 12,
     "metadata": {},
     "output_type": "execute_result"
    }
   ],
   "source": [
    "city = []\n",
    "[city.append(sity[\"name\"]) for sity in cities]\n",
    "\n",
    "city"
   ]
  },
  {
   "cell_type": "code",
   "execution_count": 13,
   "metadata": {},
   "outputs": [
    {
     "data": {
      "text/plain": [
       "[{'temp': 282.26,\n",
       "  'feels_like': 278.98,\n",
       "  'temp_min': 280.93,\n",
       "  'temp_max': 283.71,\n",
       "  'pressure': 1028,\n",
       "  'humidity': 66},\n",
       " {'temp': 282.07,\n",
       "  'feels_like': 279.86,\n",
       "  'temp_min': 280.37,\n",
       "  'temp_max': 283.71,\n",
       "  'pressure': 1028,\n",
       "  'humidity': 57},\n",
       " {'temp': 281.56,\n",
       "  'feels_like': 278.16,\n",
       "  'temp_min': 279.15,\n",
       "  'temp_max': 283.15,\n",
       "  'pressure': 1028,\n",
       "  'humidity': 66},\n",
       " {'temp': 281.9,\n",
       "  'feels_like': 279.66,\n",
       "  'temp_min': 280.93,\n",
       "  'temp_max': 283.15,\n",
       "  'pressure': 1028,\n",
       "  'humidity': 57},\n",
       " {'temp': 282.13,\n",
       "  'feels_like': 279.93,\n",
       "  'temp_min': 280.37,\n",
       "  'temp_max': 283.71,\n",
       "  'pressure': 1028,\n",
       "  'humidity': 57}]"
      ]
     },
     "execution_count": 13,
     "metadata": {},
     "output_type": "execute_result"
    }
   ],
   "source": [
    "readings = []\n",
    "[readings.append(city[\"main\"]) for city in cities]\n",
    "readings"
   ]
  },
  {
   "cell_type": "code",
   "execution_count": 14,
   "metadata": {},
   "outputs": [],
   "source": [
    "min_temp, max_temp = [], []\n",
    "for reading in readings:\n",
    "    min_temp.append(reading[\"temp_min\"])\n",
    "    max_temp.append(reading[\"temp_max\"])"
   ]
  },
  {
   "cell_type": "code",
   "execution_count": 15,
   "metadata": {},
   "outputs": [
    {
     "data": {
      "text/html": [
       "<div>\n",
       "<style scoped>\n",
       "    .dataframe tbody tr th:only-of-type {\n",
       "        vertical-align: middle;\n",
       "    }\n",
       "\n",
       "    .dataframe tbody tr th {\n",
       "        vertical-align: top;\n",
       "    }\n",
       "\n",
       "    .dataframe thead th {\n",
       "        text-align: right;\n",
       "    }\n",
       "</style>\n",
       "<table border=\"1\" class=\"dataframe\">\n",
       "  <thead>\n",
       "    <tr style=\"text-align: right;\">\n",
       "      <th></th>\n",
       "      <th>city</th>\n",
       "      <th>min</th>\n",
       "      <th>max</th>\n",
       "    </tr>\n",
       "  </thead>\n",
       "  <tbody>\n",
       "    <tr>\n",
       "      <th>0</th>\n",
       "      <td>Vancouver</td>\n",
       "      <td>280.93</td>\n",
       "      <td>283.71</td>\n",
       "    </tr>\n",
       "    <tr>\n",
       "      <th>1</th>\n",
       "      <td>North Vancouver</td>\n",
       "      <td>280.37</td>\n",
       "      <td>283.71</td>\n",
       "    </tr>\n",
       "    <tr>\n",
       "      <th>2</th>\n",
       "      <td>Richmond</td>\n",
       "      <td>279.15</td>\n",
       "      <td>283.15</td>\n",
       "    </tr>\n",
       "    <tr>\n",
       "      <th>3</th>\n",
       "      <td>Hollyburn</td>\n",
       "      <td>280.93</td>\n",
       "      <td>283.15</td>\n",
       "    </tr>\n",
       "    <tr>\n",
       "      <th>4</th>\n",
       "      <td>Burnaby</td>\n",
       "      <td>280.37</td>\n",
       "      <td>283.71</td>\n",
       "    </tr>\n",
       "  </tbody>\n",
       "</table>\n",
       "</div>"
      ],
      "text/plain": [
       "              city     min     max\n",
       "0        Vancouver  280.93  283.71\n",
       "1  North Vancouver  280.37  283.71\n",
       "2         Richmond  279.15  283.15\n",
       "3        Hollyburn  280.93  283.15\n",
       "4          Burnaby  280.37  283.71"
      ]
     },
     "execution_count": 15,
     "metadata": {},
     "output_type": "execute_result"
    }
   ],
   "source": [
    "Weather_list = list(zip(city,min_temp, max_temp))\n",
    "\n",
    "df_Canada = pd.DataFrame(Weather_list, columns=['city','min','max'])\n",
    "df_Canada.head()"
   ]
  },
  {
   "cell_type": "code",
   "execution_count": 16,
   "metadata": {},
   "outputs": [
    {
     "data": {
      "text/html": [
       "<div>\n",
       "<style scoped>\n",
       "    .dataframe tbody tr th:only-of-type {\n",
       "        vertical-align: middle;\n",
       "    }\n",
       "\n",
       "    .dataframe tbody tr th {\n",
       "        vertical-align: top;\n",
       "    }\n",
       "\n",
       "    .dataframe thead th {\n",
       "        text-align: right;\n",
       "    }\n",
       "</style>\n",
       "<table border=\"1\" class=\"dataframe\">\n",
       "  <thead>\n",
       "    <tr style=\"text-align: right;\">\n",
       "      <th></th>\n",
       "      <th>min</th>\n",
       "      <th>max</th>\n",
       "    </tr>\n",
       "    <tr>\n",
       "      <th>city</th>\n",
       "      <th></th>\n",
       "      <th></th>\n",
       "    </tr>\n",
       "  </thead>\n",
       "  <tbody>\n",
       "    <tr>\n",
       "      <th>Vancouver</th>\n",
       "      <td>280.93</td>\n",
       "      <td>283.71</td>\n",
       "    </tr>\n",
       "    <tr>\n",
       "      <th>North Vancouver</th>\n",
       "      <td>280.37</td>\n",
       "      <td>283.71</td>\n",
       "    </tr>\n",
       "    <tr>\n",
       "      <th>Richmond</th>\n",
       "      <td>279.15</td>\n",
       "      <td>283.15</td>\n",
       "    </tr>\n",
       "    <tr>\n",
       "      <th>Hollyburn</th>\n",
       "      <td>280.93</td>\n",
       "      <td>283.15</td>\n",
       "    </tr>\n",
       "    <tr>\n",
       "      <th>Burnaby</th>\n",
       "      <td>280.37</td>\n",
       "      <td>283.71</td>\n",
       "    </tr>\n",
       "  </tbody>\n",
       "</table>\n",
       "</div>"
      ],
      "text/plain": [
       "                    min     max\n",
       "city                           \n",
       "Vancouver        280.93  283.71\n",
       "North Vancouver  280.37  283.71\n",
       "Richmond         279.15  283.15\n",
       "Hollyburn        280.93  283.15\n",
       "Burnaby          280.37  283.71"
      ]
     },
     "execution_count": 16,
     "metadata": {},
     "output_type": "execute_result"
    }
   ],
   "source": [
    "df_Canada.set_index(\"city\",inplace=True)\n",
    "df_Canada.head()"
   ]
  },
  {
   "cell_type": "code",
   "execution_count": 18,
   "metadata": {},
   "outputs": [
    {
     "data": {
      "text/plain": [
       "Text(0, 0.5, 'Tepms')"
      ]
     },
     "execution_count": 18,
     "metadata": {},
     "output_type": "execute_result"
    },
    {
     "data": {
      "image/png": "[encoded data removed]",
      "text/plain": [
       "<Figure size 432x288 with 1 Axes>"
      ]
     },
     "metadata": {
      "needs_background": "light"
     },
     "output_type": "display_data"
    }
   ],
   "source": [
    "from matplotlib import pyplot as plt\n",
    "df_Canada.plot(kind=\"bar\")\n",
    "\n",
    "plt.title(\"Vancouver\")\n",
    "plt.xlabel(\"Town\")\n",
    "plt.ylabel(\"Tepms\")"
   ]
  },
  {
   "cell_type": "code",
   "execution_count": 1,
   "metadata": {},
   "outputs": [],
   "source": [
    "## End of Project"
   ]
  }
 ],
 "metadata": {
  "kernelspec": {
   "display_name": "Python 3",
   "language": "python",
   "name": "python3"
  },
  "language_info": {
   "codemirror_mode": {
    "name": "ipython",
    "version": 3
   },
   "file_extension": ".py",
   "mimetype": "text/x-python",
   "name": "python",
   "nbconvert_exporter": "python",
   "pygments_lexer": "ipython3",
   "version": "3.8.5"
  }
 },
 "nbformat": 4,
 "nbformat_minor": 4
}
