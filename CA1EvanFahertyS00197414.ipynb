{
 "cells": [
  {
   "cell_type": "markdown",
   "id": "4bb39afd",
   "metadata": {},
   "source": [
    "<h1>Evan Faherty - S00197414</h1>"
   ]
  },
  {
   "cell_type": "code",
   "execution_count": 4,
   "id": "8cc49008",
   "metadata": {},
   "outputs": [],
   "source": [
    "##Importing##\n",
    "import numpy as np\n",
    "import scipy.stats as stats\n",
    "from scipy.stats import poisson\n",
    "import sympy.stats as sym\n",
    "import math\n",
    "import statistics\n",
    "import matplotlib.pyplot as plt\n",
    "import matplotlib as mpl\n",
    "import pandas as pd\n",
    "import random\n",
    "from random import randrange\n",
    "import seaborn as sns"
   ]
  },
  {
   "cell_type": "markdown",
   "id": "7c679c1a",
   "metadata": {},
   "source": [
    "<h1>Question 1</h1>\n",
    "<p>I followed the \"Lab Probability\" document we previously did to attempt this question</p>"
   ]
  },
  {
   "cell_type": "code",
   "execution_count": 2,
   "id": "8a403050",
   "metadata": {},
   "outputs": [],
   "source": [
    "#Question 1 of Question 1#\n",
    "#Using a for loop to loop through the dice roll and calculate the mean value of the roll#\n",
    "def trial(k,N):\n",
    "    x=0\n",
    "    roll=0\n",
    "\n",
    "    for i in range(1,N+1):\n",
    "        roll = np.random.choice(range(1,k))\n",
    "        x = x + roll\n",
    "    mean = roll + x/N\n",
    "    print(\"Roll is\", N,\"and Mean Is\",mean)\n",
    "    return mean"
   ]
  },
  {
   "cell_type": "code",
   "execution_count": 3,
   "id": "0ad4c682",
   "metadata": {},
   "outputs": [
    {
     "name": "stdout",
     "output_type": "stream",
     "text": [
      "Roll is 10 and Mean Is 8.5\n"
     ]
    }
   ],
   "source": [
    "#Question 2 of Question 1#\n",
    "trial1 = trial(6,10)"
   ]
  },
  {
   "cell_type": "code",
   "execution_count": 4,
   "id": "4de50165",
   "metadata": {},
   "outputs": [
    {
     "name": "stdout",
     "output_type": "stream",
     "text": [
      "Roll is 25 and Mean Is 4.04\n"
     ]
    }
   ],
   "source": [
    "trial2 = trial(6,25)"
   ]
  },
  {
   "cell_type": "code",
   "execution_count": 5,
   "id": "6582fd1f",
   "metadata": {},
   "outputs": [
    {
     "name": "stdout",
     "output_type": "stream",
     "text": [
      "Roll is 50 and Mean Is 5.779999999999999\n"
     ]
    }
   ],
   "source": [
    "trial3 = trial(6,50)"
   ]
  },
  {
   "cell_type": "code",
   "execution_count": 6,
   "id": "2d6f9dd7",
   "metadata": {},
   "outputs": [
    {
     "name": "stdout",
     "output_type": "stream",
     "text": [
      "Roll is 100 and Mean Is 8.05\n"
     ]
    }
   ],
   "source": [
    "trial4 = trial(6,100)"
   ]
  },
  {
   "cell_type": "code",
   "execution_count": 7,
   "id": "3037aeb8",
   "metadata": {},
   "outputs": [
    {
     "name": "stdout",
     "output_type": "stream",
     "text": [
      "Roll is 250 and Mean Is 8.148\n"
     ]
    }
   ],
   "source": [
    "trial5 = trial(6,250)"
   ]
  },
  {
   "cell_type": "code",
   "execution_count": 8,
   "id": "d83e1dce",
   "metadata": {},
   "outputs": [
    {
     "name": "stdout",
     "output_type": "stream",
     "text": [
      "Roll is 500 and Mean Is 7.006\n"
     ]
    }
   ],
   "source": [
    "trial6 = trial(6,500)"
   ]
  },
  {
   "cell_type": "code",
   "execution_count": 9,
   "id": "b7aa0763",
   "metadata": {},
   "outputs": [
    {
     "name": "stdout",
     "output_type": "stream",
     "text": [
      "Roll is 1000 and Mean Is 8.061\n"
     ]
    }
   ],
   "source": [
    "trial7 = trial(6,1000)"
   ]
  },
  {
   "cell_type": "code",
   "execution_count": 10,
   "id": "8a6b2805",
   "metadata": {},
   "outputs": [],
   "source": [
    "#Question 3 of Question 1#\n",
    "#Declaring N Trial Amounts#\n",
    "trials = [10,25,50,75,100,250,500,1000]"
   ]
  },
  {
   "cell_type": "code",
   "execution_count": 11,
   "id": "ca3862b9",
   "metadata": {},
   "outputs": [
    {
     "name": "stdout",
     "output_type": "stream",
     "text": [
      "Roll is 10 and Mean Is 17.3\n"
     ]
    }
   ],
   "source": [
    "#Rollling Trials for 12 Sided Dice#\n",
    "trial8 = trial(12,10)"
   ]
  },
  {
   "cell_type": "code",
   "execution_count": 12,
   "id": "fefc6f27",
   "metadata": {},
   "outputs": [
    {
     "name": "stdout",
     "output_type": "stream",
     "text": [
      "Roll is 25 and Mean Is 15.280000000000001\n"
     ]
    }
   ],
   "source": [
    "trial9 = trial(12,25)"
   ]
  },
  {
   "cell_type": "code",
   "execution_count": 13,
   "id": "648d8eca",
   "metadata": {},
   "outputs": [
    {
     "name": "stdout",
     "output_type": "stream",
     "text": [
      "Roll is 50 and Mean Is 17.36\n"
     ]
    }
   ],
   "source": [
    "trial10 = trial(12,50)"
   ]
  },
  {
   "cell_type": "code",
   "execution_count": 14,
   "id": "465c4d89",
   "metadata": {},
   "outputs": [
    {
     "name": "stdout",
     "output_type": "stream",
     "text": [
      "Roll is 100 and Mean Is 6.82\n"
     ]
    }
   ],
   "source": [
    "trial11 = trial(12,100)"
   ]
  },
  {
   "cell_type": "code",
   "execution_count": 15,
   "id": "267fe48f",
   "metadata": {},
   "outputs": [
    {
     "name": "stdout",
     "output_type": "stream",
     "text": [
      "Roll is 250 and Mean Is 13.948\n"
     ]
    }
   ],
   "source": [
    "trial12 = trial(12,250)"
   ]
  },
  {
   "cell_type": "code",
   "execution_count": 16,
   "id": "e6596858",
   "metadata": {},
   "outputs": [
    {
     "name": "stdout",
     "output_type": "stream",
     "text": [
      "Roll is 500 and Mean Is 16.884\n"
     ]
    }
   ],
   "source": [
    "trial13 = trial(12,500)"
   ]
  },
  {
   "cell_type": "code",
   "execution_count": 17,
   "id": "0bc53005",
   "metadata": {},
   "outputs": [
    {
     "name": "stdout",
     "output_type": "stream",
     "text": [
      "Roll is 1000 and Mean Is 12.032\n"
     ]
    }
   ],
   "source": [
    "trial14 = trial(12,1000)"
   ]
  },
  {
   "cell_type": "code",
   "execution_count": 18,
   "id": "8bc79bfa",
   "metadata": {},
   "outputs": [
    {
     "name": "stdout",
     "output_type": "stream",
     "text": [
      "Roll is 10 and Mean Is 16.9\n"
     ]
    }
   ],
   "source": [
    "#Rollling Trials for 20 Sided Dice#\n",
    "trial15 = trial(20,10)"
   ]
  },
  {
   "cell_type": "code",
   "execution_count": 19,
   "id": "4d691215",
   "metadata": {},
   "outputs": [
    {
     "name": "stdout",
     "output_type": "stream",
     "text": [
      "Roll is 25 and Mean Is 21.6\n"
     ]
    }
   ],
   "source": [
    "trial16 = trial(20,25)"
   ]
  },
  {
   "cell_type": "code",
   "execution_count": 20,
   "id": "053c8565",
   "metadata": {},
   "outputs": [
    {
     "name": "stdout",
     "output_type": "stream",
     "text": [
      "Roll is 50 and Mean Is 25.32\n"
     ]
    }
   ],
   "source": [
    "trial17 = trial(20,50)"
   ]
  },
  {
   "cell_type": "code",
   "execution_count": 21,
   "id": "c5b6d00c",
   "metadata": {},
   "outputs": [
    {
     "name": "stdout",
     "output_type": "stream",
     "text": [
      "Roll is 100 and Mean Is 20.53\n"
     ]
    }
   ],
   "source": [
    "trial18 = trial(20,100)"
   ]
  },
  {
   "cell_type": "code",
   "execution_count": 22,
   "id": "9400fe89",
   "metadata": {},
   "outputs": [
    {
     "name": "stdout",
     "output_type": "stream",
     "text": [
      "Roll is 250 and Mean Is 12.556\n"
     ]
    }
   ],
   "source": [
    "trial19 =trial(20,250)"
   ]
  },
  {
   "cell_type": "code",
   "execution_count": 23,
   "id": "ab730c20",
   "metadata": {},
   "outputs": [
    {
     "name": "stdout",
     "output_type": "stream",
     "text": [
      "Roll is 500 and Mean Is 23.25\n"
     ]
    }
   ],
   "source": [
    "trial20 = trial(20,500)"
   ]
  },
  {
   "cell_type": "code",
   "execution_count": 24,
   "id": "3af32c20",
   "metadata": {},
   "outputs": [
    {
     "name": "stdout",
     "output_type": "stream",
     "text": [
      "Roll is 1000 and Mean Is 20.049\n"
     ]
    }
   ],
   "source": [
    "trial21 =trial(20,1000)"
   ]
  },
  {
   "cell_type": "markdown",
   "id": "818c1c80",
   "metadata": {},
   "source": [
    "Question 4 of Question 1\n",
    "\n",
    "My estimate for E(X) would be 3.5 for the 6 sided dice.\n",
    "My reason for is is based on adding up the the amount of sides and dividing by bow many there are to get the average.\n",
    "EG, 1+2+3+4+5+6 = 21.\n",
    "21 divided by 6 = 3.5.\n",
    "Therefore, E(X) is 3.5."
   ]
  },
  {
   "cell_type": "markdown",
   "id": "a06a9822",
   "metadata": {},
   "source": [
    "Calculating E(X) for a 6 sided Dice\n",
    "\\begin{equation}P(\\bar{6}) = \\frac{1}{6} + \\frac{2}{6} + \\frac{3}{6} + \\frac{4}{6} + \\frac{5}{6} + \\frac{6}{6} = \\frac{21}{6} = 3.5\\end{equation} \n",
    "\n",
    "E(X) = 3.5"
   ]
  },
  {
   "cell_type": "markdown",
   "id": "a0efa51c",
   "metadata": {},
   "source": [
    "Calculating E(X) for a 12 sided Dice\n",
    "\\begin{equation}P(\\bar{12}) = \\frac{1}{12} + \\frac{2}{12} + \\frac{3}{12} + \\frac{4}{12} + \\frac{5}{12} + \\frac{6}{12} + \\frac{6}{12} + \\frac{7}{12} + \\frac{8}{12} + \\frac{9}{12} + \\frac{10}{12} + \\frac{11}{12} + \\frac{12}{12} = \\frac{78}{12} = 6.5\\end{equation} \n",
    "\n",
    "E(X) = 6.5"
   ]
  },
  {
   "cell_type": "markdown",
   "id": "06ffd135",
   "metadata": {},
   "source": [
    "Calculating E(X) for a 20 sided Dice\n",
    "\\begin{equation}P(\\bar{20}) = \\frac{1}{20} + \\frac{2}{20} + \\frac{3}{20} + \\frac{4}{20} + \\frac{5}{20} + \\frac{6}{20} + \\frac{6}{20} + \\frac{7}{20} + \\frac{8}{20} + \\frac{9}{20} + \\frac{10}{20} + \\frac{11}{20} + \\frac{12}{20} + \\frac{13}{20} + \\frac{14}{20} + \\frac{15}{20} + \\frac{16}{20} + \\frac{17}{20} + \\frac{18}{20} + \\frac{19}{20} + \\frac{20}{20} = \\frac{210}{20} = 10.5\\end{equation}\n",
    "\n",
    "E(X) = 10.5"
   ]
  },
  {
   "cell_type": "code",
   "execution_count": 125,
   "id": "b0b12257",
   "metadata": {},
   "outputs": [
    {
     "data": {
      "text/html": [
       "<div>\n",
       "<style scoped>\n",
       "    .dataframe tbody tr th:only-of-type {\n",
       "        vertical-align: middle;\n",
       "    }\n",
       "\n",
       "    .dataframe tbody tr th {\n",
       "        vertical-align: top;\n",
       "    }\n",
       "\n",
       "    .dataframe thead th {\n",
       "        text-align: right;\n",
       "    }\n",
       "</style>\n",
       "<table border=\"1\" class=\"dataframe\">\n",
       "  <thead>\n",
       "    <tr style=\"text-align: right;\">\n",
       "      <th></th>\n",
       "      <th>Roll</th>\n",
       "    </tr>\n",
       "  </thead>\n",
       "  <tbody>\n",
       "    <tr>\n",
       "      <th>0</th>\n",
       "      <td>&lt;function trial at 0x0000014A26FA43A0&gt;</td>\n",
       "    </tr>\n",
       "    <tr>\n",
       "      <th>1</th>\n",
       "      <td>8.5</td>\n",
       "    </tr>\n",
       "    <tr>\n",
       "      <th>2</th>\n",
       "      <td>4.04</td>\n",
       "    </tr>\n",
       "    <tr>\n",
       "      <th>3</th>\n",
       "      <td>5.78</td>\n",
       "    </tr>\n",
       "    <tr>\n",
       "      <th>4</th>\n",
       "      <td>8.05</td>\n",
       "    </tr>\n",
       "    <tr>\n",
       "      <th>5</th>\n",
       "      <td>8.148</td>\n",
       "    </tr>\n",
       "    <tr>\n",
       "      <th>6</th>\n",
       "      <td>7.006</td>\n",
       "    </tr>\n",
       "    <tr>\n",
       "      <th>7</th>\n",
       "      <td>8.061</td>\n",
       "    </tr>\n",
       "  </tbody>\n",
       "</table>\n",
       "</div>"
      ],
      "text/plain": [
       "                                     Roll\n",
       "0  <function trial at 0x0000014A26FA43A0>\n",
       "1                                     8.5\n",
       "2                                    4.04\n",
       "3                                    5.78\n",
       "4                                    8.05\n",
       "5                                   8.148\n",
       "6                                   7.006\n",
       "7                                   8.061"
      ]
     },
     "execution_count": 125,
     "metadata": {},
     "output_type": "execute_result"
    }
   ],
   "source": [
    "#Question 5 of Question 1#\n",
    "#I am creating a dataframe for each individual dice so that I can use the dataframe to plot their respected graphs#\n",
    "dice = [trial,trial1,trial2,trial3,trial4,trial5,trial6,trial7]\n",
    " \n",
    "# Create the pandas DataFrame\n",
    "df = pd.DataFrame(dice, columns = ['Roll'])\n",
    " \n",
    "# print dataFrame\n",
    "df"
   ]
  },
  {
   "cell_type": "code",
   "execution_count": 126,
   "id": "255645ba",
   "metadata": {},
   "outputs": [
    {
     "data": {
      "text/html": [
       "<div>\n",
       "<style scoped>\n",
       "    .dataframe tbody tr th:only-of-type {\n",
       "        vertical-align: middle;\n",
       "    }\n",
       "\n",
       "    .dataframe tbody tr th {\n",
       "        vertical-align: top;\n",
       "    }\n",
       "\n",
       "    .dataframe thead th {\n",
       "        text-align: right;\n",
       "    }\n",
       "</style>\n",
       "<table border=\"1\" class=\"dataframe\">\n",
       "  <thead>\n",
       "    <tr style=\"text-align: right;\">\n",
       "      <th></th>\n",
       "      <th>Roll</th>\n",
       "    </tr>\n",
       "  </thead>\n",
       "  <tbody>\n",
       "    <tr>\n",
       "      <th>0</th>\n",
       "      <td>17.300</td>\n",
       "    </tr>\n",
       "    <tr>\n",
       "      <th>1</th>\n",
       "      <td>15.280</td>\n",
       "    </tr>\n",
       "    <tr>\n",
       "      <th>2</th>\n",
       "      <td>17.360</td>\n",
       "    </tr>\n",
       "    <tr>\n",
       "      <th>3</th>\n",
       "      <td>6.820</td>\n",
       "    </tr>\n",
       "    <tr>\n",
       "      <th>4</th>\n",
       "      <td>13.948</td>\n",
       "    </tr>\n",
       "    <tr>\n",
       "      <th>5</th>\n",
       "      <td>16.884</td>\n",
       "    </tr>\n",
       "    <tr>\n",
       "      <th>6</th>\n",
       "      <td>12.032</td>\n",
       "    </tr>\n",
       "  </tbody>\n",
       "</table>\n",
       "</div>"
      ],
      "text/plain": [
       "     Roll\n",
       "0  17.300\n",
       "1  15.280\n",
       "2  17.360\n",
       "3   6.820\n",
       "4  13.948\n",
       "5  16.884\n",
       "6  12.032"
      ]
     },
     "execution_count": 126,
     "metadata": {},
     "output_type": "execute_result"
    }
   ],
   "source": [
    "#Datframe for a 12 sided dice#\n",
    "dice1 = [trial8,trial9,trial10,trial11,trial12,trial13,trial14]\n",
    " \n",
    "# Create the pandas DataFrame\n",
    "df1 = pd.DataFrame(dice1, columns = ['Roll'])\n",
    " \n",
    "# print dataframe.\n",
    "df1"
   ]
  },
  {
   "cell_type": "code",
   "execution_count": 127,
   "id": "7b762b43",
   "metadata": {},
   "outputs": [
    {
     "data": {
      "text/html": [
       "<div>\n",
       "<style scoped>\n",
       "    .dataframe tbody tr th:only-of-type {\n",
       "        vertical-align: middle;\n",
       "    }\n",
       "\n",
       "    .dataframe tbody tr th {\n",
       "        vertical-align: top;\n",
       "    }\n",
       "\n",
       "    .dataframe thead th {\n",
       "        text-align: right;\n",
       "    }\n",
       "</style>\n",
       "<table border=\"1\" class=\"dataframe\">\n",
       "  <thead>\n",
       "    <tr style=\"text-align: right;\">\n",
       "      <th></th>\n",
       "      <th>Roll</th>\n",
       "    </tr>\n",
       "  </thead>\n",
       "  <tbody>\n",
       "    <tr>\n",
       "      <th>0</th>\n",
       "      <td>16.900</td>\n",
       "    </tr>\n",
       "    <tr>\n",
       "      <th>1</th>\n",
       "      <td>21.600</td>\n",
       "    </tr>\n",
       "    <tr>\n",
       "      <th>2</th>\n",
       "      <td>25.320</td>\n",
       "    </tr>\n",
       "    <tr>\n",
       "      <th>3</th>\n",
       "      <td>20.530</td>\n",
       "    </tr>\n",
       "    <tr>\n",
       "      <th>4</th>\n",
       "      <td>12.556</td>\n",
       "    </tr>\n",
       "    <tr>\n",
       "      <th>5</th>\n",
       "      <td>23.250</td>\n",
       "    </tr>\n",
       "    <tr>\n",
       "      <th>6</th>\n",
       "      <td>20.049</td>\n",
       "    </tr>\n",
       "  </tbody>\n",
       "</table>\n",
       "</div>"
      ],
      "text/plain": [
       "     Roll\n",
       "0  16.900\n",
       "1  21.600\n",
       "2  25.320\n",
       "3  20.530\n",
       "4  12.556\n",
       "5  23.250\n",
       "6  20.049"
      ]
     },
     "execution_count": 127,
     "metadata": {},
     "output_type": "execute_result"
    }
   ],
   "source": [
    "#Dataframe for a 20 sided dice#\n",
    "dice2 = [trial15,trial16,trial17,trial18,trial19,trial20,trial21]\n",
    " \n",
    "# Create the pandas DataFrame\n",
    "df2 = pd.DataFrame(dice2, columns = ['Roll'])\n",
    " \n",
    "# print dataframe.\n",
    "df2"
   ]
  },
  {
   "cell_type": "code",
   "execution_count": 128,
   "id": "d2a0e04c",
   "metadata": {},
   "outputs": [
    {
     "data": {
      "text/plain": [
       "Roll    object\n",
       "dtype: object"
      ]
     },
     "execution_count": 128,
     "metadata": {},
     "output_type": "execute_result"
    }
   ],
   "source": [
    "#Plot for 6 Sided Dice#\n",
    "df.dtypes"
   ]
  },
  {
   "cell_type": "code",
   "execution_count": 129,
   "id": "27cae635",
   "metadata": {},
   "outputs": [],
   "source": [
    "df['Roll'] = pd.to_numeric(df['Roll'], errors='coerce')"
   ]
  },
  {
   "cell_type": "code",
   "execution_count": 130,
   "id": "1d6788a7",
   "metadata": {},
   "outputs": [
    {
     "data": {
      "text/plain": [
       "<AxesSubplot:>"
      ]
     },
     "execution_count": 130,
     "metadata": {},
     "output_type": "execute_result"
    },
    {
     "data": {
      "image/png": "[encoded data removed]",
      "text/plain": [
       "<Figure size 432x288 with 1 Axes>"
      ]
     },
     "metadata": {
      "needs_background": "light"
     },
     "output_type": "display_data"
    }
   ],
   "source": [
    "df['Roll'].plot()"
   ]
  },
  {
   "cell_type": "code",
   "execution_count": 135,
   "id": "625a81f2",
   "metadata": {},
   "outputs": [
    {
     "data": {
      "image/png": "[encoded data removed]",
      "text/plain": [
       "<Figure size 432x288 with 1 Axes>"
      ]
     },
     "metadata": {
      "needs_background": "light"
     },
     "output_type": "display_data"
    }
   ],
   "source": [
    "#Styling my 6 sided dice graph to show my estimate for E(X)#\n",
    "df['Roll'].plot()\n",
    "plt.annotate('Estimate for E(X)',                      \n",
    "             xy=(2, 4),             # place head of the arrow at point\n",
    "             xytext=(7, 8.5),         # place base of the arrow at point \n",
    "             xycoords='data',         # will use the coordinate system of the object being annotated \n",
    "             arrowprops=dict(arrowstyle='-', connectionstyle='arc3', color='red', lw=2)\n",
    "            )\n",
    "plt.show()"
   ]
  },
  {
   "cell_type": "code",
   "execution_count": 33,
   "id": "2fa5c5b4",
   "metadata": {},
   "outputs": [],
   "source": [
    "#Graph for 12 Sided Dice#\n",
    "df1['Roll'] = pd.to_numeric(df1['Roll'], errors='coerce')"
   ]
  },
  {
   "cell_type": "code",
   "execution_count": 34,
   "id": "a42f70ad",
   "metadata": {},
   "outputs": [
    {
     "data": {
      "text/plain": [
       "<AxesSubplot:>"
      ]
     },
     "execution_count": 34,
     "metadata": {},
     "output_type": "execute_result"
    },
    {
     "data": {
      "image/png": "[encoded data removed]",
      "text/plain": [
       "<Figure size 432x288 with 1 Axes>"
      ]
     },
     "metadata": {
      "needs_background": "light"
     },
     "output_type": "display_data"
    }
   ],
   "source": [
    "df1['Roll'].plot()"
   ]
  },
  {
   "cell_type": "code",
   "execution_count": 96,
   "id": "22d94f1f",
   "metadata": {},
   "outputs": [
    {
     "data": {
      "image/png": "[encoded data removed]",
      "text/plain": [
       "<Figure size 432x288 with 1 Axes>"
      ]
     },
     "metadata": {
      "needs_background": "light"
     },
     "output_type": "display_data"
    }
   ],
   "source": [
    "#Styling my 12 sided dice graph to show my estimate for E(X)#\n",
    "df1['Roll'].plot()\n",
    "plt.xlabel('Mean Value of Trials')\n",
    "plt.ylabel('Number of Rolls')\n",
    "plt.title('Graph')\n",
    "\n",
    "plt.annotate('Estimate for E(X)',                      \n",
    "             xy=(0, 17),             # place head of the arrow at point\n",
    "             xytext=(6, 11),         # place base of the arrow at point \n",
    "             xycoords='data',         # will use the coordinate system of the object being annotated \n",
    "             arrowprops=dict(arrowstyle='-', connectionstyle='arc3', color='red', lw=2)\n",
    "            )\n",
    "plt.show()"
   ]
  },
  {
   "cell_type": "code",
   "execution_count": 36,
   "id": "6e24ff14",
   "metadata": {},
   "outputs": [
    {
     "data": {
      "text/plain": [
       "<AxesSubplot:>"
      ]
     },
     "execution_count": 36,
     "metadata": {},
     "output_type": "execute_result"
    },
    {
     "data": {
      "image/png": "[encoded data removed]",
      "text/plain": [
       "<Figure size 432x288 with 1 Axes>"
      ]
     },
     "metadata": {
      "needs_background": "light"
     },
     "output_type": "display_data"
    }
   ],
   "source": [
    "#Graph for 20 Sided Dice#\n",
    "df2['Roll'] = pd.to_numeric(df2['Roll'], errors='coerce')\n",
    "df2['Roll'].plot()"
   ]
  },
  {
   "cell_type": "code",
   "execution_count": 102,
   "id": "555ed408",
   "metadata": {},
   "outputs": [
    {
     "data": {
      "image/png": "[encoded data removed]",
      "text/plain": [
       "<Figure size 432x288 with 1 Axes>"
      ]
     },
     "metadata": {
      "needs_background": "light"
     },
     "output_type": "display_data"
    }
   ],
   "source": [
    "#Styling my 20 sided dice graph to show my estimate for E(X)#\n",
    "df2['Roll'].plot()\n",
    "plt.xlabel('Mean Value of Trials')\n",
    "plt.ylabel('Number of Rolls')\n",
    "plt.title('Graph')\n",
    "\n",
    "plt.annotate('Estimate for E(X)',                      \n",
    "             xy=(0, 17),             # place head of the arrow at point\n",
    "             xytext=(6, 20),         # place base of the arrow at point \n",
    "             xycoords='data',         # will use the coordinate system of the object being annotated \n",
    "             arrowprops=dict(arrowstyle='-', connectionstyle='arc3', color='red', lw=2)\n",
    "            )\n",
    "plt.show()"
   ]
  },
  {
   "cell_type": "code",
   "execution_count": 38,
   "id": "f24acdeb",
   "metadata": {},
   "outputs": [],
   "source": [
    "#Question 6 of Question 1#"
   ]
  },
  {
   "cell_type": "code",
   "execution_count": 39,
   "id": "a09511ea",
   "metadata": {},
   "outputs": [],
   "source": [
    "#Code for E(X) of a 6,12 and 20 sided dice#\n",
    "def dice_average(number):\n",
    "    sumOf_number = 0\n",
    "    for v in number:\n",
    "        sumOf_number = sumOf_number + v\n",
    "    average = sumOf_number / len(number)\n",
    "    return average"
   ]
  },
  {
   "cell_type": "code",
   "execution_count": 40,
   "id": "33cc6e9f",
   "metadata": {},
   "outputs": [],
   "source": [
    "#Creating Arrays to store dice sides individually for my 6,12 and 20 sided dice to get the mean value/average of each dice roll#\n",
    "avg_arr1 = [1,2,3,4,5,6]\n",
    "avg_arr2 = [1,2,3,4,5,6,7,8,9,10,11,12]\n",
    "avg_arr3 = [1,2,3,4,5,6,7,8,9,10,11,12,13,14,15,16,17,18,19,20]"
   ]
  },
  {
   "cell_type": "code",
   "execution_count": 41,
   "id": "fa098197",
   "metadata": {},
   "outputs": [
    {
     "name": "stdout",
     "output_type": "stream",
     "text": [
      "3.5\n"
     ]
    }
   ],
   "source": [
    "#E(X) for 6 sided dice#\n",
    "print(dice_average(avg_arr1))"
   ]
  },
  {
   "cell_type": "code",
   "execution_count": 42,
   "id": "389ac8c5",
   "metadata": {},
   "outputs": [
    {
     "name": "stdout",
     "output_type": "stream",
     "text": [
      "6.5\n"
     ]
    }
   ],
   "source": [
    "#E(X) for 12 sided dice#\n",
    "print(dice_average(avg_arr2))"
   ]
  },
  {
   "cell_type": "code",
   "execution_count": 43,
   "id": "cb77fd53",
   "metadata": {},
   "outputs": [
    {
     "name": "stdout",
     "output_type": "stream",
     "text": [
      "10.5\n"
     ]
    }
   ],
   "source": [
    "#E(X) for 20 sided dice#\n",
    "print(dice_average(avg_arr3))"
   ]
  },
  {
   "cell_type": "markdown",
   "id": "0052386a",
   "metadata": {},
   "source": [
    "Did This Match My Earlier Estimate?\n",
    "\n",
    "Yes this matches my earlier estimate in Question 4 as my estimate for a 6 sided dice was 3.5 and the probability function concluded with the same result"
   ]
  },
  {
   "cell_type": "markdown",
   "id": "3bfc505c",
   "metadata": {},
   "source": [
    "<h1>Question 2 Part 1 - Short Answer Questions</h1>"
   ]
  },
  {
   "cell_type": "code",
   "execution_count": 44,
   "id": "c4b085e3",
   "metadata": {},
   "outputs": [
    {
     "data": {
      "text/html": [
       "<div>\n",
       "<style scoped>\n",
       "    .dataframe tbody tr th:only-of-type {\n",
       "        vertical-align: middle;\n",
       "    }\n",
       "\n",
       "    .dataframe tbody tr th {\n",
       "        vertical-align: top;\n",
       "    }\n",
       "\n",
       "    .dataframe thead th {\n",
       "        text-align: right;\n",
       "    }\n",
       "</style>\n",
       "<table border=\"1\" class=\"dataframe\">\n",
       "  <thead>\n",
       "    <tr style=\"text-align: right;\">\n",
       "      <th></th>\n",
       "      <th>Div</th>\n",
       "      <th>Date</th>\n",
       "      <th>Time</th>\n",
       "      <th>HomeTeam</th>\n",
       "      <th>AwayTeam</th>\n",
       "      <th>FTHG</th>\n",
       "      <th>FTAG</th>\n",
       "      <th>FTR</th>\n",
       "      <th>HTHG</th>\n",
       "      <th>HTAG</th>\n",
       "      <th>...</th>\n",
       "      <th>AvgC&lt;2.5</th>\n",
       "      <th>AHCh</th>\n",
       "      <th>B365CAHH</th>\n",
       "      <th>B365CAHA</th>\n",
       "      <th>PCAHH</th>\n",
       "      <th>PCAHA</th>\n",
       "      <th>MaxCAHH</th>\n",
       "      <th>MaxCAHA</th>\n",
       "      <th>AvgCAHH</th>\n",
       "      <th>AvgCAHA</th>\n",
       "    </tr>\n",
       "  </thead>\n",
       "  <tbody>\n",
       "    <tr>\n",
       "      <th>0</th>\n",
       "      <td>E0</td>\n",
       "      <td>09/08/2019</td>\n",
       "      <td>20:00</td>\n",
       "      <td>Liverpool</td>\n",
       "      <td>Norwich</td>\n",
       "      <td>4</td>\n",
       "      <td>1</td>\n",
       "      <td>H</td>\n",
       "      <td>4</td>\n",
       "      <td>0</td>\n",
       "      <td>...</td>\n",
       "      <td>3.43</td>\n",
       "      <td>-2.25</td>\n",
       "      <td>1.91</td>\n",
       "      <td>1.99</td>\n",
       "      <td>1.94</td>\n",
       "      <td>1.98</td>\n",
       "      <td>1.99</td>\n",
       "      <td>2.07</td>\n",
       "      <td>1.90</td>\n",
       "      <td>1.99</td>\n",
       "    </tr>\n",
       "    <tr>\n",
       "      <th>1</th>\n",
       "      <td>E0</td>\n",
       "      <td>10/08/2019</td>\n",
       "      <td>12:30</td>\n",
       "      <td>West Ham</td>\n",
       "      <td>Man City</td>\n",
       "      <td>0</td>\n",
       "      <td>5</td>\n",
       "      <td>A</td>\n",
       "      <td>0</td>\n",
       "      <td>1</td>\n",
       "      <td>...</td>\n",
       "      <td>2.91</td>\n",
       "      <td>1.75</td>\n",
       "      <td>1.95</td>\n",
       "      <td>1.95</td>\n",
       "      <td>1.96</td>\n",
       "      <td>1.97</td>\n",
       "      <td>2.07</td>\n",
       "      <td>1.98</td>\n",
       "      <td>1.97</td>\n",
       "      <td>1.92</td>\n",
       "    </tr>\n",
       "    <tr>\n",
       "      <th>2</th>\n",
       "      <td>E0</td>\n",
       "      <td>10/08/2019</td>\n",
       "      <td>15:00</td>\n",
       "      <td>Bournemouth</td>\n",
       "      <td>Sheffield United</td>\n",
       "      <td>1</td>\n",
       "      <td>1</td>\n",
       "      <td>D</td>\n",
       "      <td>0</td>\n",
       "      <td>0</td>\n",
       "      <td>...</td>\n",
       "      <td>1.92</td>\n",
       "      <td>-0.50</td>\n",
       "      <td>1.95</td>\n",
       "      <td>1.95</td>\n",
       "      <td>1.98</td>\n",
       "      <td>1.95</td>\n",
       "      <td>2.00</td>\n",
       "      <td>1.96</td>\n",
       "      <td>1.96</td>\n",
       "      <td>1.92</td>\n",
       "    </tr>\n",
       "    <tr>\n",
       "      <th>3</th>\n",
       "      <td>E0</td>\n",
       "      <td>10/08/2019</td>\n",
       "      <td>15:00</td>\n",
       "      <td>Burnley</td>\n",
       "      <td>Southampton</td>\n",
       "      <td>3</td>\n",
       "      <td>0</td>\n",
       "      <td>H</td>\n",
       "      <td>0</td>\n",
       "      <td>0</td>\n",
       "      <td>...</td>\n",
       "      <td>1.71</td>\n",
       "      <td>0.00</td>\n",
       "      <td>1.87</td>\n",
       "      <td>2.03</td>\n",
       "      <td>1.89</td>\n",
       "      <td>2.03</td>\n",
       "      <td>1.90</td>\n",
       "      <td>2.07</td>\n",
       "      <td>1.86</td>\n",
       "      <td>2.02</td>\n",
       "    </tr>\n",
       "    <tr>\n",
       "      <th>4</th>\n",
       "      <td>E0</td>\n",
       "      <td>10/08/2019</td>\n",
       "      <td>15:00</td>\n",
       "      <td>Crystal Palace</td>\n",
       "      <td>Everton</td>\n",
       "      <td>0</td>\n",
       "      <td>0</td>\n",
       "      <td>D</td>\n",
       "      <td>0</td>\n",
       "      <td>0</td>\n",
       "      <td>...</td>\n",
       "      <td>1.71</td>\n",
       "      <td>0.25</td>\n",
       "      <td>1.82</td>\n",
       "      <td>2.08</td>\n",
       "      <td>1.97</td>\n",
       "      <td>1.96</td>\n",
       "      <td>2.03</td>\n",
       "      <td>2.08</td>\n",
       "      <td>1.96</td>\n",
       "      <td>1.93</td>\n",
       "    </tr>\n",
       "    <tr>\n",
       "      <th>...</th>\n",
       "      <td>...</td>\n",
       "      <td>...</td>\n",
       "      <td>...</td>\n",
       "      <td>...</td>\n",
       "      <td>...</td>\n",
       "      <td>...</td>\n",
       "      <td>...</td>\n",
       "      <td>...</td>\n",
       "      <td>...</td>\n",
       "      <td>...</td>\n",
       "      <td>...</td>\n",
       "      <td>...</td>\n",
       "      <td>...</td>\n",
       "      <td>...</td>\n",
       "      <td>...</td>\n",
       "      <td>...</td>\n",
       "      <td>...</td>\n",
       "      <td>...</td>\n",
       "      <td>...</td>\n",
       "      <td>...</td>\n",
       "      <td>...</td>\n",
       "    </tr>\n",
       "    <tr>\n",
       "      <th>375</th>\n",
       "      <td>E0</td>\n",
       "      <td>26/07/2020</td>\n",
       "      <td>16:00</td>\n",
       "      <td>Leicester</td>\n",
       "      <td>Man United</td>\n",
       "      <td>0</td>\n",
       "      <td>2</td>\n",
       "      <td>A</td>\n",
       "      <td>0</td>\n",
       "      <td>0</td>\n",
       "      <td>...</td>\n",
       "      <td>2.03</td>\n",
       "      <td>0.50</td>\n",
       "      <td>1.89</td>\n",
       "      <td>2.01</td>\n",
       "      <td>1.88</td>\n",
       "      <td>2.05</td>\n",
       "      <td>1.94</td>\n",
       "      <td>2.05</td>\n",
       "      <td>1.86</td>\n",
       "      <td>2.02</td>\n",
       "    </tr>\n",
       "    <tr>\n",
       "      <th>376</th>\n",
       "      <td>E0</td>\n",
       "      <td>26/07/2020</td>\n",
       "      <td>16:00</td>\n",
       "      <td>Man City</td>\n",
       "      <td>Norwich</td>\n",
       "      <td>5</td>\n",
       "      <td>0</td>\n",
       "      <td>H</td>\n",
       "      <td>2</td>\n",
       "      <td>0</td>\n",
       "      <td>...</td>\n",
       "      <td>5.77</td>\n",
       "      <td>-3.75</td>\n",
       "      <td>2.03</td>\n",
       "      <td>1.87</td>\n",
       "      <td>2.01</td>\n",
       "      <td>1.88</td>\n",
       "      <td>2.06</td>\n",
       "      <td>1.88</td>\n",
       "      <td>2.02</td>\n",
       "      <td>1.84</td>\n",
       "    </tr>\n",
       "    <tr>\n",
       "      <th>377</th>\n",
       "      <td>E0</td>\n",
       "      <td>26/07/2020</td>\n",
       "      <td>16:00</td>\n",
       "      <td>Newcastle</td>\n",
       "      <td>Liverpool</td>\n",
       "      <td>1</td>\n",
       "      <td>3</td>\n",
       "      <td>A</td>\n",
       "      <td>1</td>\n",
       "      <td>1</td>\n",
       "      <td>...</td>\n",
       "      <td>2.40</td>\n",
       "      <td>1.00</td>\n",
       "      <td>1.94</td>\n",
       "      <td>1.96</td>\n",
       "      <td>1.95</td>\n",
       "      <td>1.97</td>\n",
       "      <td>2.03</td>\n",
       "      <td>2.00</td>\n",
       "      <td>1.95</td>\n",
       "      <td>1.92</td>\n",
       "    </tr>\n",
       "    <tr>\n",
       "      <th>378</th>\n",
       "      <td>E0</td>\n",
       "      <td>26/07/2020</td>\n",
       "      <td>16:00</td>\n",
       "      <td>Southampton</td>\n",
       "      <td>Sheffield United</td>\n",
       "      <td>3</td>\n",
       "      <td>1</td>\n",
       "      <td>H</td>\n",
       "      <td>0</td>\n",
       "      <td>1</td>\n",
       "      <td>...</td>\n",
       "      <td>2.01</td>\n",
       "      <td>-0.50</td>\n",
       "      <td>1.97</td>\n",
       "      <td>1.93</td>\n",
       "      <td>2.00</td>\n",
       "      <td>1.93</td>\n",
       "      <td>2.03</td>\n",
       "      <td>1.96</td>\n",
       "      <td>1.98</td>\n",
       "      <td>1.89</td>\n",
       "    </tr>\n",
       "    <tr>\n",
       "      <th>379</th>\n",
       "      <td>E0</td>\n",
       "      <td>26/07/2020</td>\n",
       "      <td>16:00</td>\n",
       "      <td>West Ham</td>\n",
       "      <td>Aston Villa</td>\n",
       "      <td>1</td>\n",
       "      <td>1</td>\n",
       "      <td>D</td>\n",
       "      <td>0</td>\n",
       "      <td>0</td>\n",
       "      <td>...</td>\n",
       "      <td>2.03</td>\n",
       "      <td>0.00</td>\n",
       "      <td>1.93</td>\n",
       "      <td>1.97</td>\n",
       "      <td>1.95</td>\n",
       "      <td>1.98</td>\n",
       "      <td>1.99</td>\n",
       "      <td>2.00</td>\n",
       "      <td>1.93</td>\n",
       "      <td>1.95</td>\n",
       "    </tr>\n",
       "  </tbody>\n",
       "</table>\n",
       "<p>380 rows × 106 columns</p>\n",
       "</div>"
      ],
      "text/plain": [
       "    Div        Date   Time        HomeTeam          AwayTeam  FTHG  FTAG FTR  \\\n",
       "0    E0  09/08/2019  20:00       Liverpool           Norwich     4     1   H   \n",
       "1    E0  10/08/2019  12:30        West Ham          Man City     0     5   A   \n",
       "2    E0  10/08/2019  15:00     Bournemouth  Sheffield United     1     1   D   \n",
       "3    E0  10/08/2019  15:00         Burnley       Southampton     3     0   H   \n",
       "4    E0  10/08/2019  15:00  Crystal Palace           Everton     0     0   D   \n",
       "..   ..         ...    ...             ...               ...   ...   ...  ..   \n",
       "375  E0  26/07/2020  16:00       Leicester        Man United     0     2   A   \n",
       "376  E0  26/07/2020  16:00        Man City           Norwich     5     0   H   \n",
       "377  E0  26/07/2020  16:00       Newcastle         Liverpool     1     3   A   \n",
       "378  E0  26/07/2020  16:00     Southampton  Sheffield United     3     1   H   \n",
       "379  E0  26/07/2020  16:00        West Ham       Aston Villa     1     1   D   \n",
       "\n",
       "     HTHG  HTAG  ... AvgC<2.5  AHCh  B365CAHH  B365CAHA  PCAHH  PCAHA  \\\n",
       "0       4     0  ...     3.43 -2.25      1.91      1.99   1.94   1.98   \n",
       "1       0     1  ...     2.91  1.75      1.95      1.95   1.96   1.97   \n",
       "2       0     0  ...     1.92 -0.50      1.95      1.95   1.98   1.95   \n",
       "3       0     0  ...     1.71  0.00      1.87      2.03   1.89   2.03   \n",
       "4       0     0  ...     1.71  0.25      1.82      2.08   1.97   1.96   \n",
       "..    ...   ...  ...      ...   ...       ...       ...    ...    ...   \n",
       "375     0     0  ...     2.03  0.50      1.89      2.01   1.88   2.05   \n",
       "376     2     0  ...     5.77 -3.75      2.03      1.87   2.01   1.88   \n",
       "377     1     1  ...     2.40  1.00      1.94      1.96   1.95   1.97   \n",
       "378     0     1  ...     2.01 -0.50      1.97      1.93   2.00   1.93   \n",
       "379     0     0  ...     2.03  0.00      1.93      1.97   1.95   1.98   \n",
       "\n",
       "     MaxCAHH  MaxCAHA  AvgCAHH  AvgCAHA  \n",
       "0       1.99     2.07     1.90     1.99  \n",
       "1       2.07     1.98     1.97     1.92  \n",
       "2       2.00     1.96     1.96     1.92  \n",
       "3       1.90     2.07     1.86     2.02  \n",
       "4       2.03     2.08     1.96     1.93  \n",
       "..       ...      ...      ...      ...  \n",
       "375     1.94     2.05     1.86     2.02  \n",
       "376     2.06     1.88     2.02     1.84  \n",
       "377     2.03     2.00     1.95     1.92  \n",
       "378     2.03     1.96     1.98     1.89  \n",
       "379     1.99     2.00     1.93     1.95  \n",
       "\n",
       "[380 rows x 106 columns]"
      ]
     },
     "execution_count": 44,
     "metadata": {},
     "output_type": "execute_result"
    }
   ],
   "source": [
    "#Reading in Matches.csv file#\n",
    "df_football = pd.read_csv(\"matches.csv\")\n",
    "df_football"
   ]
  },
  {
   "cell_type": "code",
   "execution_count": 45,
   "id": "4d7b8d1e",
   "metadata": {},
   "outputs": [
    {
     "data": {
      "text/plain": [
       "1.5157894736842106"
      ]
     },
     "execution_count": 45,
     "metadata": {},
     "output_type": "execute_result"
    }
   ],
   "source": [
    "#Number of Home Goals per game#\n",
    "MeanHG = df_football['FTHG'].mean()\n",
    "MeanHG"
   ]
  },
  {
   "cell_type": "code",
   "execution_count": 46,
   "id": "d36845ab",
   "metadata": {},
   "outputs": [
    {
     "data": {
      "text/plain": [
       "1.2052631578947368"
      ]
     },
     "execution_count": 46,
     "metadata": {},
     "output_type": "execute_result"
    }
   ],
   "source": [
    "#Number of Away Goals per game#\n",
    "MeanAG = df_football['FTAG'].mean()\n",
    "MeanAG"
   ]
  },
  {
   "cell_type": "code",
   "execution_count": 47,
   "id": "60ae5c9e",
   "metadata": {},
   "outputs": [
    {
     "data": {
      "text/plain": [
       "2.721052631578947"
      ]
     },
     "execution_count": 47,
     "metadata": {},
     "output_type": "execute_result"
    }
   ],
   "source": [
    "#Mean Number of Goals per Game#\n",
    "GoalsPerGame = df_football['FTHG'] + df_football['FTAG']\n",
    "GoalsPerGame.mean()"
   ]
  },
  {
   "cell_type": "code",
   "execution_count": 48,
   "id": "3e3bd7b3",
   "metadata": {},
   "outputs": [
    {
     "data": {
      "text/plain": [
       "1.25"
      ]
     },
     "execution_count": 48,
     "metadata": {},
     "output_type": "execute_result"
    }
   ],
   "source": [
    "#Mean Number of Goals in First Half#\n",
    "GoalsInFirstHalf = df_football['HTHG'] + df_football['HTAG']\n",
    "GoalsInFirstHalf.mean()"
   ]
  },
  {
   "cell_type": "code",
   "execution_count": 49,
   "id": "bbf7f013",
   "metadata": {},
   "outputs": [
    {
     "data": {
      "text/plain": [
       "2.5710526315789473"
      ]
     },
     "execution_count": 49,
     "metadata": {},
     "output_type": "execute_result"
    }
   ],
   "source": [
    "#Mean Number of Goals in Second Half#\n",
    "GoalsInSecondHalf = df_football['FTAG'] + df_football['FTHG'] - df_football['HTHG'] + df_football['HTAG']\n",
    "GoalsInSecondHalf.mean()"
   ]
  },
  {
   "cell_type": "code",
   "execution_count": 50,
   "id": "5fb28da9",
   "metadata": {},
   "outputs": [
    {
     "data": {
      "text/plain": [
       "3.971052631578947"
      ]
     },
     "execution_count": 50,
     "metadata": {},
     "output_type": "execute_result"
    }
   ],
   "source": [
    "#Mean Number of Goals in Any Half#\n",
    "HalfTimeResult = df_football['FTHG'] + df_football['FTAG'] + df_football['HTHG'] + df_football['HTAG']\n",
    "HalfTimeResult.mean()"
   ]
  },
  {
   "cell_type": "code",
   "execution_count": 51,
   "id": "40fee053",
   "metadata": {},
   "outputs": [
    {
     "data": {
      "text/plain": [
       "3.3526315789473684"
      ]
     },
     "execution_count": 51,
     "metadata": {},
     "output_type": "execute_result"
    }
   ],
   "source": [
    "#Mean Number of Yellow Cards in a Match#\n",
    "YellowCards = df_football['AY'] + df_football['HY']\n",
    "YellowCards.mean()"
   ]
  },
  {
   "cell_type": "code",
   "execution_count": 52,
   "id": "2edf99f3",
   "metadata": {},
   "outputs": [
    {
     "data": {
      "text/plain": [
       "0.11842105263157894"
      ]
     },
     "execution_count": 52,
     "metadata": {},
     "output_type": "execute_result"
    }
   ],
   "source": [
    "#Mean Number of Red Cards in a Match#\n",
    "RedCards = df_football['AR'] + df_football['HR']\n",
    "RedCards.mean()"
   ]
  },
  {
   "cell_type": "code",
   "execution_count": 53,
   "id": "e5d3056f",
   "metadata": {},
   "outputs": [
    {
     "data": {
      "text/plain": [
       "172"
      ]
     },
     "execution_count": 53,
     "metadata": {},
     "output_type": "execute_result"
    }
   ],
   "source": [
    "#Question 2 Bar Chart - Separarting Home Wins from Away Wins and Draws to get individual count for each value#\n",
    "ResultsH = df_football['FTR'].value_counts()['H']\n",
    "ResultsH"
   ]
  },
  {
   "cell_type": "code",
   "execution_count": 54,
   "id": "5ddce948",
   "metadata": {},
   "outputs": [
    {
     "data": {
      "text/plain": [
       "116"
      ]
     },
     "execution_count": 54,
     "metadata": {},
     "output_type": "execute_result"
    }
   ],
   "source": [
    "ResultsA = df_football['FTR'].value_counts()['A']\n",
    "ResultsA"
   ]
  },
  {
   "cell_type": "code",
   "execution_count": 55,
   "id": "e800902d",
   "metadata": {},
   "outputs": [
    {
     "data": {
      "text/plain": [
       "92"
      ]
     },
     "execution_count": 55,
     "metadata": {},
     "output_type": "execute_result"
    }
   ],
   "source": [
    "ResultsD = df_football['FTR'].value_counts()['D']\n",
    "ResultsD"
   ]
  },
  {
   "cell_type": "code",
   "execution_count": 56,
   "id": "257d2984",
   "metadata": {},
   "outputs": [],
   "source": [
    "#Creating a dataframe with each individual value stored and paired with each respective result#\n",
    "TotalScores = {\"ResultsH\": {\"H\":172}, \"ResultsA\":{\"A\":116}, \"ResultsD\":{\"D\":92}}\n",
    "df = pd.DataFrame(TotalScores)"
   ]
  },
  {
   "cell_type": "code",
   "execution_count": 57,
   "id": "5e16a757",
   "metadata": {},
   "outputs": [
    {
     "data": {
      "text/plain": [
       "<AxesSubplot:>"
      ]
     },
     "execution_count": 57,
     "metadata": {},
     "output_type": "execute_result"
    },
    {
     "data": {
      "image/png": "[encoded data removed]",
      "text/plain": [
       "<Figure size 432x288 with 1 Axes>"
      ]
     },
     "metadata": {
      "needs_background": "light"
     },
     "output_type": "display_data"
    }
   ],
   "source": [
    "df.plot(kind=\"bar\")"
   ]
  },
  {
   "cell_type": "code",
   "execution_count": 58,
   "id": "8f3a9c59",
   "metadata": {},
   "outputs": [
    {
     "data": {
      "text/html": [
       "<div>\n",
       "<style scoped>\n",
       "    .dataframe tbody tr th:only-of-type {\n",
       "        vertical-align: middle;\n",
       "    }\n",
       "\n",
       "    .dataframe tbody tr th {\n",
       "        vertical-align: top;\n",
       "    }\n",
       "\n",
       "    .dataframe thead th {\n",
       "        text-align: right;\n",
       "    }\n",
       "</style>\n",
       "<table border=\"1\" class=\"dataframe\">\n",
       "  <thead>\n",
       "    <tr style=\"text-align: right;\">\n",
       "      <th></th>\n",
       "      <th>FTHG</th>\n",
       "      <th>FTAG</th>\n",
       "      <th>HF</th>\n",
       "      <th>AF</th>\n",
       "    </tr>\n",
       "  </thead>\n",
       "  <tbody>\n",
       "    <tr>\n",
       "      <th>0</th>\n",
       "      <td>4</td>\n",
       "      <td>1</td>\n",
       "      <td>9</td>\n",
       "      <td>9</td>\n",
       "    </tr>\n",
       "    <tr>\n",
       "      <th>1</th>\n",
       "      <td>0</td>\n",
       "      <td>5</td>\n",
       "      <td>6</td>\n",
       "      <td>13</td>\n",
       "    </tr>\n",
       "    <tr>\n",
       "      <th>2</th>\n",
       "      <td>1</td>\n",
       "      <td>1</td>\n",
       "      <td>10</td>\n",
       "      <td>19</td>\n",
       "    </tr>\n",
       "    <tr>\n",
       "      <th>3</th>\n",
       "      <td>3</td>\n",
       "      <td>0</td>\n",
       "      <td>6</td>\n",
       "      <td>12</td>\n",
       "    </tr>\n",
       "    <tr>\n",
       "      <th>4</th>\n",
       "      <td>0</td>\n",
       "      <td>0</td>\n",
       "      <td>16</td>\n",
       "      <td>14</td>\n",
       "    </tr>\n",
       "    <tr>\n",
       "      <th>...</th>\n",
       "      <td>...</td>\n",
       "      <td>...</td>\n",
       "      <td>...</td>\n",
       "      <td>...</td>\n",
       "    </tr>\n",
       "    <tr>\n",
       "      <th>375</th>\n",
       "      <td>0</td>\n",
       "      <td>2</td>\n",
       "      <td>12</td>\n",
       "      <td>11</td>\n",
       "    </tr>\n",
       "    <tr>\n",
       "      <th>376</th>\n",
       "      <td>5</td>\n",
       "      <td>0</td>\n",
       "      <td>7</td>\n",
       "      <td>4</td>\n",
       "    </tr>\n",
       "    <tr>\n",
       "      <th>377</th>\n",
       "      <td>1</td>\n",
       "      <td>3</td>\n",
       "      <td>11</td>\n",
       "      <td>5</td>\n",
       "    </tr>\n",
       "    <tr>\n",
       "      <th>378</th>\n",
       "      <td>3</td>\n",
       "      <td>1</td>\n",
       "      <td>9</td>\n",
       "      <td>16</td>\n",
       "    </tr>\n",
       "    <tr>\n",
       "      <th>379</th>\n",
       "      <td>1</td>\n",
       "      <td>1</td>\n",
       "      <td>16</td>\n",
       "      <td>13</td>\n",
       "    </tr>\n",
       "  </tbody>\n",
       "</table>\n",
       "<p>380 rows × 4 columns</p>\n",
       "</div>"
      ],
      "text/plain": [
       "     FTHG  FTAG  HF  AF\n",
       "0       4     1   9   9\n",
       "1       0     5   6  13\n",
       "2       1     1  10  19\n",
       "3       3     0   6  12\n",
       "4       0     0  16  14\n",
       "..    ...   ...  ..  ..\n",
       "375     0     2  12  11\n",
       "376     5     0   7   4\n",
       "377     1     3  11   5\n",
       "378     3     1   9  16\n",
       "379     1     1  16  13\n",
       "\n",
       "[380 rows x 4 columns]"
      ]
     },
     "execution_count": 58,
     "metadata": {},
     "output_type": "execute_result"
    }
   ],
   "source": [
    "#Question 3 of Question 2 - Making a box plot for home fouls,away fouls,home goals and away goals#\n",
    "#Creating Dataframe for only the data I need#\n",
    "Fouls = df_football[['FTHG', 'FTAG', 'HF', 'AF']]\n",
    "Fouls"
   ]
  },
  {
   "cell_type": "code",
   "execution_count": 59,
   "id": "dec913c8",
   "metadata": {},
   "outputs": [
    {
     "data": {
      "image/png": "[encoded data removed]",
      "text/plain": [
       "<Figure size 1080x360 with 1 Axes>"
      ]
     },
     "metadata": {
      "needs_background": "light"
     },
     "output_type": "display_data"
    }
   ],
   "source": [
    "#Creating my box plot to display the data stored in my table above#\n",
    "Fouls.plot(kind='box', figsize=(15, 5))\n",
    "\n",
    "plt.title('Box Plot for Data Needed')\n",
    "plt.ylabel('Number')\n",
    "\n",
    "plt.show()"
   ]
  },
  {
   "cell_type": "code",
   "execution_count": 60,
   "id": "e6731de7",
   "metadata": {},
   "outputs": [
    {
     "data": {
      "text/plain": [
       "0      09/08/2019\n",
       "1      10/08/2019\n",
       "2      10/08/2019\n",
       "3      10/08/2019\n",
       "4      10/08/2019\n",
       "          ...    \n",
       "375    26/07/2020\n",
       "376    26/07/2020\n",
       "377    26/07/2020\n",
       "378    26/07/2020\n",
       "379    26/07/2020\n",
       "Name: Date, Length: 380, dtype: object"
      ]
     },
     "execution_count": 60,
     "metadata": {},
     "output_type": "execute_result"
    }
   ],
   "source": [
    "#Question 4 of Question 2 - Creating Histogram to plot number of matches on every date#\n",
    "df_football['Date'].head(380)"
   ]
  },
  {
   "cell_type": "code",
   "execution_count": 61,
   "id": "2cb0a65e",
   "metadata": {},
   "outputs": [
    {
     "data": {
      "text/plain": [
       "2019-01-09    2\n",
       "2019-01-10    0\n",
       "2019-01-11    0\n",
       "2019-01-12    4\n",
       "2019-01-13    0\n",
       "             ..\n",
       "2020-12-03    0\n",
       "2020-12-04    0\n",
       "2020-12-05    0\n",
       "2020-12-06    0\n",
       "2020-12-07    4\n",
       "Freq: D, Name: Date, Length: 699, dtype: int64"
      ]
     },
     "execution_count": 61,
     "metadata": {},
     "output_type": "execute_result"
    }
   ],
   "source": [
    "MatchDate = df_football['Date']\n",
    "DateOfMatch = pd.to_datetime(MatchDate).value_counts().resample('D').sum()\n",
    "DateOfMatch\n",
    "\n",
    "#Reference: https://www.geeksforgeeks.org/python-pandas-dataframe-resample/#"
   ]
  },
  {
   "cell_type": "code",
   "execution_count": 62,
   "id": "56be4ac4",
   "metadata": {},
   "outputs": [
    {
     "data": {
      "image/png": "[encoded data removed]",
      "text/plain": [
       "<Figure size 1440x288 with 1 Axes>"
      ]
     },
     "metadata": {
      "needs_background": "light"
     },
     "output_type": "display_data"
    }
   ],
   "source": [
    "#Plotting dates of matches#\n",
    "DateOfMatch.plot(kind='hist', figsize=(20, 4))\n",
    "plt.show()"
   ]
  },
  {
   "cell_type": "markdown",
   "id": "0701bbed",
   "metadata": {},
   "source": [
    "Why is there gaps between some dates?\n",
    "\n",
    "These matches took place when Covid started and as a West Ham fan, I remember all the games being cancelled for periods of time"
   ]
  },
  {
   "cell_type": "code",
   "execution_count": 63,
   "id": "9a927000",
   "metadata": {},
   "outputs": [
    {
     "name": "stdout",
     "output_type": "stream",
     "text": [
      "West Ham\n"
     ]
    }
   ],
   "source": [
    "#Question 5 of Question 2#\n",
    "#Reference: https://www.geeksforgeeks.org/python-pandas-dataframe-groupby/#\n",
    "#I will be choosing West Ham for my team#\n",
    "print(df_football.iloc[1,3])"
   ]
  },
  {
   "cell_type": "code",
   "execution_count": 64,
   "id": "22ef7b20",
   "metadata": {},
   "outputs": [
    {
     "data": {
      "text/html": [
       "<div>\n",
       "<style scoped>\n",
       "    .dataframe tbody tr th:only-of-type {\n",
       "        vertical-align: middle;\n",
       "    }\n",
       "\n",
       "    .dataframe tbody tr th {\n",
       "        vertical-align: top;\n",
       "    }\n",
       "\n",
       "    .dataframe thead th {\n",
       "        text-align: right;\n",
       "    }\n",
       "</style>\n",
       "<table border=\"1\" class=\"dataframe\">\n",
       "  <thead>\n",
       "    <tr style=\"text-align: right;\">\n",
       "      <th></th>\n",
       "      <th>Div</th>\n",
       "      <th>Date</th>\n",
       "      <th>Time</th>\n",
       "      <th>AwayTeam</th>\n",
       "      <th>FTHG</th>\n",
       "      <th>FTAG</th>\n",
       "      <th>FTR</th>\n",
       "      <th>HTHG</th>\n",
       "      <th>HTAG</th>\n",
       "      <th>HTR</th>\n",
       "      <th>...</th>\n",
       "      <th>AvgC&lt;2.5</th>\n",
       "      <th>AHCh</th>\n",
       "      <th>B365CAHH</th>\n",
       "      <th>B365CAHA</th>\n",
       "      <th>PCAHH</th>\n",
       "      <th>PCAHA</th>\n",
       "      <th>MaxCAHH</th>\n",
       "      <th>MaxCAHA</th>\n",
       "      <th>AvgCAHH</th>\n",
       "      <th>AvgCAHA</th>\n",
       "    </tr>\n",
       "    <tr>\n",
       "      <th>HomeTeam</th>\n",
       "      <th></th>\n",
       "      <th></th>\n",
       "      <th></th>\n",
       "      <th></th>\n",
       "      <th></th>\n",
       "      <th></th>\n",
       "      <th></th>\n",
       "      <th></th>\n",
       "      <th></th>\n",
       "      <th></th>\n",
       "      <th></th>\n",
       "      <th></th>\n",
       "      <th></th>\n",
       "      <th></th>\n",
       "      <th></th>\n",
       "      <th></th>\n",
       "      <th></th>\n",
       "      <th></th>\n",
       "      <th></th>\n",
       "      <th></th>\n",
       "      <th></th>\n",
       "    </tr>\n",
       "  </thead>\n",
       "  <tbody>\n",
       "    <tr>\n",
       "      <th>Arsenal</th>\n",
       "      <td>E0</td>\n",
       "      <td>17/08/2019</td>\n",
       "      <td>12:30</td>\n",
       "      <td>Burnley</td>\n",
       "      <td>2</td>\n",
       "      <td>1</td>\n",
       "      <td>H</td>\n",
       "      <td>1</td>\n",
       "      <td>1</td>\n",
       "      <td>D</td>\n",
       "      <td>...</td>\n",
       "      <td>2.35</td>\n",
       "      <td>-1.50</td>\n",
       "      <td>2.11</td>\n",
       "      <td>1.82</td>\n",
       "      <td>2.11</td>\n",
       "      <td>1.82</td>\n",
       "      <td>2.16</td>\n",
       "      <td>1.94</td>\n",
       "      <td>2.05</td>\n",
       "      <td>1.84</td>\n",
       "    </tr>\n",
       "    <tr>\n",
       "      <th>Aston Villa</th>\n",
       "      <td>E0</td>\n",
       "      <td>17/08/2019</td>\n",
       "      <td>15:00</td>\n",
       "      <td>Bournemouth</td>\n",
       "      <td>1</td>\n",
       "      <td>2</td>\n",
       "      <td>A</td>\n",
       "      <td>0</td>\n",
       "      <td>2</td>\n",
       "      <td>A</td>\n",
       "      <td>...</td>\n",
       "      <td>2.26</td>\n",
       "      <td>-0.25</td>\n",
       "      <td>2.01</td>\n",
       "      <td>1.92</td>\n",
       "      <td>2.01</td>\n",
       "      <td>1.92</td>\n",
       "      <td>2.01</td>\n",
       "      <td>1.96</td>\n",
       "      <td>1.97</td>\n",
       "      <td>1.92</td>\n",
       "    </tr>\n",
       "    <tr>\n",
       "      <th>Bournemouth</th>\n",
       "      <td>E0</td>\n",
       "      <td>10/08/2019</td>\n",
       "      <td>15:00</td>\n",
       "      <td>Sheffield United</td>\n",
       "      <td>1</td>\n",
       "      <td>1</td>\n",
       "      <td>D</td>\n",
       "      <td>0</td>\n",
       "      <td>0</td>\n",
       "      <td>D</td>\n",
       "      <td>...</td>\n",
       "      <td>1.92</td>\n",
       "      <td>-0.50</td>\n",
       "      <td>1.95</td>\n",
       "      <td>1.95</td>\n",
       "      <td>1.98</td>\n",
       "      <td>1.95</td>\n",
       "      <td>2.00</td>\n",
       "      <td>1.96</td>\n",
       "      <td>1.96</td>\n",
       "      <td>1.92</td>\n",
       "    </tr>\n",
       "    <tr>\n",
       "      <th>Brighton</th>\n",
       "      <td>E0</td>\n",
       "      <td>17/08/2019</td>\n",
       "      <td>15:00</td>\n",
       "      <td>West Ham</td>\n",
       "      <td>1</td>\n",
       "      <td>1</td>\n",
       "      <td>D</td>\n",
       "      <td>0</td>\n",
       "      <td>0</td>\n",
       "      <td>D</td>\n",
       "      <td>...</td>\n",
       "      <td>1.91</td>\n",
       "      <td>-0.25</td>\n",
       "      <td>1.91</td>\n",
       "      <td>2.02</td>\n",
       "      <td>1.93</td>\n",
       "      <td>2.00</td>\n",
       "      <td>1.96</td>\n",
       "      <td>2.15</td>\n",
       "      <td>1.91</td>\n",
       "      <td>1.98</td>\n",
       "    </tr>\n",
       "    <tr>\n",
       "      <th>Burnley</th>\n",
       "      <td>E0</td>\n",
       "      <td>10/08/2019</td>\n",
       "      <td>15:00</td>\n",
       "      <td>Southampton</td>\n",
       "      <td>3</td>\n",
       "      <td>0</td>\n",
       "      <td>H</td>\n",
       "      <td>0</td>\n",
       "      <td>0</td>\n",
       "      <td>D</td>\n",
       "      <td>...</td>\n",
       "      <td>1.71</td>\n",
       "      <td>0.00</td>\n",
       "      <td>1.87</td>\n",
       "      <td>2.03</td>\n",
       "      <td>1.89</td>\n",
       "      <td>2.03</td>\n",
       "      <td>1.90</td>\n",
       "      <td>2.07</td>\n",
       "      <td>1.86</td>\n",
       "      <td>2.02</td>\n",
       "    </tr>\n",
       "    <tr>\n",
       "      <th>Chelsea</th>\n",
       "      <td>E0</td>\n",
       "      <td>18/08/2019</td>\n",
       "      <td>16:30</td>\n",
       "      <td>Leicester</td>\n",
       "      <td>1</td>\n",
       "      <td>1</td>\n",
       "      <td>D</td>\n",
       "      <td>1</td>\n",
       "      <td>0</td>\n",
       "      <td>H</td>\n",
       "      <td>...</td>\n",
       "      <td>2.01</td>\n",
       "      <td>-0.75</td>\n",
       "      <td>1.93</td>\n",
       "      <td>1.97</td>\n",
       "      <td>1.96</td>\n",
       "      <td>1.98</td>\n",
       "      <td>2.01</td>\n",
       "      <td>2.06</td>\n",
       "      <td>1.94</td>\n",
       "      <td>1.96</td>\n",
       "    </tr>\n",
       "    <tr>\n",
       "      <th>Crystal Palace</th>\n",
       "      <td>E0</td>\n",
       "      <td>10/08/2019</td>\n",
       "      <td>15:00</td>\n",
       "      <td>Everton</td>\n",
       "      <td>0</td>\n",
       "      <td>0</td>\n",
       "      <td>D</td>\n",
       "      <td>0</td>\n",
       "      <td>0</td>\n",
       "      <td>D</td>\n",
       "      <td>...</td>\n",
       "      <td>1.71</td>\n",
       "      <td>0.25</td>\n",
       "      <td>1.82</td>\n",
       "      <td>2.08</td>\n",
       "      <td>1.97</td>\n",
       "      <td>1.96</td>\n",
       "      <td>2.03</td>\n",
       "      <td>2.08</td>\n",
       "      <td>1.96</td>\n",
       "      <td>1.93</td>\n",
       "    </tr>\n",
       "    <tr>\n",
       "      <th>Everton</th>\n",
       "      <td>E0</td>\n",
       "      <td>17/08/2019</td>\n",
       "      <td>15:00</td>\n",
       "      <td>Watford</td>\n",
       "      <td>1</td>\n",
       "      <td>0</td>\n",
       "      <td>H</td>\n",
       "      <td>1</td>\n",
       "      <td>0</td>\n",
       "      <td>H</td>\n",
       "      <td>...</td>\n",
       "      <td>2.07</td>\n",
       "      <td>-0.75</td>\n",
       "      <td>2.11</td>\n",
       "      <td>1.82</td>\n",
       "      <td>2.12</td>\n",
       "      <td>1.81</td>\n",
       "      <td>2.16</td>\n",
       "      <td>1.87</td>\n",
       "      <td>2.07</td>\n",
       "      <td>1.83</td>\n",
       "    </tr>\n",
       "    <tr>\n",
       "      <th>Leicester</th>\n",
       "      <td>E0</td>\n",
       "      <td>11/08/2019</td>\n",
       "      <td>14:00</td>\n",
       "      <td>Wolves</td>\n",
       "      <td>0</td>\n",
       "      <td>0</td>\n",
       "      <td>D</td>\n",
       "      <td>0</td>\n",
       "      <td>0</td>\n",
       "      <td>D</td>\n",
       "      <td>...</td>\n",
       "      <td>1.62</td>\n",
       "      <td>-0.25</td>\n",
       "      <td>2.07</td>\n",
       "      <td>1.83</td>\n",
       "      <td>2.11</td>\n",
       "      <td>1.83</td>\n",
       "      <td>2.12</td>\n",
       "      <td>1.98</td>\n",
       "      <td>2.06</td>\n",
       "      <td>1.84</td>\n",
       "    </tr>\n",
       "    <tr>\n",
       "      <th>Liverpool</th>\n",
       "      <td>E0</td>\n",
       "      <td>09/08/2019</td>\n",
       "      <td>20:00</td>\n",
       "      <td>Norwich</td>\n",
       "      <td>4</td>\n",
       "      <td>1</td>\n",
       "      <td>H</td>\n",
       "      <td>4</td>\n",
       "      <td>0</td>\n",
       "      <td>H</td>\n",
       "      <td>...</td>\n",
       "      <td>3.43</td>\n",
       "      <td>-2.25</td>\n",
       "      <td>1.91</td>\n",
       "      <td>1.99</td>\n",
       "      <td>1.94</td>\n",
       "      <td>1.98</td>\n",
       "      <td>1.99</td>\n",
       "      <td>2.07</td>\n",
       "      <td>1.90</td>\n",
       "      <td>1.99</td>\n",
       "    </tr>\n",
       "    <tr>\n",
       "      <th>Man City</th>\n",
       "      <td>E0</td>\n",
       "      <td>17/08/2019</td>\n",
       "      <td>17:30</td>\n",
       "      <td>Tottenham</td>\n",
       "      <td>2</td>\n",
       "      <td>2</td>\n",
       "      <td>D</td>\n",
       "      <td>2</td>\n",
       "      <td>1</td>\n",
       "      <td>H</td>\n",
       "      <td>...</td>\n",
       "      <td>2.62</td>\n",
       "      <td>-1.50</td>\n",
       "      <td>2.05</td>\n",
       "      <td>1.88</td>\n",
       "      <td>2.04</td>\n",
       "      <td>1.89</td>\n",
       "      <td>2.07</td>\n",
       "      <td>1.97</td>\n",
       "      <td>2.00</td>\n",
       "      <td>1.88</td>\n",
       "    </tr>\n",
       "    <tr>\n",
       "      <th>Man United</th>\n",
       "      <td>E0</td>\n",
       "      <td>11/08/2019</td>\n",
       "      <td>16:30</td>\n",
       "      <td>Chelsea</td>\n",
       "      <td>4</td>\n",
       "      <td>0</td>\n",
       "      <td>H</td>\n",
       "      <td>1</td>\n",
       "      <td>0</td>\n",
       "      <td>H</td>\n",
       "      <td>...</td>\n",
       "      <td>1.84</td>\n",
       "      <td>-0.50</td>\n",
       "      <td>2.02</td>\n",
       "      <td>1.88</td>\n",
       "      <td>2.04</td>\n",
       "      <td>1.90</td>\n",
       "      <td>2.10</td>\n",
       "      <td>1.91</td>\n",
       "      <td>2.04</td>\n",
       "      <td>1.85</td>\n",
       "    </tr>\n",
       "    <tr>\n",
       "      <th>Newcastle</th>\n",
       "      <td>E0</td>\n",
       "      <td>11/08/2019</td>\n",
       "      <td>14:00</td>\n",
       "      <td>Arsenal</td>\n",
       "      <td>0</td>\n",
       "      <td>1</td>\n",
       "      <td>A</td>\n",
       "      <td>0</td>\n",
       "      <td>0</td>\n",
       "      <td>D</td>\n",
       "      <td>...</td>\n",
       "      <td>2.05</td>\n",
       "      <td>0.25</td>\n",
       "      <td>1.99</td>\n",
       "      <td>1.91</td>\n",
       "      <td>1.99</td>\n",
       "      <td>1.95</td>\n",
       "      <td>2.17</td>\n",
       "      <td>1.97</td>\n",
       "      <td>2.00</td>\n",
       "      <td>1.89</td>\n",
       "    </tr>\n",
       "    <tr>\n",
       "      <th>Norwich</th>\n",
       "      <td>E0</td>\n",
       "      <td>17/08/2019</td>\n",
       "      <td>15:00</td>\n",
       "      <td>Newcastle</td>\n",
       "      <td>3</td>\n",
       "      <td>1</td>\n",
       "      <td>H</td>\n",
       "      <td>1</td>\n",
       "      <td>0</td>\n",
       "      <td>H</td>\n",
       "      <td>...</td>\n",
       "      <td>1.90</td>\n",
       "      <td>-0.25</td>\n",
       "      <td>1.84</td>\n",
       "      <td>2.09</td>\n",
       "      <td>1.85</td>\n",
       "      <td>2.08</td>\n",
       "      <td>1.88</td>\n",
       "      <td>2.15</td>\n",
       "      <td>1.84</td>\n",
       "      <td>2.05</td>\n",
       "    </tr>\n",
       "    <tr>\n",
       "      <th>Sheffield United</th>\n",
       "      <td>E0</td>\n",
       "      <td>18/08/2019</td>\n",
       "      <td>14:00</td>\n",
       "      <td>Crystal Palace</td>\n",
       "      <td>1</td>\n",
       "      <td>0</td>\n",
       "      <td>H</td>\n",
       "      <td>0</td>\n",
       "      <td>0</td>\n",
       "      <td>D</td>\n",
       "      <td>...</td>\n",
       "      <td>1.76</td>\n",
       "      <td>-0.25</td>\n",
       "      <td>2.02</td>\n",
       "      <td>1.77</td>\n",
       "      <td>2.14</td>\n",
       "      <td>1.81</td>\n",
       "      <td>2.18</td>\n",
       "      <td>1.84</td>\n",
       "      <td>2.13</td>\n",
       "      <td>1.78</td>\n",
       "    </tr>\n",
       "    <tr>\n",
       "      <th>Southampton</th>\n",
       "      <td>E0</td>\n",
       "      <td>17/08/2019</td>\n",
       "      <td>15:00</td>\n",
       "      <td>Liverpool</td>\n",
       "      <td>1</td>\n",
       "      <td>2</td>\n",
       "      <td>A</td>\n",
       "      <td>0</td>\n",
       "      <td>1</td>\n",
       "      <td>A</td>\n",
       "      <td>...</td>\n",
       "      <td>2.32</td>\n",
       "      <td>1.00</td>\n",
       "      <td>2.07</td>\n",
       "      <td>1.86</td>\n",
       "      <td>2.05</td>\n",
       "      <td>1.88</td>\n",
       "      <td>2.21</td>\n",
       "      <td>1.90</td>\n",
       "      <td>2.08</td>\n",
       "      <td>1.81</td>\n",
       "    </tr>\n",
       "    <tr>\n",
       "      <th>Tottenham</th>\n",
       "      <td>E0</td>\n",
       "      <td>10/08/2019</td>\n",
       "      <td>17:30</td>\n",
       "      <td>Aston Villa</td>\n",
       "      <td>3</td>\n",
       "      <td>1</td>\n",
       "      <td>H</td>\n",
       "      <td>0</td>\n",
       "      <td>1</td>\n",
       "      <td>A</td>\n",
       "      <td>...</td>\n",
       "      <td>2.40</td>\n",
       "      <td>-1.50</td>\n",
       "      <td>2.10</td>\n",
       "      <td>1.70</td>\n",
       "      <td>2.18</td>\n",
       "      <td>1.77</td>\n",
       "      <td>2.21</td>\n",
       "      <td>1.87</td>\n",
       "      <td>2.08</td>\n",
       "      <td>1.80</td>\n",
       "    </tr>\n",
       "    <tr>\n",
       "      <th>Watford</th>\n",
       "      <td>E0</td>\n",
       "      <td>10/08/2019</td>\n",
       "      <td>15:00</td>\n",
       "      <td>Brighton</td>\n",
       "      <td>0</td>\n",
       "      <td>3</td>\n",
       "      <td>A</td>\n",
       "      <td>0</td>\n",
       "      <td>1</td>\n",
       "      <td>A</td>\n",
       "      <td>...</td>\n",
       "      <td>1.73</td>\n",
       "      <td>-0.50</td>\n",
       "      <td>2.04</td>\n",
       "      <td>1.86</td>\n",
       "      <td>2.05</td>\n",
       "      <td>1.88</td>\n",
       "      <td>2.12</td>\n",
       "      <td>1.91</td>\n",
       "      <td>2.05</td>\n",
       "      <td>1.84</td>\n",
       "    </tr>\n",
       "    <tr>\n",
       "      <th>West Ham</th>\n",
       "      <td>E0</td>\n",
       "      <td>10/08/2019</td>\n",
       "      <td>12:30</td>\n",
       "      <td>Man City</td>\n",
       "      <td>0</td>\n",
       "      <td>5</td>\n",
       "      <td>A</td>\n",
       "      <td>0</td>\n",
       "      <td>1</td>\n",
       "      <td>A</td>\n",
       "      <td>...</td>\n",
       "      <td>2.91</td>\n",
       "      <td>1.75</td>\n",
       "      <td>1.95</td>\n",
       "      <td>1.95</td>\n",
       "      <td>1.96</td>\n",
       "      <td>1.97</td>\n",
       "      <td>2.07</td>\n",
       "      <td>1.98</td>\n",
       "      <td>1.97</td>\n",
       "      <td>1.92</td>\n",
       "    </tr>\n",
       "    <tr>\n",
       "      <th>Wolves</th>\n",
       "      <td>E0</td>\n",
       "      <td>19/08/2019</td>\n",
       "      <td>20:00</td>\n",
       "      <td>Man United</td>\n",
       "      <td>1</td>\n",
       "      <td>1</td>\n",
       "      <td>D</td>\n",
       "      <td>0</td>\n",
       "      <td>1</td>\n",
       "      <td>A</td>\n",
       "      <td>...</td>\n",
       "      <td>1.74</td>\n",
       "      <td>0.25</td>\n",
       "      <td>1.75</td>\n",
       "      <td>2.20</td>\n",
       "      <td>1.77</td>\n",
       "      <td>2.19</td>\n",
       "      <td>1.89</td>\n",
       "      <td>2.25</td>\n",
       "      <td>1.77</td>\n",
       "      <td>2.15</td>\n",
       "    </tr>\n",
       "  </tbody>\n",
       "</table>\n",
       "<p>20 rows × 105 columns</p>\n",
       "</div>"
      ],
      "text/plain": [
       "                 Div        Date   Time          AwayTeam  FTHG  FTAG FTR  \\\n",
       "HomeTeam                                                                    \n",
       "Arsenal           E0  17/08/2019  12:30           Burnley     2     1   H   \n",
       "Aston Villa       E0  17/08/2019  15:00       Bournemouth     1     2   A   \n",
       "Bournemouth       E0  10/08/2019  15:00  Sheffield United     1     1   D   \n",
       "Brighton          E0  17/08/2019  15:00          West Ham     1     1   D   \n",
       "Burnley           E0  10/08/2019  15:00       Southampton     3     0   H   \n",
       "Chelsea           E0  18/08/2019  16:30         Leicester     1     1   D   \n",
       "Crystal Palace    E0  10/08/2019  15:00           Everton     0     0   D   \n",
       "Everton           E0  17/08/2019  15:00           Watford     1     0   H   \n",
       "Leicester         E0  11/08/2019  14:00            Wolves     0     0   D   \n",
       "Liverpool         E0  09/08/2019  20:00           Norwich     4     1   H   \n",
       "Man City          E0  17/08/2019  17:30         Tottenham     2     2   D   \n",
       "Man United        E0  11/08/2019  16:30           Chelsea     4     0   H   \n",
       "Newcastle         E0  11/08/2019  14:00           Arsenal     0     1   A   \n",
       "Norwich           E0  17/08/2019  15:00         Newcastle     3     1   H   \n",
       "Sheffield United  E0  18/08/2019  14:00    Crystal Palace     1     0   H   \n",
       "Southampton       E0  17/08/2019  15:00         Liverpool     1     2   A   \n",
       "Tottenham         E0  10/08/2019  17:30       Aston Villa     3     1   H   \n",
       "Watford           E0  10/08/2019  15:00          Brighton     0     3   A   \n",
       "West Ham          E0  10/08/2019  12:30          Man City     0     5   A   \n",
       "Wolves            E0  19/08/2019  20:00        Man United     1     1   D   \n",
       "\n",
       "                  HTHG  HTAG HTR  ... AvgC<2.5  AHCh  B365CAHH  B365CAHA  \\\n",
       "HomeTeam                          ...                                      \n",
       "Arsenal              1     1   D  ...     2.35 -1.50      2.11      1.82   \n",
       "Aston Villa          0     2   A  ...     2.26 -0.25      2.01      1.92   \n",
       "Bournemouth          0     0   D  ...     1.92 -0.50      1.95      1.95   \n",
       "Brighton             0     0   D  ...     1.91 -0.25      1.91      2.02   \n",
       "Burnley              0     0   D  ...     1.71  0.00      1.87      2.03   \n",
       "Chelsea              1     0   H  ...     2.01 -0.75      1.93      1.97   \n",
       "Crystal Palace       0     0   D  ...     1.71  0.25      1.82      2.08   \n",
       "Everton              1     0   H  ...     2.07 -0.75      2.11      1.82   \n",
       "Leicester            0     0   D  ...     1.62 -0.25      2.07      1.83   \n",
       "Liverpool            4     0   H  ...     3.43 -2.25      1.91      1.99   \n",
       "Man City             2     1   H  ...     2.62 -1.50      2.05      1.88   \n",
       "Man United           1     0   H  ...     1.84 -0.50      2.02      1.88   \n",
       "Newcastle            0     0   D  ...     2.05  0.25      1.99      1.91   \n",
       "Norwich              1     0   H  ...     1.90 -0.25      1.84      2.09   \n",
       "Sheffield United     0     0   D  ...     1.76 -0.25      2.02      1.77   \n",
       "Southampton          0     1   A  ...     2.32  1.00      2.07      1.86   \n",
       "Tottenham            0     1   A  ...     2.40 -1.50      2.10      1.70   \n",
       "Watford              0     1   A  ...     1.73 -0.50      2.04      1.86   \n",
       "West Ham             0     1   A  ...     2.91  1.75      1.95      1.95   \n",
       "Wolves               0     1   A  ...     1.74  0.25      1.75      2.20   \n",
       "\n",
       "                  PCAHH  PCAHA  MaxCAHH  MaxCAHA  AvgCAHH  AvgCAHA  \n",
       "HomeTeam                                                            \n",
       "Arsenal            2.11   1.82     2.16     1.94     2.05     1.84  \n",
       "Aston Villa        2.01   1.92     2.01     1.96     1.97     1.92  \n",
       "Bournemouth        1.98   1.95     2.00     1.96     1.96     1.92  \n",
       "Brighton           1.93   2.00     1.96     2.15     1.91     1.98  \n",
       "Burnley            1.89   2.03     1.90     2.07     1.86     2.02  \n",
       "Chelsea            1.96   1.98     2.01     2.06     1.94     1.96  \n",
       "Crystal Palace     1.97   1.96     2.03     2.08     1.96     1.93  \n",
       "Everton            2.12   1.81     2.16     1.87     2.07     1.83  \n",
       "Leicester          2.11   1.83     2.12     1.98     2.06     1.84  \n",
       "Liverpool          1.94   1.98     1.99     2.07     1.90     1.99  \n",
       "Man City           2.04   1.89     2.07     1.97     2.00     1.88  \n",
       "Man United         2.04   1.90     2.10     1.91     2.04     1.85  \n",
       "Newcastle          1.99   1.95     2.17     1.97     2.00     1.89  \n",
       "Norwich            1.85   2.08     1.88     2.15     1.84     2.05  \n",
       "Sheffield United   2.14   1.81     2.18     1.84     2.13     1.78  \n",
       "Southampton        2.05   1.88     2.21     1.90     2.08     1.81  \n",
       "Tottenham          2.18   1.77     2.21     1.87     2.08     1.80  \n",
       "Watford            2.05   1.88     2.12     1.91     2.05     1.84  \n",
       "West Ham           1.96   1.97     2.07     1.98     1.97     1.92  \n",
       "Wolves             1.77   2.19     1.89     2.25     1.77     2.15  \n",
       "\n",
       "[20 rows x 105 columns]"
      ]
     },
     "execution_count": 64,
     "metadata": {},
     "output_type": "execute_result"
    }
   ],
   "source": [
    "football = df_football.groupby('HomeTeam')\n",
    "football.first()"
   ]
  },
  {
   "cell_type": "code",
   "execution_count": 65,
   "id": "595fa97f",
   "metadata": {},
   "outputs": [
    {
     "data": {
      "text/html": [
       "<div>\n",
       "<style scoped>\n",
       "    .dataframe tbody tr th:only-of-type {\n",
       "        vertical-align: middle;\n",
       "    }\n",
       "\n",
       "    .dataframe tbody tr th {\n",
       "        vertical-align: top;\n",
       "    }\n",
       "\n",
       "    .dataframe thead th {\n",
       "        text-align: right;\n",
       "    }\n",
       "</style>\n",
       "<table border=\"1\" class=\"dataframe\">\n",
       "  <thead>\n",
       "    <tr style=\"text-align: right;\">\n",
       "      <th></th>\n",
       "      <th>Div</th>\n",
       "      <th>Date</th>\n",
       "      <th>Time</th>\n",
       "      <th>HomeTeam</th>\n",
       "      <th>AwayTeam</th>\n",
       "      <th>FTHG</th>\n",
       "      <th>FTAG</th>\n",
       "      <th>FTR</th>\n",
       "      <th>HTHG</th>\n",
       "      <th>HTAG</th>\n",
       "      <th>...</th>\n",
       "      <th>AvgC&lt;2.5</th>\n",
       "      <th>AHCh</th>\n",
       "      <th>B365CAHH</th>\n",
       "      <th>B365CAHA</th>\n",
       "      <th>PCAHH</th>\n",
       "      <th>PCAHA</th>\n",
       "      <th>MaxCAHH</th>\n",
       "      <th>MaxCAHA</th>\n",
       "      <th>AvgCAHH</th>\n",
       "      <th>AvgCAHA</th>\n",
       "    </tr>\n",
       "  </thead>\n",
       "  <tbody>\n",
       "    <tr>\n",
       "      <th>1</th>\n",
       "      <td>E0</td>\n",
       "      <td>10/08/2019</td>\n",
       "      <td>12:30</td>\n",
       "      <td>West Ham</td>\n",
       "      <td>Man City</td>\n",
       "      <td>0</td>\n",
       "      <td>5</td>\n",
       "      <td>A</td>\n",
       "      <td>0</td>\n",
       "      <td>1</td>\n",
       "      <td>...</td>\n",
       "      <td>2.91</td>\n",
       "      <td>1.75</td>\n",
       "      <td>1.95</td>\n",
       "      <td>1.95</td>\n",
       "      <td>1.96</td>\n",
       "      <td>1.97</td>\n",
       "      <td>2.07</td>\n",
       "      <td>1.98</td>\n",
       "      <td>1.97</td>\n",
       "      <td>1.92</td>\n",
       "    </tr>\n",
       "    <tr>\n",
       "      <th>36</th>\n",
       "      <td>E0</td>\n",
       "      <td>31/08/2019</td>\n",
       "      <td>15:00</td>\n",
       "      <td>West Ham</td>\n",
       "      <td>Norwich</td>\n",
       "      <td>2</td>\n",
       "      <td>0</td>\n",
       "      <td>H</td>\n",
       "      <td>1</td>\n",
       "      <td>0</td>\n",
       "      <td>...</td>\n",
       "      <td>2.85</td>\n",
       "      <td>-0.50</td>\n",
       "      <td>1.92</td>\n",
       "      <td>2.01</td>\n",
       "      <td>1.93</td>\n",
       "      <td>2.00</td>\n",
       "      <td>1.93</td>\n",
       "      <td>2.04</td>\n",
       "      <td>1.90</td>\n",
       "      <td>1.99</td>\n",
       "    </tr>\n",
       "    <tr>\n",
       "      <th>57</th>\n",
       "      <td>E0</td>\n",
       "      <td>22/09/2019</td>\n",
       "      <td>14:00</td>\n",
       "      <td>West Ham</td>\n",
       "      <td>Man United</td>\n",
       "      <td>2</td>\n",
       "      <td>0</td>\n",
       "      <td>H</td>\n",
       "      <td>1</td>\n",
       "      <td>0</td>\n",
       "      <td>...</td>\n",
       "      <td>2.06</td>\n",
       "      <td>0.25</td>\n",
       "      <td>1.84</td>\n",
       "      <td>2.09</td>\n",
       "      <td>1.83</td>\n",
       "      <td>2.10</td>\n",
       "      <td>1.91</td>\n",
       "      <td>2.12</td>\n",
       "      <td>1.85</td>\n",
       "      <td>2.05</td>\n",
       "    </tr>\n",
       "    <tr>\n",
       "      <th>75</th>\n",
       "      <td>E0</td>\n",
       "      <td>05/10/2019</td>\n",
       "      <td>17:30</td>\n",
       "      <td>West Ham</td>\n",
       "      <td>Crystal Palace</td>\n",
       "      <td>1</td>\n",
       "      <td>2</td>\n",
       "      <td>A</td>\n",
       "      <td>0</td>\n",
       "      <td>0</td>\n",
       "      <td>...</td>\n",
       "      <td>2.15</td>\n",
       "      <td>-0.50</td>\n",
       "      <td>2.02</td>\n",
       "      <td>1.91</td>\n",
       "      <td>2.02</td>\n",
       "      <td>1.92</td>\n",
       "      <td>2.05</td>\n",
       "      <td>1.95</td>\n",
       "      <td>2.00</td>\n",
       "      <td>1.89</td>\n",
       "    </tr>\n",
       "    <tr>\n",
       "      <th>94</th>\n",
       "      <td>E0</td>\n",
       "      <td>26/10/2019</td>\n",
       "      <td>15:00</td>\n",
       "      <td>West Ham</td>\n",
       "      <td>Sheffield United</td>\n",
       "      <td>1</td>\n",
       "      <td>1</td>\n",
       "      <td>D</td>\n",
       "      <td>1</td>\n",
       "      <td>0</td>\n",
       "      <td>...</td>\n",
       "      <td>1.95</td>\n",
       "      <td>-0.25</td>\n",
       "      <td>1.99</td>\n",
       "      <td>1.94</td>\n",
       "      <td>1.97</td>\n",
       "      <td>1.96</td>\n",
       "      <td>2.02</td>\n",
       "      <td>2.05</td>\n",
       "      <td>1.97</td>\n",
       "      <td>1.93</td>\n",
       "    </tr>\n",
       "    <tr>\n",
       "      <th>106</th>\n",
       "      <td>E0</td>\n",
       "      <td>02/11/2019</td>\n",
       "      <td>15:00</td>\n",
       "      <td>West Ham</td>\n",
       "      <td>Newcastle</td>\n",
       "      <td>2</td>\n",
       "      <td>3</td>\n",
       "      <td>A</td>\n",
       "      <td>0</td>\n",
       "      <td>2</td>\n",
       "      <td>...</td>\n",
       "      <td>2.03</td>\n",
       "      <td>-0.50</td>\n",
       "      <td>1.89</td>\n",
       "      <td>2.04</td>\n",
       "      <td>1.89</td>\n",
       "      <td>2.03</td>\n",
       "      <td>1.90</td>\n",
       "      <td>2.09</td>\n",
       "      <td>1.86</td>\n",
       "      <td>2.03</td>\n",
       "    </tr>\n",
       "    <tr>\n",
       "      <th>120</th>\n",
       "      <td>E0</td>\n",
       "      <td>23/11/2019</td>\n",
       "      <td>12:30</td>\n",
       "      <td>West Ham</td>\n",
       "      <td>Tottenham</td>\n",
       "      <td>2</td>\n",
       "      <td>3</td>\n",
       "      <td>A</td>\n",
       "      <td>0</td>\n",
       "      <td>2</td>\n",
       "      <td>...</td>\n",
       "      <td>2.45</td>\n",
       "      <td>1.00</td>\n",
       "      <td>1.75</td>\n",
       "      <td>2.05</td>\n",
       "      <td>1.80</td>\n",
       "      <td>2.15</td>\n",
       "      <td>1.81</td>\n",
       "      <td>2.20</td>\n",
       "      <td>1.77</td>\n",
       "      <td>2.13</td>\n",
       "    </tr>\n",
       "    <tr>\n",
       "      <th>159</th>\n",
       "      <td>E0</td>\n",
       "      <td>09/12/2019</td>\n",
       "      <td>20:00</td>\n",
       "      <td>West Ham</td>\n",
       "      <td>Arsenal</td>\n",
       "      <td>1</td>\n",
       "      <td>3</td>\n",
       "      <td>A</td>\n",
       "      <td>1</td>\n",
       "      <td>0</td>\n",
       "      <td>...</td>\n",
       "      <td>3.01</td>\n",
       "      <td>0.50</td>\n",
       "      <td>1.97</td>\n",
       "      <td>1.96</td>\n",
       "      <td>1.99</td>\n",
       "      <td>1.95</td>\n",
       "      <td>1.99</td>\n",
       "      <td>1.99</td>\n",
       "      <td>1.95</td>\n",
       "      <td>1.93</td>\n",
       "    </tr>\n",
       "    <tr>\n",
       "      <th>194</th>\n",
       "      <td>E0</td>\n",
       "      <td>28/12/2019</td>\n",
       "      <td>17:30</td>\n",
       "      <td>West Ham</td>\n",
       "      <td>Leicester</td>\n",
       "      <td>1</td>\n",
       "      <td>2</td>\n",
       "      <td>A</td>\n",
       "      <td>1</td>\n",
       "      <td>1</td>\n",
       "      <td>...</td>\n",
       "      <td>2.13</td>\n",
       "      <td>0.00</td>\n",
       "      <td>1.89</td>\n",
       "      <td>2.01</td>\n",
       "      <td>1.92</td>\n",
       "      <td>2.01</td>\n",
       "      <td>1.98</td>\n",
       "      <td>2.04</td>\n",
       "      <td>1.89</td>\n",
       "      <td>1.98</td>\n",
       "    </tr>\n",
       "    <tr>\n",
       "      <th>206</th>\n",
       "      <td>E0</td>\n",
       "      <td>01/01/2020</td>\n",
       "      <td>17:30</td>\n",
       "      <td>West Ham</td>\n",
       "      <td>Bournemouth</td>\n",
       "      <td>4</td>\n",
       "      <td>0</td>\n",
       "      <td>H</td>\n",
       "      <td>3</td>\n",
       "      <td>0</td>\n",
       "      <td>...</td>\n",
       "      <td>1.94</td>\n",
       "      <td>-0.50</td>\n",
       "      <td>1.97</td>\n",
       "      <td>1.96</td>\n",
       "      <td>1.97</td>\n",
       "      <td>1.96</td>\n",
       "      <td>2.00</td>\n",
       "      <td>2.00</td>\n",
       "      <td>1.93</td>\n",
       "      <td>1.94</td>\n",
       "    </tr>\n",
       "    <tr>\n",
       "      <th>225</th>\n",
       "      <td>E0</td>\n",
       "      <td>18/01/2020</td>\n",
       "      <td>15:00</td>\n",
       "      <td>West Ham</td>\n",
       "      <td>Everton</td>\n",
       "      <td>1</td>\n",
       "      <td>1</td>\n",
       "      <td>D</td>\n",
       "      <td>1</td>\n",
       "      <td>1</td>\n",
       "      <td>...</td>\n",
       "      <td>1.90</td>\n",
       "      <td>0.25</td>\n",
       "      <td>1.75</td>\n",
       "      <td>2.05</td>\n",
       "      <td>1.80</td>\n",
       "      <td>2.14</td>\n",
       "      <td>1.83</td>\n",
       "      <td>2.20</td>\n",
       "      <td>1.78</td>\n",
       "      <td>2.12</td>\n",
       "    </tr>\n",
       "    <tr>\n",
       "      <th>239</th>\n",
       "      <td>E0</td>\n",
       "      <td>29/01/2020</td>\n",
       "      <td>19:45</td>\n",
       "      <td>West Ham</td>\n",
       "      <td>Liverpool</td>\n",
       "      <td>0</td>\n",
       "      <td>2</td>\n",
       "      <td>A</td>\n",
       "      <td>0</td>\n",
       "      <td>1</td>\n",
       "      <td>...</td>\n",
       "      <td>2.42</td>\n",
       "      <td>1.50</td>\n",
       "      <td>1.75</td>\n",
       "      <td>2.05</td>\n",
       "      <td>1.82</td>\n",
       "      <td>2.11</td>\n",
       "      <td>1.87</td>\n",
       "      <td>2.19</td>\n",
       "      <td>1.81</td>\n",
       "      <td>2.05</td>\n",
       "    </tr>\n",
       "    <tr>\n",
       "      <th>246</th>\n",
       "      <td>E0</td>\n",
       "      <td>01/02/2020</td>\n",
       "      <td>15:00</td>\n",
       "      <td>West Ham</td>\n",
       "      <td>Brighton</td>\n",
       "      <td>3</td>\n",
       "      <td>3</td>\n",
       "      <td>D</td>\n",
       "      <td>2</td>\n",
       "      <td>0</td>\n",
       "      <td>...</td>\n",
       "      <td>1.91</td>\n",
       "      <td>0.00</td>\n",
       "      <td>1.82</td>\n",
       "      <td>2.11</td>\n",
       "      <td>1.82</td>\n",
       "      <td>2.11</td>\n",
       "      <td>1.87</td>\n",
       "      <td>2.19</td>\n",
       "      <td>1.81</td>\n",
       "      <td>2.06</td>\n",
       "    </tr>\n",
       "    <tr>\n",
       "      <th>274</th>\n",
       "      <td>E0</td>\n",
       "      <td>29/02/2020</td>\n",
       "      <td>15:00</td>\n",
       "      <td>West Ham</td>\n",
       "      <td>Southampton</td>\n",
       "      <td>3</td>\n",
       "      <td>1</td>\n",
       "      <td>H</td>\n",
       "      <td>2</td>\n",
       "      <td>1</td>\n",
       "      <td>...</td>\n",
       "      <td>2.10</td>\n",
       "      <td>0.00</td>\n",
       "      <td>1.88</td>\n",
       "      <td>2.05</td>\n",
       "      <td>1.88</td>\n",
       "      <td>2.04</td>\n",
       "      <td>2.00</td>\n",
       "      <td>2.09</td>\n",
       "      <td>1.88</td>\n",
       "      <td>2.00</td>\n",
       "    </tr>\n",
       "    <tr>\n",
       "      <th>294</th>\n",
       "      <td>E0</td>\n",
       "      <td>20/06/2020</td>\n",
       "      <td>17:30</td>\n",
       "      <td>West Ham</td>\n",
       "      <td>Wolves</td>\n",
       "      <td>0</td>\n",
       "      <td>2</td>\n",
       "      <td>A</td>\n",
       "      <td>0</td>\n",
       "      <td>0</td>\n",
       "      <td>...</td>\n",
       "      <td>1.61</td>\n",
       "      <td>0.50</td>\n",
       "      <td>1.93</td>\n",
       "      <td>2.00</td>\n",
       "      <td>1.94</td>\n",
       "      <td>1.98</td>\n",
       "      <td>1.95</td>\n",
       "      <td>2.10</td>\n",
       "      <td>1.89</td>\n",
       "      <td>2.00</td>\n",
       "    </tr>\n",
       "    <tr>\n",
       "      <th>317</th>\n",
       "      <td>E0</td>\n",
       "      <td>01/07/2020</td>\n",
       "      <td>20:15</td>\n",
       "      <td>West Ham</td>\n",
       "      <td>Chelsea</td>\n",
       "      <td>3</td>\n",
       "      <td>2</td>\n",
       "      <td>H</td>\n",
       "      <td>1</td>\n",
       "      <td>1</td>\n",
       "      <td>...</td>\n",
       "      <td>2.08</td>\n",
       "      <td>1.25</td>\n",
       "      <td>1.89</td>\n",
       "      <td>2.04</td>\n",
       "      <td>1.88</td>\n",
       "      <td>2.05</td>\n",
       "      <td>1.98</td>\n",
       "      <td>2.09</td>\n",
       "      <td>1.86</td>\n",
       "      <td>2.03</td>\n",
       "    </tr>\n",
       "    <tr>\n",
       "      <th>335</th>\n",
       "      <td>E0</td>\n",
       "      <td>08/07/2020</td>\n",
       "      <td>18:00</td>\n",
       "      <td>West Ham</td>\n",
       "      <td>Burnley</td>\n",
       "      <td>0</td>\n",
       "      <td>1</td>\n",
       "      <td>A</td>\n",
       "      <td>0</td>\n",
       "      <td>1</td>\n",
       "      <td>...</td>\n",
       "      <td>1.80</td>\n",
       "      <td>-0.50</td>\n",
       "      <td>1.85</td>\n",
       "      <td>2.05</td>\n",
       "      <td>1.87</td>\n",
       "      <td>2.06</td>\n",
       "      <td>1.93</td>\n",
       "      <td>2.10</td>\n",
       "      <td>1.85</td>\n",
       "      <td>2.03</td>\n",
       "    </tr>\n",
       "    <tr>\n",
       "      <th>359</th>\n",
       "      <td>E0</td>\n",
       "      <td>17/07/2020</td>\n",
       "      <td>20:00</td>\n",
       "      <td>West Ham</td>\n",
       "      <td>Watford</td>\n",
       "      <td>3</td>\n",
       "      <td>1</td>\n",
       "      <td>H</td>\n",
       "      <td>3</td>\n",
       "      <td>0</td>\n",
       "      <td>...</td>\n",
       "      <td>1.68</td>\n",
       "      <td>-0.25</td>\n",
       "      <td>2.11</td>\n",
       "      <td>1.79</td>\n",
       "      <td>2.13</td>\n",
       "      <td>1.81</td>\n",
       "      <td>2.19</td>\n",
       "      <td>1.83</td>\n",
       "      <td>2.10</td>\n",
       "      <td>1.80</td>\n",
       "    </tr>\n",
       "    <tr>\n",
       "      <th>379</th>\n",
       "      <td>E0</td>\n",
       "      <td>26/07/2020</td>\n",
       "      <td>16:00</td>\n",
       "      <td>West Ham</td>\n",
       "      <td>Aston Villa</td>\n",
       "      <td>1</td>\n",
       "      <td>1</td>\n",
       "      <td>D</td>\n",
       "      <td>0</td>\n",
       "      <td>0</td>\n",
       "      <td>...</td>\n",
       "      <td>2.03</td>\n",
       "      <td>0.00</td>\n",
       "      <td>1.93</td>\n",
       "      <td>1.97</td>\n",
       "      <td>1.95</td>\n",
       "      <td>1.98</td>\n",
       "      <td>1.99</td>\n",
       "      <td>2.00</td>\n",
       "      <td>1.93</td>\n",
       "      <td>1.95</td>\n",
       "    </tr>\n",
       "  </tbody>\n",
       "</table>\n",
       "<p>19 rows × 106 columns</p>\n",
       "</div>"
      ],
      "text/plain": [
       "    Div        Date   Time  HomeTeam          AwayTeam  FTHG  FTAG FTR  HTHG  \\\n",
       "1    E0  10/08/2019  12:30  West Ham          Man City     0     5   A     0   \n",
       "36   E0  31/08/2019  15:00  West Ham           Norwich     2     0   H     1   \n",
       "57   E0  22/09/2019  14:00  West Ham        Man United     2     0   H     1   \n",
       "75   E0  05/10/2019  17:30  West Ham    Crystal Palace     1     2   A     0   \n",
       "94   E0  26/10/2019  15:00  West Ham  Sheffield United     1     1   D     1   \n",
       "106  E0  02/11/2019  15:00  West Ham         Newcastle     2     3   A     0   \n",
       "120  E0  23/11/2019  12:30  West Ham         Tottenham     2     3   A     0   \n",
       "159  E0  09/12/2019  20:00  West Ham           Arsenal     1     3   A     1   \n",
       "194  E0  28/12/2019  17:30  West Ham         Leicester     1     2   A     1   \n",
       "206  E0  01/01/2020  17:30  West Ham       Bournemouth     4     0   H     3   \n",
       "225  E0  18/01/2020  15:00  West Ham           Everton     1     1   D     1   \n",
       "239  E0  29/01/2020  19:45  West Ham         Liverpool     0     2   A     0   \n",
       "246  E0  01/02/2020  15:00  West Ham          Brighton     3     3   D     2   \n",
       "274  E0  29/02/2020  15:00  West Ham       Southampton     3     1   H     2   \n",
       "294  E0  20/06/2020  17:30  West Ham            Wolves     0     2   A     0   \n",
       "317  E0  01/07/2020  20:15  West Ham           Chelsea     3     2   H     1   \n",
       "335  E0  08/07/2020  18:00  West Ham           Burnley     0     1   A     0   \n",
       "359  E0  17/07/2020  20:00  West Ham           Watford     3     1   H     3   \n",
       "379  E0  26/07/2020  16:00  West Ham       Aston Villa     1     1   D     0   \n",
       "\n",
       "     HTAG  ... AvgC<2.5  AHCh  B365CAHH  B365CAHA  PCAHH  PCAHA  MaxCAHH  \\\n",
       "1       1  ...     2.91  1.75      1.95      1.95   1.96   1.97     2.07   \n",
       "36      0  ...     2.85 -0.50      1.92      2.01   1.93   2.00     1.93   \n",
       "57      0  ...     2.06  0.25      1.84      2.09   1.83   2.10     1.91   \n",
       "75      0  ...     2.15 -0.50      2.02      1.91   2.02   1.92     2.05   \n",
       "94      0  ...     1.95 -0.25      1.99      1.94   1.97   1.96     2.02   \n",
       "106     2  ...     2.03 -0.50      1.89      2.04   1.89   2.03     1.90   \n",
       "120     2  ...     2.45  1.00      1.75      2.05   1.80   2.15     1.81   \n",
       "159     0  ...     3.01  0.50      1.97      1.96   1.99   1.95     1.99   \n",
       "194     1  ...     2.13  0.00      1.89      2.01   1.92   2.01     1.98   \n",
       "206     0  ...     1.94 -0.50      1.97      1.96   1.97   1.96     2.00   \n",
       "225     1  ...     1.90  0.25      1.75      2.05   1.80   2.14     1.83   \n",
       "239     1  ...     2.42  1.50      1.75      2.05   1.82   2.11     1.87   \n",
       "246     0  ...     1.91  0.00      1.82      2.11   1.82   2.11     1.87   \n",
       "274     1  ...     2.10  0.00      1.88      2.05   1.88   2.04     2.00   \n",
       "294     0  ...     1.61  0.50      1.93      2.00   1.94   1.98     1.95   \n",
       "317     1  ...     2.08  1.25      1.89      2.04   1.88   2.05     1.98   \n",
       "335     1  ...     1.80 -0.50      1.85      2.05   1.87   2.06     1.93   \n",
       "359     0  ...     1.68 -0.25      2.11      1.79   2.13   1.81     2.19   \n",
       "379     0  ...     2.03  0.00      1.93      1.97   1.95   1.98     1.99   \n",
       "\n",
       "     MaxCAHA  AvgCAHH  AvgCAHA  \n",
       "1       1.98     1.97     1.92  \n",
       "36      2.04     1.90     1.99  \n",
       "57      2.12     1.85     2.05  \n",
       "75      1.95     2.00     1.89  \n",
       "94      2.05     1.97     1.93  \n",
       "106     2.09     1.86     2.03  \n",
       "120     2.20     1.77     2.13  \n",
       "159     1.99     1.95     1.93  \n",
       "194     2.04     1.89     1.98  \n",
       "206     2.00     1.93     1.94  \n",
       "225     2.20     1.78     2.12  \n",
       "239     2.19     1.81     2.05  \n",
       "246     2.19     1.81     2.06  \n",
       "274     2.09     1.88     2.00  \n",
       "294     2.10     1.89     2.00  \n",
       "317     2.09     1.86     2.03  \n",
       "335     2.10     1.85     2.03  \n",
       "359     1.83     2.10     1.80  \n",
       "379     2.00     1.93     1.95  \n",
       "\n",
       "[19 rows x 106 columns]"
      ]
     },
     "execution_count": 65,
     "metadata": {},
     "output_type": "execute_result"
    }
   ],
   "source": [
    "#Using groupby method to get all the West Ham match results in the csv file on their own#\n",
    "WestHam = football.get_group('West Ham')\n",
    "WestHam"
   ]
  },
  {
   "cell_type": "code",
   "execution_count": 66,
   "id": "dd508686",
   "metadata": {},
   "outputs": [
    {
     "data": {
      "text/plain": [
       "1      0\n",
       "36     2\n",
       "57     2\n",
       "75     1\n",
       "94     1\n",
       "106    2\n",
       "120    2\n",
       "159    1\n",
       "194    1\n",
       "206    4\n",
       "225    1\n",
       "239    0\n",
       "246    3\n",
       "274    3\n",
       "294    0\n",
       "317    3\n",
       "335    0\n",
       "359    3\n",
       "379    1\n",
       "Name: FTHG, dtype: int64"
      ]
     },
     "execution_count": 66,
     "metadata": {},
     "output_type": "execute_result"
    }
   ],
   "source": [
    "#Separating West Ham home full time home goals from half-time home goals#\n",
    "sorting1 = WestHam['FTHG']\n",
    "sorting1"
   ]
  },
  {
   "cell_type": "code",
   "execution_count": 67,
   "id": "a30d8549",
   "metadata": {},
   "outputs": [
    {
     "data": {
      "text/plain": [
       "1      0\n",
       "36     1\n",
       "57     1\n",
       "75     0\n",
       "94     1\n",
       "106    0\n",
       "120    0\n",
       "159    1\n",
       "194    1\n",
       "206    3\n",
       "225    1\n",
       "239    0\n",
       "246    2\n",
       "274    2\n",
       "294    0\n",
       "317    1\n",
       "335    0\n",
       "359    3\n",
       "379    0\n",
       "Name: HTHG, dtype: int64"
      ]
     },
     "execution_count": 67,
     "metadata": {},
     "output_type": "execute_result"
    }
   ],
   "source": [
    "#Getting West Ham half-time home goals result and separating from full time home goals result above#\n",
    "sorting2 = WestHam['HTHG']\n",
    "sorting2"
   ]
  },
  {
   "cell_type": "code",
   "execution_count": 68,
   "id": "1736b765",
   "metadata": {},
   "outputs": [],
   "source": [
    "#Appending values to an array in order to have the values stored in order to get the mean value#\n",
    "West_Ham = []\n",
    "West_Ham.append(sorting1)\n",
    "West_Ham.append(sorting2)"
   ]
  },
  {
   "cell_type": "code",
   "execution_count": 69,
   "id": "c09a420b",
   "metadata": {},
   "outputs": [
    {
     "data": {
      "text/plain": [
       "1.236842105263158"
      ]
     },
     "execution_count": 69,
     "metadata": {},
     "output_type": "execute_result"
    }
   ],
   "source": [
    "#Mean Number of Goals Scored Per Game#\n",
    "NewArray = sum(West_Ham) / len(West_Ham)\n",
    "NewArray.mean()"
   ]
  },
  {
   "cell_type": "code",
   "execution_count": 70,
   "id": "9c948f23",
   "metadata": {},
   "outputs": [
    {
     "data": {
      "text/plain": [
       "1      1\n",
       "36     0\n",
       "57     0\n",
       "75     0\n",
       "94     0\n",
       "106    2\n",
       "120    2\n",
       "159    0\n",
       "194    1\n",
       "206    0\n",
       "225    1\n",
       "239    1\n",
       "246    0\n",
       "274    1\n",
       "294    0\n",
       "317    1\n",
       "335    1\n",
       "359    0\n",
       "379    0\n",
       "Name: HTAG, dtype: int64"
      ]
     },
     "execution_count": 70,
     "metadata": {},
     "output_type": "execute_result"
    }
   ],
   "source": [
    "#Separating West Ham away half-time goals from full time away goals#\n",
    "sorting3 = WestHam['HTAG']\n",
    "sorting3"
   ]
  },
  {
   "cell_type": "code",
   "execution_count": 71,
   "id": "41e5db1b",
   "metadata": {},
   "outputs": [
    {
     "data": {
      "text/plain": [
       "1      5\n",
       "36     0\n",
       "57     0\n",
       "75     2\n",
       "94     1\n",
       "106    3\n",
       "120    3\n",
       "159    3\n",
       "194    2\n",
       "206    0\n",
       "225    1\n",
       "239    2\n",
       "246    3\n",
       "274    1\n",
       "294    2\n",
       "317    2\n",
       "335    1\n",
       "359    1\n",
       "379    1\n",
       "Name: FTAG, dtype: int64"
      ]
     },
     "execution_count": 71,
     "metadata": {},
     "output_type": "execute_result"
    }
   ],
   "source": [
    "#Separating West Ham away full time goals from half-time away goals#\n",
    "sorting4 = WestHam['FTAG']\n",
    "sorting4"
   ]
  },
  {
   "cell_type": "code",
   "execution_count": 72,
   "id": "852cb492",
   "metadata": {},
   "outputs": [],
   "source": [
    "#Appending my values to an array to get the mean value of the half time away goals and full time away goals result#\n",
    "West_Ham_Away = []\n",
    "West_Ham_Away.append(sorting3)\n",
    "West_Ham_Away.append(sorting4)"
   ]
  },
  {
   "cell_type": "code",
   "execution_count": 73,
   "id": "56224b3c",
   "metadata": {},
   "outputs": [
    {
     "data": {
      "text/plain": [
       "1.1578947368421053"
      ]
     },
     "execution_count": 73,
     "metadata": {},
     "output_type": "execute_result"
    }
   ],
   "source": [
    "#Mean Number of Goals Conceded Per Game#\n",
    "NewWestHamArray = sum(West_Ham_Away) / len(West_Ham_Away)\n",
    "NewWestHamArray.mean()"
   ]
  },
  {
   "cell_type": "code",
   "execution_count": 74,
   "id": "4262c50f",
   "metadata": {},
   "outputs": [],
   "source": [
    "#Probability of Scoring 2 goals or more in the next game#"
   ]
  },
  {
   "cell_type": "code",
   "execution_count": 75,
   "id": "c0ea0ffd",
   "metadata": {},
   "outputs": [
    {
     "data": {
      "text/plain": [
       "63"
      ]
     },
     "execution_count": 75,
     "metadata": {},
     "output_type": "execute_result"
    }
   ],
   "source": [
    "#Getting the sum of West Ham full time home goals and full time away goals#\n",
    "WestHamProbability = WestHam['FTHG'] + WestHam['FTAG']\n",
    "WestHamProbability.sum()"
   ]
  },
  {
   "cell_type": "code",
   "execution_count": 76,
   "id": "e819a3da",
   "metadata": {},
   "outputs": [
    {
     "data": {
      "text/plain": [
       "15.575587375164824"
      ]
     },
     "execution_count": 76,
     "metadata": {},
     "output_type": "execute_result"
    }
   ],
   "source": [
    "poisson.cdf(k=WestHamProbability, mu=2).sum()"
   ]
  },
  {
   "cell_type": "code",
   "execution_count": 77,
   "id": "7b9dd477",
   "metadata": {},
   "outputs": [],
   "source": [
    "#Probability of Conceding 2 goals or more in the next game#"
   ]
  },
  {
   "cell_type": "code",
   "execution_count": 78,
   "id": "3555f49d",
   "metadata": {},
   "outputs": [
    {
     "data": {
      "text/plain": [
       "44"
      ]
     },
     "execution_count": 78,
     "metadata": {},
     "output_type": "execute_result"
    }
   ],
   "source": [
    "#Getting the sum of West Ham full time away goals and half time away goals#\n",
    "WestHamAway = WestHam['FTAG'] + WestHam['HTAG']\n",
    "WestHamAway.sum()"
   ]
  },
  {
   "cell_type": "code",
   "execution_count": 79,
   "id": "f0447bbf",
   "metadata": {},
   "outputs": [
    {
     "data": {
      "text/plain": [
       "12.255361759759925"
      ]
     },
     "execution_count": 79,
     "metadata": {},
     "output_type": "execute_result"
    }
   ],
   "source": [
    "poisson.cdf(k=WestHamAway, mu=2).sum()"
   ]
  },
  {
   "cell_type": "markdown",
   "id": "a939fd56",
   "metadata": {},
   "source": [
    "<h1>Question 3</h1>"
   ]
  },
  {
   "cell_type": "code",
   "execution_count": 2,
   "id": "d2f23b29",
   "metadata": {},
   "outputs": [
    {
     "name": "stdout",
     "output_type": "stream",
     "text": [
      "['lyrics\\\\01-taylor_swift.csv', 'lyrics\\\\02-fearless_taylors_version.csv', 'lyrics\\\\03-speak_now_deluxe_package.csv', 'lyrics\\\\04-red_deluxe_edition.csv', 'lyrics\\\\05-1989_deluxe.csv', 'lyrics\\\\06-reputation.csv', 'lyrics\\\\07-lover.csv', 'lyrics\\\\08-folklore_deluxe_version.csv', 'lyrics\\\\09-evermore_deluxe_version.csv']\n"
     ]
    }
   ],
   "source": [
    "#Reading in Lyrics.csv file#\n",
    "import glob\n",
    "allalbums = glob.glob(\"lyrics/*.csv\")\n",
    "print(allalbums)"
   ]
  },
  {
   "cell_type": "code",
   "execution_count": 10,
   "id": "fa4c4fbf",
   "metadata": {},
   "outputs": [
    {
     "name": "stdout",
     "output_type": "stream",
     "text": [
      "When the dinner is cold and the chatter gets old You ask for the tab Or that moment again, he's insisting that friends Look at each other like that When the words of a sister come back in whispers That prove she was not in fact what she seemed Not a twin from your dreams She's a crook who was caught That old familiar body ache The snaps from the same little breaks in your soul You know when it's time to go Twenty years at your job Then the son of the boss gets the spot that was yours Or trying to stay for the kids When keeping it how it is will only break their hearts worse That old familiar body ache The snaps from the same little breaks in your soul You know when it's time to go Sometimes giving up is the strong thing Sometimes to run is the brave thing Sometimes walking out is the one thing That will find you the right thing Sometimes giving up is the strong thing Sometimes to run is the brave thing Sometimes walking out is the one thing That will find you the right thing Fifteen years, fifteen million tears Begging 'til my knees bled I gave it my all, he gave me nothing at all Then wondered why I left Now he sits on his throne in his palace of bones Praying to his greed He's got my past frozen behind glass But I've got me That old familiar body ache The snaps from the same little breaks in my soul I know when it's time to go Sometimes giving up is the strong thing Sometimes to run is the brave thing Sometimes walking out is the one thing That will find you the right thing Sometimes giving up is the strong thing Sometimes to run is the brave thing Sometimes walking out is the one thing That will find you the right thing That will find you the right thing And you know in your soul You know in your soul When it's time to go You know, you know, you know, you know When it's time to go So then you go Then you go You just go\n"
     ]
    }
   ],
   "source": [
    "#Creating an empty array to store lyrics for song#\n",
    "dfs = []\n",
    "for fp in allalbums:\n",
    "    dftemp = pd.read_csv(fp)\n",
    "    maxtrack = dftemp.track_n.max()\n",
    "\n",
    "    for i in range(1,maxtrack+1):\n",
    "        tracklyrics = \" \".join(dftemp[dftemp.track_n==i][\"lyric\"].values).replace(\"\\\"\", \"\")\n",
    "    \n",
    "print(tracklyrics)"
   ]
  },
  {
   "cell_type": "code",
   "execution_count": 32,
   "id": "5bcb42d0",
   "metadata": {},
   "outputs": [
    {
     "data": {
      "text/plain": [
       "0       1\n",
       "1       1\n",
       "2       1\n",
       "3       1\n",
       "4       1\n",
       "       ..\n",
       "907    17\n",
       "908    17\n",
       "909    17\n",
       "910    17\n",
       "911    17\n",
       "Name: track_n, Length: 912, dtype: int64"
      ]
     },
     "execution_count": 32,
     "metadata": {},
     "output_type": "execute_result"
    }
   ],
   "source": [
    "#Printing Number of tracks in All Albums#\n",
    "dftemp = pd.read_csv(fp)\n",
    "maxtrack = dftemp.track_n\n",
    "maxtrack"
   ]
  },
  {
   "cell_type": "code",
   "execution_count": 12,
   "id": "83e85572",
   "metadata": {},
   "outputs": [
    {
     "data": {
      "text/plain": [
       "['When',\n",
       " 'the',\n",
       " 'dinner',\n",
       " 'is',\n",
       " 'cold',\n",
       " 'and',\n",
       " 'the',\n",
       " 'chatter',\n",
       " 'gets',\n",
       " 'old',\n",
       " 'You',\n",
       " 'ask',\n",
       " 'for',\n",
       " 'the',\n",
       " 'tab',\n",
       " 'Or',\n",
       " 'that',\n",
       " 'moment',\n",
       " 'again,',\n",
       " \"he's\",\n",
       " 'insisting',\n",
       " 'that',\n",
       " 'friends',\n",
       " 'Look',\n",
       " 'at',\n",
       " 'each',\n",
       " 'other',\n",
       " 'like',\n",
       " 'that',\n",
       " 'When',\n",
       " 'the',\n",
       " 'words',\n",
       " 'of',\n",
       " 'a',\n",
       " 'sister',\n",
       " 'come',\n",
       " 'back',\n",
       " 'in',\n",
       " 'whispers',\n",
       " 'That',\n",
       " 'prove',\n",
       " 'she',\n",
       " 'was',\n",
       " 'not',\n",
       " 'in',\n",
       " 'fact',\n",
       " 'what',\n",
       " 'she',\n",
       " 'seemed',\n",
       " 'Not',\n",
       " 'a',\n",
       " 'twin',\n",
       " 'from',\n",
       " 'your',\n",
       " 'dreams',\n",
       " \"She's\",\n",
       " 'a',\n",
       " 'crook',\n",
       " 'who',\n",
       " 'was',\n",
       " 'caught',\n",
       " 'That',\n",
       " 'old',\n",
       " 'familiar',\n",
       " 'body',\n",
       " 'ache',\n",
       " 'The',\n",
       " 'snaps',\n",
       " 'from',\n",
       " 'the',\n",
       " 'same',\n",
       " 'little',\n",
       " 'breaks',\n",
       " 'in',\n",
       " 'your',\n",
       " 'soul',\n",
       " 'You',\n",
       " 'know',\n",
       " 'when',\n",
       " \"it's\",\n",
       " 'time',\n",
       " 'to',\n",
       " 'go',\n",
       " 'Twenty',\n",
       " 'years',\n",
       " 'at',\n",
       " 'your',\n",
       " 'job',\n",
       " 'Then',\n",
       " 'the',\n",
       " 'son',\n",
       " 'of',\n",
       " 'the',\n",
       " 'boss',\n",
       " 'gets',\n",
       " 'the',\n",
       " 'spot',\n",
       " 'that',\n",
       " 'was',\n",
       " 'yours',\n",
       " 'Or',\n",
       " 'trying',\n",
       " 'to',\n",
       " 'stay',\n",
       " 'for',\n",
       " 'the',\n",
       " 'kids',\n",
       " 'When',\n",
       " 'keeping',\n",
       " 'it',\n",
       " 'how',\n",
       " 'it',\n",
       " 'is',\n",
       " 'will',\n",
       " 'only',\n",
       " 'break',\n",
       " 'their',\n",
       " 'hearts',\n",
       " 'worse',\n",
       " 'That',\n",
       " 'old',\n",
       " 'familiar',\n",
       " 'body',\n",
       " 'ache',\n",
       " 'The',\n",
       " 'snaps',\n",
       " 'from',\n",
       " 'the',\n",
       " 'same',\n",
       " 'little',\n",
       " 'breaks',\n",
       " 'in',\n",
       " 'your',\n",
       " 'soul',\n",
       " 'You',\n",
       " 'know',\n",
       " 'when',\n",
       " \"it's\",\n",
       " 'time',\n",
       " 'to',\n",
       " 'go',\n",
       " 'Sometimes',\n",
       " 'giving',\n",
       " 'up',\n",
       " 'is',\n",
       " 'the',\n",
       " 'strong',\n",
       " 'thing',\n",
       " 'Sometimes',\n",
       " 'to',\n",
       " 'run',\n",
       " 'is',\n",
       " 'the',\n",
       " 'brave',\n",
       " 'thing',\n",
       " 'Sometimes',\n",
       " 'walking',\n",
       " 'out',\n",
       " 'is',\n",
       " 'the',\n",
       " 'one',\n",
       " 'thing',\n",
       " 'That',\n",
       " 'will',\n",
       " 'find',\n",
       " 'you',\n",
       " 'the',\n",
       " 'right',\n",
       " 'thing',\n",
       " 'Sometimes',\n",
       " 'giving',\n",
       " 'up',\n",
       " 'is',\n",
       " 'the',\n",
       " 'strong',\n",
       " 'thing',\n",
       " 'Sometimes',\n",
       " 'to',\n",
       " 'run',\n",
       " 'is',\n",
       " 'the',\n",
       " 'brave',\n",
       " 'thing',\n",
       " 'Sometimes',\n",
       " 'walking',\n",
       " 'out',\n",
       " 'is',\n",
       " 'the',\n",
       " 'one',\n",
       " 'thing',\n",
       " 'That',\n",
       " 'will',\n",
       " 'find',\n",
       " 'you',\n",
       " 'the',\n",
       " 'right',\n",
       " 'thing',\n",
       " 'Fifteen',\n",
       " 'years,',\n",
       " 'fifteen',\n",
       " 'million',\n",
       " 'tears',\n",
       " 'Begging',\n",
       " \"'til\",\n",
       " 'my',\n",
       " 'knees',\n",
       " 'bled',\n",
       " 'I',\n",
       " 'gave',\n",
       " 'it',\n",
       " 'my',\n",
       " 'all,',\n",
       " 'he',\n",
       " 'gave',\n",
       " 'me',\n",
       " 'nothing',\n",
       " 'at',\n",
       " 'all',\n",
       " 'Then',\n",
       " 'wondered',\n",
       " 'why',\n",
       " 'I',\n",
       " 'left',\n",
       " 'Now',\n",
       " 'he',\n",
       " 'sits',\n",
       " 'on',\n",
       " 'his',\n",
       " 'throne',\n",
       " 'in',\n",
       " 'his',\n",
       " 'palace',\n",
       " 'of',\n",
       " 'bones',\n",
       " 'Praying',\n",
       " 'to',\n",
       " 'his',\n",
       " 'greed',\n",
       " \"He's\",\n",
       " 'got',\n",
       " 'my',\n",
       " 'past',\n",
       " 'frozen',\n",
       " 'behind',\n",
       " 'glass',\n",
       " 'But',\n",
       " \"I've\",\n",
       " 'got',\n",
       " 'me',\n",
       " 'That',\n",
       " 'old',\n",
       " 'familiar',\n",
       " 'body',\n",
       " 'ache',\n",
       " 'The',\n",
       " 'snaps',\n",
       " 'from',\n",
       " 'the',\n",
       " 'same',\n",
       " 'little',\n",
       " 'breaks',\n",
       " 'in',\n",
       " 'my',\n",
       " 'soul',\n",
       " 'I',\n",
       " 'know',\n",
       " 'when',\n",
       " \"it's\",\n",
       " 'time',\n",
       " 'to',\n",
       " 'go',\n",
       " 'Sometimes',\n",
       " 'giving',\n",
       " 'up',\n",
       " 'is',\n",
       " 'the',\n",
       " 'strong',\n",
       " 'thing',\n",
       " 'Sometimes',\n",
       " 'to',\n",
       " 'run',\n",
       " 'is',\n",
       " 'the',\n",
       " 'brave',\n",
       " 'thing',\n",
       " 'Sometimes',\n",
       " 'walking',\n",
       " 'out',\n",
       " 'is',\n",
       " 'the',\n",
       " 'one',\n",
       " 'thing',\n",
       " 'That',\n",
       " 'will',\n",
       " 'find',\n",
       " 'you',\n",
       " 'the',\n",
       " 'right',\n",
       " 'thing',\n",
       " 'Sometimes',\n",
       " 'giving',\n",
       " 'up',\n",
       " 'is',\n",
       " 'the',\n",
       " 'strong',\n",
       " 'thing',\n",
       " 'Sometimes',\n",
       " 'to',\n",
       " 'run',\n",
       " 'is',\n",
       " 'the',\n",
       " 'brave',\n",
       " 'thing',\n",
       " 'Sometimes',\n",
       " 'walking',\n",
       " 'out',\n",
       " 'is',\n",
       " 'the',\n",
       " 'one',\n",
       " 'thing',\n",
       " 'That',\n",
       " 'will',\n",
       " 'find',\n",
       " 'you',\n",
       " 'the',\n",
       " 'right',\n",
       " 'thing',\n",
       " 'That',\n",
       " 'will',\n",
       " 'find',\n",
       " 'you',\n",
       " 'the',\n",
       " 'right',\n",
       " 'thing',\n",
       " 'And',\n",
       " 'you',\n",
       " 'know',\n",
       " 'in',\n",
       " 'your',\n",
       " 'soul',\n",
       " 'You',\n",
       " 'know',\n",
       " 'in',\n",
       " 'your',\n",
       " 'soul',\n",
       " 'When',\n",
       " \"it's\",\n",
       " 'time',\n",
       " 'to',\n",
       " 'go',\n",
       " 'You',\n",
       " 'know,',\n",
       " 'you',\n",
       " 'know,',\n",
       " 'you',\n",
       " 'know,',\n",
       " 'you',\n",
       " 'know',\n",
       " 'When',\n",
       " \"it's\",\n",
       " 'time',\n",
       " 'to',\n",
       " 'go',\n",
       " 'So',\n",
       " 'then',\n",
       " 'you',\n",
       " 'go',\n",
       " 'Then',\n",
       " 'you',\n",
       " 'go',\n",
       " 'You',\n",
       " 'just',\n",
       " 'go']"
      ]
     },
     "execution_count": 12,
     "metadata": {},
     "output_type": "execute_result"
    }
   ],
   "source": [
    "#Separating Words Into Singular Words#\n",
    "TaylorWords = tracklyrics.split()\n",
    "TaylorWords"
   ]
  },
  {
   "cell_type": "code",
   "execution_count": 14,
   "id": "1c770201",
   "metadata": {},
   "outputs": [],
   "source": [
    "#Creating a Dictionary to store the amount of time each word is used in a song#\n",
    "Dictionary_Taylor = {}\n",
    "for taylor in TaylorWords:\n",
    "    Dictionary_Taylor[taylor] = TaylorWords.count(taylor)"
   ]
  },
  {
   "cell_type": "code",
   "execution_count": 15,
   "id": "15f27307",
   "metadata": {},
   "outputs": [
    {
     "name": "stdout",
     "output_type": "stream",
     "text": [
      "{'When': 5, 'the': 28, 'dinner': 1, 'is': 14, 'cold': 1, 'and': 1, 'chatter': 1, 'gets': 2, 'old': 4, 'You': 6, 'ask': 1, 'for': 2, 'tab': 1, 'Or': 2, 'that': 4, 'moment': 1, 'again,': 1, \"he's\": 1, 'insisting': 1, 'friends': 1, 'Look': 1, 'at': 3, 'each': 1, 'other': 1, 'like': 1, 'words': 1, 'of': 3, 'a': 3, 'sister': 1, 'come': 1, 'back': 1, 'in': 8, 'whispers': 1, 'That': 9, 'prove': 1, 'she': 2, 'was': 3, 'not': 1, 'fact': 1, 'what': 1, 'seemed': 1, 'Not': 1, 'twin': 1, 'from': 4, 'your': 6, 'dreams': 1, \"She's\": 1, 'crook': 1, 'who': 1, 'caught': 1, 'familiar': 3, 'body': 3, 'ache': 3, 'The': 3, 'snaps': 3, 'same': 3, 'little': 3, 'breaks': 3, 'soul': 5, 'know': 6, 'when': 3, \"it's\": 5, 'time': 5, 'to': 11, 'go': 8, 'Twenty': 1, 'years': 1, 'job': 1, 'Then': 3, 'son': 1, 'boss': 1, 'spot': 1, 'yours': 1, 'trying': 1, 'stay': 1, 'kids': 1, 'keeping': 1, 'it': 3, 'how': 1, 'will': 6, 'only': 1, 'break': 1, 'their': 1, 'hearts': 1, 'worse': 1, 'Sometimes': 12, 'giving': 4, 'up': 4, 'strong': 4, 'thing': 17, 'run': 4, 'brave': 4, 'walking': 4, 'out': 4, 'one': 4, 'find': 5, 'you': 11, 'right': 5, 'Fifteen': 1, 'years,': 1, 'fifteen': 1, 'million': 1, 'tears': 1, 'Begging': 1, \"'til\": 1, 'my': 4, 'knees': 1, 'bled': 1, 'I': 3, 'gave': 2, 'all,': 1, 'he': 2, 'me': 2, 'nothing': 1, 'all': 1, 'wondered': 1, 'why': 1, 'left': 1, 'Now': 1, 'sits': 1, 'on': 1, 'his': 3, 'throne': 1, 'palace': 1, 'bones': 1, 'Praying': 1, 'greed': 1, \"He's\": 1, 'got': 2, 'past': 1, 'frozen': 1, 'behind': 1, 'glass': 1, 'But': 1, \"I've\": 1, 'And': 1, 'know,': 3, 'So': 1, 'then': 1, 'just': 1}\n"
     ]
    }
   ],
   "source": [
    "print(Dictionary_Taylor)"
   ]
  },
  {
   "cell_type": "code",
   "execution_count": 28,
   "id": "f959b7fa",
   "metadata": {},
   "outputs": [
    {
     "data": {
      "text/plain": [
       "6"
      ]
     },
     "execution_count": 28,
     "metadata": {},
     "output_type": "execute_result"
    }
   ],
   "source": [
    "#Examples of Fetching Words#\n",
    "Dictionary_Taylor.get(\"You\", 0)"
   ]
  },
  {
   "cell_type": "code",
   "execution_count": 17,
   "id": "7f54a6b0",
   "metadata": {},
   "outputs": [
    {
     "data": {
      "text/plain": [
       "4"
      ]
     },
     "execution_count": 17,
     "metadata": {},
     "output_type": "execute_result"
    }
   ],
   "source": [
    "Dictionary_Taylor.get(\"old\", 0)"
   ]
  },
  {
   "cell_type": "code",
   "execution_count": 18,
   "id": "39100e0f",
   "metadata": {},
   "outputs": [
    {
     "data": {
      "text/plain": [
       "5"
      ]
     },
     "execution_count": 18,
     "metadata": {},
     "output_type": "execute_result"
    }
   ],
   "source": [
    "#Question 1 of Question 3#\n",
    "Dictionary_Taylor.get(\"When\", 0)"
   ]
  },
  {
   "cell_type": "code",
   "execution_count": 19,
   "id": "c8e5b7e3",
   "metadata": {},
   "outputs": [
    {
     "data": {
      "text/plain": [
       "6"
      ]
     },
     "execution_count": 19,
     "metadata": {},
     "output_type": "execute_result"
    }
   ],
   "source": [
    "Dictionary_Taylor.get(\"your\", 0)"
   ]
  },
  {
   "cell_type": "code",
   "execution_count": 20,
   "id": "25bd8101",
   "metadata": {},
   "outputs": [],
   "source": [
    "#Question 2 of Question 3#\n"
   ]
  },
  {
   "cell_type": "code",
   "execution_count": null,
   "id": "155dd20f",
   "metadata": {},
   "outputs": [],
   "source": []
  },
  {
   "cell_type": "code",
   "execution_count": 21,
   "id": "860bc3c8",
   "metadata": {},
   "outputs": [
    {
     "data": {
      "text/plain": [
       "10"
      ]
     },
     "execution_count": 21,
     "metadata": {},
     "output_type": "execute_result"
    }
   ],
   "source": [
    "#Question 3 of Question 3#\n",
    "TaylorTotal = Dictionary_Taylor['You'] + Dictionary_Taylor['old']\n",
    "TaylorTotal"
   ]
  },
  {
   "cell_type": "code",
   "execution_count": 25,
   "id": "c47bc831",
   "metadata": {},
   "outputs": [
    {
     "data": {
      "text/plain": [
       "0.7059883203405117"
      ]
     },
     "execution_count": 25,
     "metadata": {},
     "output_type": "execute_result"
    }
   ],
   "source": [
    "# 9 tracks therefore equals mu=9#\n",
    "poisson.cdf(k=TaylorTotal, mu=9).sum()"
   ]
  },
  {
   "cell_type": "markdown",
   "id": "e365c9db",
   "metadata": {},
   "source": [
    "<h1>Question 4 of Question 3</h1>\n",
    "<p>Setting K to 2 for words being sung at most 2 times</p>\n",
    "<p>Setting mu to equal TaylorTotal to check for words being sung at most 2 times</p>"
   ]
  },
  {
   "cell_type": "code",
   "execution_count": 26,
   "id": "c25c5fbf",
   "metadata": {},
   "outputs": [
    {
     "data": {
      "text/plain": [
       "0.0027693957155115775"
      ]
     },
     "execution_count": 26,
     "metadata": {},
     "output_type": "execute_result"
    }
   ],
   "source": [
    "#Getting the total number of times the words were sung at most 2 times#\n",
    "poisson.cdf(k=2, mu=TaylorTotal).sum()"
   ]
  }
 ],
 "metadata": {
  "kernelspec": {
   "display_name": "Python 3 (ipykernel)",
   "language": "python",
   "name": "python3"
  },
  "language_info": {
   "codemirror_mode": {
    "name": "ipython",
    "version": 3
   },
   "file_extension": ".py",
   "mimetype": "text/x-python",
   "name": "python",
   "nbconvert_exporter": "python",
   "pygments_lexer": "ipython3",
   "version": "3.9.7"
  }
 },
 "nbformat": 4,
 "nbformat_minor": 5
}
